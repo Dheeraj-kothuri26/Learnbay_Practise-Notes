{
 "cells": [
  {
   "cell_type": "markdown",
   "id": "2da0cbf9-9c87-44e8-b7a4-963208ba07d0",
   "metadata": {},
   "source": [
    "# Introduction"
   ]
  },
  {
   "cell_type": "code",
   "execution_count": null,
   "id": "54278eba-d2f3-496f-99e2-f65dc23035f2",
   "metadata": {},
   "outputs": [],
   "source": [
    "# 1- Introduction\n",
    "# 2- Datatypes\n",
    "# 3- Typecasting\n",
    "# 4- Keywords, Identifiers and Input/ Output Functions\n",
    "# 5- Operators\n",
    "# 6- String\n",
    "# 7- Conditional Statements\n",
    "# 8- Loops\n",
    "# 9- List\n",
    "# 10- Tuple\n",
    "# 11- Dictionary\n",
    "# 12- Functions\n",
    "# 13- Modules\n",
    "# 14- File Handling\n",
    "# 15- Exception Handling\n",
    "# 16- Iterators and Generators\n",
    "# 17- Regex\n",
    "# 18- Numpy (2 classes)\n",
    "# 19- Pandas (3 classes)\n",
    "# 20- Matplotlib (1 class)\n",
    "# 21- Seaborn (1 class)\n",
    "# 22- Case Study"
   ]
  },
  {
   "cell_type": "code",
   "execution_count": null,
   "id": "1676a5c5-e679-4fe3-933f-1c397b521d4c",
   "metadata": {},
   "outputs": [],
   "source": []
  },
  {
   "cell_type": "markdown",
   "id": "bf6140c3-cbb5-404f-b6b9-14992743c266",
   "metadata": {},
   "source": [
    "#- Heading kaise paaye\n",
    "1. TEXT LIKHE\n",
    "2.USKE PEHLE '# ' LAGAYE\n",
    "3.PHIR KUCH NEELA RANG KA TEXT AAYEGA TO USKO RUN KIJIYE.\n",
    "4.APKA HEADING TAIYAAR HAI.\n"
   ]
  },
  {
   "cell_type": "markdown",
   "id": "be1caa73-21c4-4edb-a89d-035d389e9bc3",
   "metadata": {},
   "source": [
    "code par apka coding ka kaam hoga aur markdown par text ka kaam hoga."
   ]
  },
  {
   "cell_type": "code",
   "execution_count": null,
   "id": "43f44d5c-6744-490c-82a1-3bebca6d0de1",
   "metadata": {},
   "outputs": [],
   "source": [
    "to get a cell in a command mode - press that editing cell(jo cell par cursor blink kar rha hai)"
   ]
  },
  {
   "cell_type": "markdown",
   "id": "05f73676-3b18-4292-a0a7-d40489af15bf",
   "metadata": {},
   "source": [
    "#- JJSJS(Comment format)\n",
    "TExt(markdown format)"
   ]
  },
  {
   "cell_type": "markdown",
   "id": "4b5ef8d7-820d-4568-9a97-94515fc961b2",
   "metadata": {},
   "source": [
    "# twww"
   ]
  },
  {
   "cell_type": "markdown",
   "id": "b99f5ea8-c152-4b0c-b0bb-9d0a5a0bc856",
   "metadata": {},
   "source": [
    "## twwe"
   ]
  },
  {
   "cell_type": "markdown",
   "id": "22b512aa-1f62-4338-b832-e58508acf79a",
   "metadata": {},
   "source": [
    "### teew"
   ]
  },
  {
   "cell_type": "markdown",
   "id": "8d84da17-68ed-444d-a4a8-5bee4a5e3360",
   "metadata": {},
   "source": [
    "#### twwe"
   ]
  },
  {
   "cell_type": "markdown",
   "id": "0f9907de-4322-41db-90b6-52d69394d5fc",
   "metadata": {},
   "source": [
    "##### teew"
   ]
  },
  {
   "cell_type": "markdown",
   "id": "f8bba5a2-f99a-48c0-880a-a116bf678b7e",
   "metadata": {},
   "source": [
    "#- h6\n",
    "##- h5\n",
    "###- h4\n",
    "####- h3\n",
    "#####- h2\n",
    "######- h1\n",
    "\n"
   ]
  },
  {
   "cell_type": "markdown",
   "id": "3d08fd87-170b-477b-ba1d-210cf5c8ca27",
   "metadata": {},
   "source": [
    "for further refrence - https://commonmark.org/help/"
   ]
  },
  {
   "cell_type": "markdown",
   "id": "e6b98827-f825-4fa1-af5e-36bb8cb0c7d7",
   "metadata": {},
   "source": [
    "# Shortcut Keys"
   ]
  },
  {
   "cell_type": "code",
   "execution_count": null,
   "id": "848b0113-688d-47b7-a6da-a62bbdee32d0",
   "metadata": {},
   "outputs": [],
   "source": [
    "shift + enter = to execute the cell"
   ]
  },
  {
   "cell_type": "code",
   "execution_count": 1,
   "id": "09598287-b947-4722-8a66-fc350c3b6066",
   "metadata": {},
   "outputs": [
    {
     "name": "stdout",
     "output_type": "stream",
     "text": [
      "heelo weooo\n"
     ]
    }
   ],
   "source": [
    "print(\"heelo weooo\")"
   ]
  },
  {
   "cell_type": "code",
   "execution_count": null,
   "id": "185bad49-e704-4b04-b7f7-1a2b50a5befb",
   "metadata": {},
   "outputs": [],
   "source": [
    "to add a cell above a particular cell- press a in command mode"
   ]
  },
  {
   "cell_type": "code",
   "execution_count": null,
   "id": "5a179553-c1ae-4dc2-8c5a-5d6e903d04bc",
   "metadata": {},
   "outputs": [],
   "source": [
    "print(\"added cell\")"
   ]
  },
  {
   "cell_type": "code",
   "execution_count": null,
   "id": "892963fb-db38-4d3f-8f83-d7c25a17d514",
   "metadata": {},
   "outputs": [],
   "source": [
    "print(\"current cell\")"
   ]
  },
  {
   "cell_type": "code",
   "execution_count": null,
   "id": "24bae2d6-5299-497c-9424-50929f71b8f1",
   "metadata": {},
   "outputs": [],
   "source": [
    "to add a cell below a particular cell- press b in command mode "
   ]
  },
  {
   "cell_type": "code",
   "execution_count": null,
   "id": "9c59fef3-abc8-4388-a72a-86d239551cad",
   "metadata": {},
   "outputs": [],
   "source": [
    "print(\"current cell\")"
   ]
  },
  {
   "cell_type": "code",
   "execution_count": null,
   "id": "9bd30f78-467f-433a-928e-5fcfc962b967",
   "metadata": {},
   "outputs": [],
   "source": [
    "print(\"added cell\")"
   ]
  },
  {
   "cell_type": "code",
   "execution_count": null,
   "id": "522afc1f-4aa9-4104-9e83-f1b052759cbc",
   "metadata": {},
   "outputs": [],
   "source": [
    "to delete a cell - press x in command mode"
   ]
  },
  {
   "cell_type": "markdown",
   "id": "b991170c-af42-4f2c-ba32-4345413b5d7d",
   "metadata": {},
   "source": [
    "to convert a cell into a markdown - press m in command mode"
   ]
  },
  {
   "cell_type": "code",
   "execution_count": null,
   "id": "7c0f7fee-056c-4706-a554-ecf2547af037",
   "metadata": {},
   "outputs": [],
   "source": [
    "programming language-computer ko command dene ka language taki wo hmra diya hua kaam kr sake"
   ]
  },
  {
   "cell_type": "code",
   "execution_count": null,
   "id": "90706b58-37ff-4322-b1da-29275b6a6470",
   "metadata": {},
   "outputs": [],
   "source": [
    "programming -computer ko command dene ka process taki wo hmra diya hua kaam kr sake"
   ]
  },
  {
   "cell_type": "code",
   "execution_count": null,
   "id": "3f7ecee8-e60d-44a5-b535-234db8f17ff9",
   "metadata": {},
   "outputs": [],
   "source": [
    "translator- ek language to dossre language mein batana\n",
    "types\n",
    "compiler-ek hi baar mein machine code par badalna\n",
    "interpreter-line by line machine code par badalna"
   ]
  },
  {
   "cell_type": "markdown",
   "id": "65e2cb6f-dbca-4093-a8f9-321a53c7484f",
   "metadata": {},
   "source": [
    "# kaise python execute hota"
   ]
  },
  {
   "cell_type": "code",
   "execution_count": null,
   "id": "0969ec4c-f8d7-466c-876f-b14e401ca8f7",
   "metadata": {},
   "outputs": [],
   "source": [
    "pehle source code likhta(jo programmmer likhta hai aur extension hai .py)"
   ]
  },
  {
   "cell_type": "code",
   "execution_count": null,
   "id": "abc915a5-f6e2-417d-b1cd-7780c9767dbf",
   "metadata": {},
   "outputs": [],
   "source": [
    "fir wahi code ko compiler execute karta hai, agar wo code galat nikalta hai to usse correct karna hoga warna wo intermediate code par convert ho\n",
    "jayega(extension hai .pyc)"
   ]
  },
  {
   "cell_type": "code",
   "execution_count": null,
   "id": "d7b76ebb-2e17-45ae-aa7c-e8385fa15152",
   "metadata": {},
   "outputs": [],
   "source": [
    "fir ab interpreter wahi intermediate code ko machine code par convert karega."
   ]
  },
  {
   "cell_type": "markdown",
   "id": "2c8a1235-a7b1-46bb-acba-354c4958874f",
   "metadata": {},
   "source": [
    "### Source code"
   ]
  },
  {
   "cell_type": "markdown",
   "id": "d52a91dc-c27b-4992-aa00-8dd8b72f4e29",
   "metadata": {},
   "source": [
    "**programmer dwara** likha jata hai.extension **.py** hai."
   ]
  },
  {
   "cell_type": "markdown",
   "id": "21b1fefb-cca0-42ee-b5bf-56597cb903ca",
   "metadata": {},
   "source": [
    "### Intermediate code"
   ]
  },
  {
   "cell_type": "markdown",
   "id": "d2d1bb89-6b87-4229-9021-16476319319b",
   "metadata": {},
   "source": [
    "**compiler isme role** nibata hai,yeh pehle code ko read karega(poora), agar usme se koi error aayega  fir ye intermediate code generate nahi karega,agar koi error nahi hai fir wo intermediate code generate karega. aur isse hum  **byte code** bhi bolte hain. extension **.pyc** hain."
   ]
  },
  {
   "cell_type": "markdown",
   "id": "efb827b6-efb1-4864-ad4f-68545b644fb3",
   "metadata": {},
   "source": [
    "### Machine code"
   ]
  },
  {
   "cell_type": "markdown",
   "id": "fed5906c-baf3-4009-9356-e615bbb4f913",
   "metadata": {},
   "source": [
    "fir iske baad **interpreter** ka role aata hai,pehle woh saara byte code ko line by line read karega fir agar usme bhi koi error aata hai toh apna execution stop kardega aur partial output dikhayega."
   ]
  },
  {
   "cell_type": "markdown",
   "id": "9c5563f4-be75-4b61-a059-3a29197c2df2",
   "metadata": {},
   "source": [
    "## Types of Errors"
   ]
  },
  {
   "cell_type": "markdown",
   "id": "d894b42d-257a-4d70-81ce-db0eebf81075",
   "metadata": {},
   "source": [
    " ### compile time error"
   ]
  },
  {
   "cell_type": "code",
   "execution_count": null,
   "id": "c5e2c668-76a4-48b4-9c13-45b32a43125f",
   "metadata": {},
   "outputs": [],
   "source": [
    "compilation time mein error aaya aur compiler ise catch karega."
   ]
  },
  {
   "cell_type": "markdown",
   "id": "01e9bd11-9bde-40ac-91df-1be028e3e43c",
   "metadata": {},
   "source": [
    "#### types"
   ]
  },
  {
   "cell_type": "code",
   "execution_count": null,
   "id": "7e549072-b532-4942-8898-c60ac3a600df",
   "metadata": {},
   "outputs": [],
   "source": [
    "# - 1- Syntax error\n",
    "# - 2- Indentation error"
   ]
  },
  {
   "cell_type": "markdown",
   "id": "de805cad-14a3-4ead-9f73-e87ff6e59b99",
   "metadata": {},
   "source": [
    "#### run time error"
   ]
  },
  {
   "cell_type": "code",
   "execution_count": null,
   "id": "83f83973-d4c8-4e24-8cf5-eac494d66094",
   "metadata": {},
   "outputs": [],
   "source": [
    "execution phase par error hota hai,interpreter responsible hai."
   ]
  },
  {
   "cell_type": "code",
   "execution_count": null,
   "id": "9f0d013f-e69a-46ad-82ad-fe01e99d04b2",
   "metadata": {},
   "outputs": [],
   "source": [
    "# - 1- Name error\n",
    "# - 2- Type error\n",
    "# - 3- Value error\n",
    "# - 4- Index error\n",
    "# - 5- Key error\n",
    "# - 6- Zero division error\n",
    "# - 7- Attribute error\n",
    "# - 8- File not found error\n",
    "# etc."
   ]
  }
 ],
 "metadata": {
  "kernelspec": {
   "display_name": "Python 3 (ipykernel)",
   "language": "python",
   "name": "python3"
  },
  "language_info": {
   "codemirror_mode": {
    "name": "ipython",
    "version": 3
   },
   "file_extension": ".py",
   "mimetype": "text/x-python",
   "name": "python",
   "nbconvert_exporter": "python",
   "pygments_lexer": "ipython3",
   "version": "3.12.3"
  }
 },
 "nbformat": 4,
 "nbformat_minor": 5
}
