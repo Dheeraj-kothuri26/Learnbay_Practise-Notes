{
 "cells": [
  {
   "cell_type": "markdown",
   "id": "0edebc9d-999c-4435-8ca0-07876fe1ed81",
   "metadata": {},
   "source": [
    "# ***DataTypes***"
   ]
  },
  {
   "cell_type": "markdown",
   "id": "e29fa940-0250-4e29-ac8a-cf3782729e4e",
   "metadata": {},
   "source": [
    " Data vibhinn prakae ke hote hai jinse operation perform karwake hum apna required result le sakte hain."
   ]
  },
  {
   "cell_type": "markdown",
   "id": "9cd565e3-c333-45e9-9399-8708b5be1b9e",
   "metadata": {},
   "source": [
    "## Types of Data"
   ]
  },
  {
   "cell_type": "markdown",
   "id": "16e37050-d8a3-4b47-9103-85e668e8ef02",
   "metadata": {},
   "source": [
    "### 1.Primitive"
   ]
  },
  {
   "cell_type": "markdown",
   "id": "412a9607-988c-4452-b2d1-13f2a5d29cb7",
   "metadata": {},
   "source": [
    "#### Integer-int"
   ]
  },
  {
   "cell_type": "code",
   "execution_count": null,
   "id": "76f89d8e-134d-469c-945d-30bed741b93c",
   "metadata": {},
   "outputs": [],
   "source": [
    "+ve,-ve or zero hai integers\n",
    "type(value)- Data ka type return karega"
   ]
  },
  {
   "cell_type": "code",
   "execution_count": 1,
   "id": "95b48640-c8d8-4a55-aa4c-b105839e00fe",
   "metadata": {},
   "outputs": [
    {
     "name": "stdout",
     "output_type": "stream",
     "text": [
      "0 <class 'int'>\n",
      "-22 <class 'int'>\n",
      "22 <class 'int'>\n"
     ]
    }
   ],
   "source": [
    "a=0\n",
    "b=-22\n",
    "c=22\n",
    "print(a, type(a))\n",
    "print(b, type(b))\n",
    "print(c, type(c))"
   ]
  },
  {
   "cell_type": "markdown",
   "id": "3773ef63-f347-425d-ae29-4241b212139f",
   "metadata": {},
   "source": [
    "#### Float-float"
   ]
  },
  {
   "cell_type": "code",
   "execution_count": null,
   "id": "0932a194-babe-4b60-9577-7058ea00e96d",
   "metadata": {},
   "outputs": [],
   "source": [
    "+ve,-ve or zero(with decimal value) are float numbers"
   ]
  },
  {
   "cell_type": "code",
   "execution_count": 4,
   "id": "889654df-6609-4589-9c4c-6b0ab526758e",
   "metadata": {},
   "outputs": [
    {
     "name": "stdout",
     "output_type": "stream",
     "text": [
      "2.4 <class 'float'>\n",
      "-3.3 <class 'float'>\n",
      "0.0 <class 'float'>\n"
     ]
    }
   ],
   "source": [
    "a=2.4\n",
    "b=-3.3\n",
    "c=0.0\n",
    "print(a, type(a))\n",
    "print(b, type(b))\n",
    "print(c, type(c))"
   ]
  },
  {
   "cell_type": "markdown",
   "id": "061d8ed7-ec0f-4491-8969-a73309a5ca0d",
   "metadata": {},
   "source": [
    "#### Complex-complex"
   ]
  },
  {
   "cell_type": "code",
   "execution_count": null,
   "id": "d28d8161-19bb-4e04-a2a6-451a1aa44246",
   "metadata": {},
   "outputs": [],
   "source": [
    "koi bhi number a+bj ke form mein ho toh complex number hain\n",
    "a=real part\n",
    "b=imaginary part"
   ]
  },
  {
   "cell_type": "code",
   "execution_count": 6,
   "id": "83a3fc1a-9507-4c6d-9f1e-127836d9c6ba",
   "metadata": {},
   "outputs": [
    {
     "data": {
      "text/plain": [
       "2.0"
      ]
     },
     "execution_count": 6,
     "metadata": {},
     "output_type": "execute_result"
    }
   ],
   "source": [
    "a=2+6j\n",
    "a.real"
   ]
  },
  {
   "cell_type": "code",
   "execution_count": 7,
   "id": "ecc1e0d8-94d0-4326-a966-d9990400e442",
   "metadata": {},
   "outputs": [
    {
     "data": {
      "text/plain": [
       "6.0"
      ]
     },
     "execution_count": 7,
     "metadata": {},
     "output_type": "execute_result"
    }
   ],
   "source": [
    "a.imag"
   ]
  },
  {
   "cell_type": "code",
   "execution_count": 8,
   "id": "cc0f9a98-3c76-49a6-88ab-6f9e01f97e60",
   "metadata": {},
   "outputs": [
    {
     "name": "stdout",
     "output_type": "stream",
     "text": [
      "(2+6j) <class 'complex'>\n"
     ]
    }
   ],
   "source": [
    "print(a, type(a))"
   ]
  },
  {
   "cell_type": "code",
   "execution_count": 9,
   "id": "9353190b-f959-4479-8458-7d4de73a92c6",
   "metadata": {},
   "outputs": [
    {
     "data": {
      "text/plain": [
       "0.0"
      ]
     },
     "execution_count": 9,
     "metadata": {},
     "output_type": "execute_result"
    }
   ],
   "source": [
    "b = 4j\n",
    "b.real"
   ]
  },
  {
   "cell_type": "code",
   "execution_count": 10,
   "id": "55b74bef-6507-43c4-8671-9c1c6d5f198f",
   "metadata": {},
   "outputs": [
    {
     "data": {
      "text/plain": [
       "4.0"
      ]
     },
     "execution_count": 10,
     "metadata": {},
     "output_type": "execute_result"
    }
   ],
   "source": [
    "b.imag"
   ]
  },
  {
   "cell_type": "code",
   "execution_count": 11,
   "id": "d4838abb-9116-4087-a1ff-262745542f0a",
   "metadata": {},
   "outputs": [
    {
     "data": {
      "text/plain": [
       "3"
      ]
     },
     "execution_count": 11,
     "metadata": {},
     "output_type": "execute_result"
    }
   ],
   "source": [
    "c=3\n",
    "c.real"
   ]
  },
  {
   "cell_type": "code",
   "execution_count": 12,
   "id": "7c7544d6-7655-4c49-a0af-177b1b6dfcb7",
   "metadata": {},
   "outputs": [
    {
     "data": {
      "text/plain": [
       "0"
      ]
     },
     "execution_count": 12,
     "metadata": {},
     "output_type": "execute_result"
    }
   ],
   "source": [
    "c.imag"
   ]
  },
  {
   "cell_type": "code",
   "execution_count": 13,
   "id": "aef88a1a-7e83-4acb-90dc-85b675007c7b",
   "metadata": {},
   "outputs": [
    {
     "name": "stdout",
     "output_type": "stream",
     "text": [
      "3 <class 'int'>\n"
     ]
    }
   ],
   "source": [
    "print(c, type(c))"
   ]
  },
  {
   "cell_type": "markdown",
   "id": "535d84cb-a065-4d28-a0d6-d0fa30bdf87e",
   "metadata": {},
   "source": [
    "x^2^"
   ]
  },
  {
   "cell_type": "code",
   "execution_count": 14,
   "id": "ae29eeaa-af9e-4f0b-83f9-f931acf763fc",
   "metadata": {},
   "outputs": [
    {
     "data": {
      "text/plain": [
       "6.324555320336759"
      ]
     },
     "execution_count": 14,
     "metadata": {},
     "output_type": "execute_result"
    }
   ],
   "source": [
    "(2**2+6**2)**.5"
   ]
  },
  {
   "cell_type": "code",
   "execution_count": 15,
   "id": "c588ef53-19f1-4ffe-98c6-f158f5074377",
   "metadata": {},
   "outputs": [
    {
     "name": "stdout",
     "output_type": "stream",
     "text": [
      "6.324555320336759\n"
     ]
    }
   ],
   "source": [
    "print(abs(a))"
   ]
  },
  {
   "cell_type": "markdown",
   "id": "c2078744-d2df-428c-a107-fa9e9b90ae3e",
   "metadata": {},
   "source": [
    "#### String-str"
   ]
  },
  {
   "cell_type": "code",
   "execution_count": null,
   "id": "4fbdd813-8664-46f2-8700-71c348b120c3",
   "metadata": {},
   "outputs": [],
   "source": [
    "koi bhi character jo ki '',\" \",\"\"\" \"\"\", ke andar ho to wo string kehlata hai.\n"
   ]
  },
  {
   "cell_type": "code",
   "execution_count": 17,
   "id": "d2d7b710-3222-485f-b7ab-6a229b3ed8a8",
   "metadata": {},
   "outputs": [
    {
     "name": "stdout",
     "output_type": "stream",
     "text": [
      "33 <class 'str'>\n",
      "44 <class 'str'>\n",
      "puppy's singh <class 'str'>\n"
     ]
    }
   ],
   "source": [
    "a='33'\n",
    "b=\"44\"\n",
    "c=\"puppy's singh\"\n",
    "print(a, type(a))\n",
    "print(b, type(b))\n",
    "print(c, type(c))"
   ]
  },
  {
   "cell_type": "code",
   "execution_count": 18,
   "id": "78468582-80d0-4416-82c4-cafd4dacda55",
   "metadata": {},
   "outputs": [
    {
     "name": "stdout",
     "output_type": "stream",
     "text": [
      "This is \"Python\" tutorial <class 'str'>\n"
     ]
    }
   ],
   "source": [
    "c='This is \"Python\" tutorial'\n",
    "print(c, type(c))"
   ]
  },
  {
   "cell_type": "code",
   "execution_count": 19,
   "id": "64a3fdd8-2606-4948-99e3-40397613fdbf",
   "metadata": {},
   "outputs": [
    {
     "name": "stdout",
     "output_type": "stream",
     "text": [
      "this is python tutorial\n",
      "   and i need to pay attention to it <class 'str'>\n"
     ]
    }
   ],
   "source": [
    "a='''this is python tutorial\n",
    "   and i need to pay attention to it'''\n",
    "print(a, type(a))"
   ]
  },
  {
   "cell_type": "code",
   "execution_count": 21,
   "id": "75bd4366-6565-4a3e-8e22-e7001a50e540",
   "metadata": {},
   "outputs": [
    {
     "name": "stdout",
     "output_type": "stream",
     "text": [
      "'this is python \n",
      "    basic tutorial' <class 'str'>\n"
     ]
    }
   ],
   "source": [
    "s=\"\"\"'this is python \n",
    "    basic tutorial'\"\"\"\n",
    "print(s, type(s))"
   ]
  },
  {
   "cell_type": "code",
   "execution_count": 22,
   "id": "9ee413ee-74c2-49fd-abe6-a5f2ef8ad21a",
   "metadata": {},
   "outputs": [
    {
     "name": "stdout",
     "output_type": "stream",
     "text": [
      "this is \"python basic tutorial\" <class 'str'>\n"
     ]
    }
   ],
   "source": [
    "s='''this is \"python basic tutorial\"'''\n",
    "print(s, type(s))"
   ]
  },
  {
   "cell_type": "markdown",
   "id": "a69f1186-b931-460e-a308-872c6d404a24",
   "metadata": {},
   "source": [
    "#### Boolean-bool"
   ]
  },
  {
   "cell_type": "code",
   "execution_count": null,
   "id": "bf01f025-841b-4c67-8434-f582671a8103",
   "metadata": {},
   "outputs": [],
   "source": [
    "Value yaa to true hoga ya to false."
   ]
  },
  {
   "cell_type": "code",
   "execution_count": 24,
   "id": "768edbea-ebc5-4159-90ea-651ae065c6ea",
   "metadata": {},
   "outputs": [
    {
     "name": "stdout",
     "output_type": "stream",
     "text": [
      "True <class 'bool'>\n",
      "False <class 'bool'>\n"
     ]
    }
   ],
   "source": [
    "a=True\n",
    "b=False\n",
    "print(a, type(a))\n",
    "print(b, type(b))"
   ]
  },
  {
   "cell_type": "markdown",
   "id": "59b0ae36-5490-44c1-8241-bad5e98e881d",
   "metadata": {},
   "source": [
    "#### NoneType"
   ]
  },
  {
   "cell_type": "code",
   "execution_count": null,
   "id": "c7df3434-c41c-40a3-b3e4-885c2aec8434",
   "metadata": {},
   "outputs": [],
   "source": [
    "value used is None\n",
    "missing values ko fill karna dataset par."
   ]
  },
  {
   "cell_type": "code",
   "execution_count": 26,
   "id": "c79cc16c-7aaa-418a-a4e8-bf94853705ac",
   "metadata": {},
   "outputs": [
    {
     "name": "stdout",
     "output_type": "stream",
     "text": [
      "None <class 'NoneType'>\n"
     ]
    }
   ],
   "source": [
    "a=None\n",
    "print(a, type(a))"
   ]
  },
  {
   "cell_type": "markdown",
   "id": "8d21e82d-6ea4-413c-a7b5-5344176de8be",
   "metadata": {},
   "source": [
    "### 2.Derived "
   ]
  },
  {
   "cell_type": "code",
   "execution_count": null,
   "id": "4bd07b79-9633-494d-84f0-2ec67c4ecfe6",
   "metadata": {},
   "outputs": [],
   "source": [
    "it was derived from primitive data type and it arranged in a specific fashion.it is a container that contains a multiple values."
   ]
  },
  {
   "cell_type": "code",
   "execution_count": 27,
   "id": "856d0876-b82b-46d0-8df0-edf6b77566e5",
   "metadata": {},
   "outputs": [
    {
     "name": "stdout",
     "output_type": "stream",
     "text": [
      "40\n"
     ]
    }
   ],
   "source": [
    "a=10\n",
    "a=20\n",
    "a=30\n",
    "a=40\n",
    "print(a)"
   ]
  },
  {
   "cell_type": "markdown",
   "id": "80a88798-be2b-45cf-b2e0-fe44631add8e",
   "metadata": {},
   "source": [
    "### List-list"
   ]
  },
  {
   "cell_type": "code",
   "execution_count": null,
   "id": "61ff9280-e854-46d1-b50f-5dec6ae6ca32",
   "metadata": {},
   "outputs": [],
   "source": [
    "jo datatype'[]', ke andar hai usse list datatype kehte hain . wo , se seperated hain aur usme homogeneous values(ek jaise values) aur heterogeneous(alag alag values) dal sakte hain"
   ]
  },
  {
   "cell_type": "code",
   "execution_count": null,
   "id": "d535a3d1-030a-4860-a122-d9c8a9915230",
   "metadata": {},
   "outputs": [],
   "source": [
    "a=[1,2,3,4,5]\n",
    "print(a, type(a))\n",
    "b=[1,True,\"err\",False,0.2,4+4j,None]\n",
    "print(b, type(b))"
   ]
  },
  {
   "cell_type": "markdown",
   "id": "0d5bfb20-b654-4349-825c-7b3870d50256",
   "metadata": {},
   "source": [
    "### Tuple"
   ]
  },
  {
   "cell_type": "code",
   "execution_count": null,
   "id": "9f4295c6-42df-4ac9-81d7-02e127ee11a0",
   "metadata": {},
   "outputs": [],
   "source": [
    "jo () ke andar hai usse tuple datatype hain  wo , se seperated hain aur usme homogeneous values(ek jaise values) aur heterogeneous(alag alag values) dal sakte hain"
   ]
  },
  {
   "cell_type": "code",
   "execution_count": 34,
   "id": "d6a783b6-5b57-4233-8bd2-f8cc656492f5",
   "metadata": {},
   "outputs": [
    {
     "name": "stdout",
     "output_type": "stream",
     "text": [
      "(1, 2, 3, 4, 5) <class 'tuple'>\n",
      "1\n"
     ]
    }
   ],
   "source": [
    "val = (1,2,3,4,5)\n",
    "print(val, type(val))\n",
    "print(val[0])"
   ]
  },
  {
   "cell_type": "code",
   "execution_count": 36,
   "id": "e7a4eecc-1fe6-4092-8a3d-e3f03fedc32b",
   "metadata": {},
   "outputs": [
    {
     "name": "stdout",
     "output_type": "stream",
     "text": [
      "(1, 2.3, True, None, (4+4j), 'wwwe')\n",
      "1\n"
     ]
    }
   ],
   "source": [
    "var = (1,2.3,True, None, 4+4j, \"wwwe\")\n",
    "print(var)\n",
    "print(var[0])"
   ]
  },
  {
   "cell_type": "code",
   "execution_count": null,
   "id": "eeecd518-6e3b-434f-90f3-4d92b14f9eef",
   "metadata": {},
   "outputs": [],
   "source": [
    "Tuple immutable hai(values ko modify nahi kar sakte) aur list mutable hain (usme hum values ko modify kar sakte hain)."
   ]
  },
  {
   "cell_type": "markdown",
   "id": "513efcb3-e9c5-489a-87b1-82717be0d4ba",
   "metadata": {},
   "source": [
    "### Dictionary"
   ]
  },
  {
   "cell_type": "code",
   "execution_count": null,
   "id": "b7fb2d75-92f9-41a6-a7c6-36af5a47f735",
   "metadata": {},
   "outputs": [],
   "source": [
    "isme key value pair rehta hai jisme key ko value ke sath mapped kiya hain."
   ]
  },
  {
   "cell_type": "code",
   "execution_count": 37,
   "id": "c69ad785-6a90-49dc-8a64-b3234b8f4a0d",
   "metadata": {},
   "outputs": [
    {
     "name": "stdout",
     "output_type": "stream",
     "text": [
      "{1: 100, 2: 200, 3: 300, 4: 400}\n"
     ]
    }
   ],
   "source": [
    "di = {1:100,2:200,3:300,4:400}\n",
    "print(di)"
   ]
  },
  {
   "cell_type": "code",
   "execution_count": 39,
   "id": "78299348-e56d-4e35-ad03-a1607c3a3ec3",
   "metadata": {},
   "outputs": [
    {
     "name": "stdout",
     "output_type": "stream",
     "text": [
      "Dheeraj\n",
      "{'name': 'Swati', 'age': 22, 'City': 'edo'}\n"
     ]
    }
   ],
   "source": [
    "emp = {'name':'Dheeraj','age':22, 'City':'edo'}\n",
    "print(emp['name'])\n",
    "emp['name'] = 'Swati'\n",
    "print(emp)"
   ]
  },
  {
   "cell_type": "code",
   "execution_count": 40,
   "id": "c1920e8a-2086-462a-8211-1eec0b7ce17c",
   "metadata": {},
   "outputs": [
    {
     "data": {
      "text/plain": [
       "dict_values(['Swati', 22, 'edo'])"
      ]
     },
     "execution_count": 40,
     "metadata": {},
     "output_type": "execute_result"
    }
   ],
   "source": [
    "emp.keys()\n",
    "emp.values()"
   ]
  },
  {
   "cell_type": "code",
   "execution_count": 41,
   "id": "5d30e1e1-4616-4037-9142-47b3f11f96e7",
   "metadata": {},
   "outputs": [
    {
     "data": {
      "text/plain": [
       "dict_keys(['name', 'age', 'City'])"
      ]
     },
     "execution_count": 41,
     "metadata": {},
     "output_type": "execute_result"
    }
   ],
   "source": [
    "emp.keys()"
   ]
  },
  {
   "cell_type": "markdown",
   "id": "29136962-63a3-4871-bfb8-581ffd5a7534",
   "metadata": {},
   "source": [
    "### set"
   ]
  },
  {
   "cell_type": "code",
   "execution_count": null,
   "id": "90e80aa4-49ae-4306-a271-39ffaeddbf94",
   "metadata": {},
   "outputs": [],
   "source": [
    "collection hai hashable items ka jo ki {} ke andar rehta hai,duplicate allow nahi karta, values ko random order par store aur return karta hain\n",
    "Hashable items:sarre primitives data types\n",
    "non-hashable items:list,dictionary,set"
   ]
  },
  {
   "cell_type": "code",
   "execution_count": 49,
   "id": "316d8d80-6c51-4c02-968b-6f94d95b72c4",
   "metadata": {},
   "outputs": [
    {
     "name": "stdout",
     "output_type": "stream",
     "text": [
      "{None, 1, 2.2, 'Hi'}\n",
      "{False, 1, None, 3.3, (1, 2, 3, 4), 'nnn'}\n"
     ]
    }
   ],
   "source": [
    "s={1,2.2,True,None,\"Hi\"}\n",
    "v={1,3.3,False,None,\"nnn\",(1,2,3,4)}\n",
    "print(s)\n",
    "print(v)"
   ]
  },
  {
   "cell_type": "code",
   "execution_count": 47,
   "id": "8668dcdb-74d2-43b1-8389-7888b7ad39e8",
   "metadata": {},
   "outputs": [
    {
     "ename": "TypeError",
     "evalue": "unhashable type: 'set'",
     "output_type": "error",
     "traceback": [
      "\u001b[1;31m---------------------------------------------------------------------------\u001b[0m",
      "\u001b[1;31mTypeError\u001b[0m                                 Traceback (most recent call last)",
      "Cell \u001b[1;32mIn[47], line 1\u001b[0m\n\u001b[1;32m----> 1\u001b[0m p\u001b[38;5;241m=\u001b[39m{\u001b[38;5;241m1\u001b[39m,\u001b[38;5;241m3.3\u001b[39m,\u001b[38;5;28;01mFalse\u001b[39;00m,\u001b[38;5;28;01mNone\u001b[39;00m,\u001b[38;5;124m\"\u001b[39m\u001b[38;5;124mnnn\u001b[39m\u001b[38;5;124m\"\u001b[39m,{\u001b[38;5;241m1\u001b[39m,\u001b[38;5;241m2\u001b[39m,\u001b[38;5;241m3\u001b[39m,\u001b[38;5;241m4\u001b[39m},[\u001b[38;5;241m1\u001b[39m,\u001b[38;5;241m2\u001b[39m,\u001b[38;5;241m3\u001b[39m,\u001b[38;5;241m4\u001b[39m]}\n",
      "\u001b[1;31mTypeError\u001b[0m: unhashable type: 'set'"
     ]
    }
   ],
   "source": [
    "p={1,3.3,False,None,\"nnn\",{1,2,3,4},[1,2,3,4]}"
   ]
  },
  {
   "cell_type": "code",
   "execution_count": null,
   "id": "318a0236-89f0-41f6-82c6-8844b6ffab7a",
   "metadata": {},
   "outputs": [],
   "source": [
    "pichle error se hume yeh pata chala ki set par hum list,set ya dictionary add nhi kar sakte isse error aayega."
   ]
  },
  {
   "cell_type": "markdown",
   "id": "a91afd65-cea9-4841-8a10-efab0a6d33e7",
   "metadata": {},
   "source": [
    "### Frozenset"
   ]
  },
  {
   "cell_type": "code",
   "execution_count": null,
   "id": "389b1506-fc0b-46fa-916d-a2727aa3b94a",
   "metadata": {},
   "outputs": [],
   "source": [
    "frozenset banane ke liye hume frozenset() ka use karna hoga,iterable as input leta hai(jo ki sirf hasable items hoga)\n",
    "saath hi wo koi random order par arrange karega aur koi duplicates allow nahi karega.\n",
    "\n",
    "syntax \n",
    "frozenset(iterable)\n",
    "\n",
    "# Iterables -> String, List, Tuple, Dictionary, Set, Frozenset, Range\n",
    "# Non-Iterables -> int, float, complex, NoneType, bool"
   ]
  },
  {
   "cell_type": "code",
   "execution_count": 1,
   "id": "93b80776-64c4-4da3-a694-1752a70d5750",
   "metadata": {},
   "outputs": [
    {
     "name": "stdout",
     "output_type": "stream",
     "text": [
      "frozenset({'h', 'e', 'l', 'o'}) <class 'frozenset'>\n"
     ]
    }
   ],
   "source": [
    "f = frozenset(\"hello\")\n",
    "print(f, type(f))"
   ]
  },
  {
   "cell_type": "code",
   "execution_count": null,
   "id": "eef55b54-662b-4065-8e98-3db663d9832b",
   "metadata": {},
   "outputs": [],
   "source": [
    "f = frozenset([1,2,3,4,5,6,7,8,9])"
   ]
  },
  {
   "cell_type": "code",
   "execution_count": 1,
   "id": "0d52e64b-c0e1-4cfe-98d9-9023c1c1bea2",
   "metadata": {},
   "outputs": [
    {
     "name": "stdout",
     "output_type": "stream",
     "text": [
      "h\n",
      "e\n",
      "l\n",
      "l\n",
      "o\n"
     ]
    }
   ],
   "source": [
    "my_str = \"hello\"\n",
    "for i in my_str:\n",
    "    print(i)"
   ]
  },
  {
   "cell_type": "code",
   "execution_count": 2,
   "id": "55d5e3ea-15cf-4ba1-9a8e-c0c155e4a448",
   "metadata": {},
   "outputs": [
    {
     "name": "stdout",
     "output_type": "stream",
     "text": [
      "frozenset({None, 1, 2.2, (1, 2, 3, 4, 5, 6, 7)}) <class 'frozenset'>\n"
     ]
    }
   ],
   "source": [
    "f = frozenset([1,2.2,True,None,(1,2,3,4,5,6,7)])\n",
    "print(f, type(f))"
   ]
  },
  {
   "cell_type": "code",
   "execution_count": 3,
   "id": "f46a11b8-4d28-422a-a0f4-75f49bde809e",
   "metadata": {},
   "outputs": [
    {
     "ename": "TypeError",
     "evalue": "unhashable type: 'dict'",
     "output_type": "error",
     "traceback": [
      "\u001b[1;31m---------------------------------------------------------------------------\u001b[0m",
      "\u001b[1;31mTypeError\u001b[0m                                 Traceback (most recent call last)",
      "Cell \u001b[1;32mIn[3], line 1\u001b[0m\n\u001b[1;32m----> 1\u001b[0m f \u001b[38;5;241m=\u001b[39m \u001b[38;5;28mfrozenset\u001b[39m([\u001b[38;5;241m1\u001b[39m,\u001b[38;5;241m2.2\u001b[39m,\u001b[38;5;28;01mTrue\u001b[39;00m,\u001b[38;5;28;01mNone\u001b[39;00m,(\u001b[38;5;241m1\u001b[39m,\u001b[38;5;241m2\u001b[39m,\u001b[38;5;241m3\u001b[39m,\u001b[38;5;241m4\u001b[39m,\u001b[38;5;241m5\u001b[39m,\u001b[38;5;241m6\u001b[39m),{\u001b[38;5;241m1\u001b[39m:\u001b[38;5;241m100\u001b[39m,\u001b[38;5;241m2\u001b[39m:\u001b[38;5;241m200\u001b[39m}])\n\u001b[0;32m      2\u001b[0m \u001b[38;5;28mprint\u001b[39m(f, \u001b[38;5;28mtype\u001b[39m(f))\n",
      "\u001b[1;31mTypeError\u001b[0m: unhashable type: 'dict'"
     ]
    }
   ],
   "source": [
    "f = frozenset([1,2.2,True,None,(1,2,3,4,5,6),{1:100,2:200}])\n",
    "print(f, type(f))"
   ]
  },
  {
   "cell_type": "markdown",
   "id": "928a1a95-8bca-405e-ac85-a10d8835822b",
   "metadata": {},
   "source": [
    "#### set vs frozenset"
   ]
  },
  {
   "cell_type": "code",
   "execution_count": null,
   "id": "ceed3cf6-a139-4690-b70c-ea7baa0ace6b",
   "metadata": {},
   "outputs": [],
   "source": [
    "set mutable hai(uske values ko change kiya jaa sakta hai) jabki frozenset immutable hai(jiske values ko change nahi kiya jaa sakta)"
   ]
  },
  {
   "cell_type": "code",
   "execution_count": 4,
   "id": "47c66836-ccaf-4ae6-87d6-407bd5deed5c",
   "metadata": {},
   "outputs": [
    {
     "name": "stdout",
     "output_type": "stream",
     "text": [
      "{1, 2, 3, 4, 5, 6, 7, 8} <class 'set'>\n"
     ]
    }
   ],
   "source": [
    "s = {1,2,3,4,5,6,7,8}\n",
    "print(s, type(s))"
   ]
  },
  {
   "cell_type": "code",
   "execution_count": 5,
   "id": "17ebc264-f929-4506-b4fa-ba0fac3a9ff6",
   "metadata": {},
   "outputs": [
    {
     "name": "stdout",
     "output_type": "stream",
     "text": [
      "{1, 2, 3, 4, 5, 6, 7, 20}\n"
     ]
    }
   ],
   "source": [
    "s.add(20)\n",
    "s.remove(8)\n",
    "print(s)"
   ]
  },
  {
   "cell_type": "code",
   "execution_count": 6,
   "id": "e7fd388c-9dd3-49e7-965e-9472b0c58b4e",
   "metadata": {},
   "outputs": [
    {
     "ename": "AttributeError",
     "evalue": "'frozenset' object has no attribute 'add'",
     "output_type": "error",
     "traceback": [
      "\u001b[1;31m---------------------------------------------------------------------------\u001b[0m",
      "\u001b[1;31mAttributeError\u001b[0m                            Traceback (most recent call last)",
      "Cell \u001b[1;32mIn[6], line 2\u001b[0m\n\u001b[0;32m      1\u001b[0m f \u001b[38;5;241m=\u001b[39m \u001b[38;5;28mfrozenset\u001b[39m([\u001b[38;5;241m1\u001b[39m,\u001b[38;5;241m2\u001b[39m,\u001b[38;5;241m3\u001b[39m,\u001b[38;5;241m4\u001b[39m,\u001b[38;5;241m5\u001b[39m,\u001b[38;5;241m6\u001b[39m,\u001b[38;5;241m7\u001b[39m,\u001b[38;5;241m8\u001b[39m])\n\u001b[1;32m----> 2\u001b[0m f\u001b[38;5;241m.\u001b[39madd(\u001b[38;5;241m23\u001b[39m)\n\u001b[0;32m      3\u001b[0m f\u001b[38;5;241m.\u001b[39mremove(\u001b[38;5;241m2\u001b[39m)\n\u001b[0;32m      4\u001b[0m \u001b[38;5;28mprint\u001b[39m(f)\n",
      "\u001b[1;31mAttributeError\u001b[0m: 'frozenset' object has no attribute 'add'"
     ]
    }
   ],
   "source": [
    "f = frozenset([1,2,3,4,5,6,7,8])\n",
    "f.add(23)\n",
    "f.remove(2)\n",
    "print(f)"
   ]
  },
  {
   "cell_type": "code",
   "execution_count": null,
   "id": "4aeaa2c3-e1b4-4723-8ef2-340188de17ea",
   "metadata": {},
   "outputs": [],
   "source": [
    "to result hai\n",
    "# mutable ordered- list\n",
    "# immutable ordered- tuple\n",
    "\n",
    "# mutable unordered - set\n",
    "# immutable unordered - froszenset"
   ]
  },
  {
   "cell_type": "markdown",
   "id": "6d49be21-000d-492f-b730-8094980e21d2",
   "metadata": {},
   "source": [
    "#### range"
   ]
  },
  {
   "cell_type": "code",
   "execution_count": null,
   "id": "a973dffa-ebc7-48d0-adc4-056c6bfc7dbc",
   "metadata": {},
   "outputs": [],
   "source": [
    "use hota hai koi range of integer values ko dena ko ki sequential ho.\n",
    "# range(start,stop,step)\n",
    "# start- kaha se chalu hoga\n",
    "# stop - kaha par khatam hoga\n",
    "# step - kitne values ka gap hoga(by default 1 hota hai)\n",
    "# aur yeh  start se stop-1 values print karega(step ke saath)."
   ]
  },
  {
   "cell_type": "code",
   "execution_count": 8,
   "id": "f2f51578-893a-4bd0-aa38-a500930d00e0",
   "metadata": {},
   "outputs": [
    {
     "name": "stdout",
     "output_type": "stream",
     "text": [
      "[2, 4, 6, 8, 10, 12, 14, 16, 18]\n"
     ]
    }
   ],
   "source": [
    "r=range(2,20,2)\n",
    "print(list(r))"
   ]
  },
  {
   "cell_type": "code",
   "execution_count": 9,
   "id": "0a24a2e9-7255-4f8b-82e9-80a47a85b7c0",
   "metadata": {},
   "outputs": [
    {
     "name": "stdout",
     "output_type": "stream",
     "text": [
      "[]\n"
     ]
    }
   ],
   "source": [
    "r = range(20,-1,2)\n",
    "print(list(r))"
   ]
  },
  {
   "cell_type": "code",
   "execution_count": 10,
   "id": "412c31d0-81c8-4809-91b7-f58effe03061",
   "metadata": {},
   "outputs": [
    {
     "name": "stdout",
     "output_type": "stream",
     "text": [
      "[-2, -4, -6, -8, -10, -12, -14, -16, -18]\n"
     ]
    }
   ],
   "source": [
    "r = range(-2,-20,-2)\n",
    "print(list(r))"
   ]
  }
 ],
 "metadata": {
  "kernelspec": {
   "display_name": "Python 3 (ipykernel)",
   "language": "python",
   "name": "python3"
  },
  "language_info": {
   "codemirror_mode": {
    "name": "ipython",
    "version": 3
   },
   "file_extension": ".py",
   "mimetype": "text/x-python",
   "name": "python",
   "nbconvert_exporter": "python",
   "pygments_lexer": "ipython3",
   "version": "3.12.3"
  }
 },
 "nbformat": 4,
 "nbformat_minor": 5
}
