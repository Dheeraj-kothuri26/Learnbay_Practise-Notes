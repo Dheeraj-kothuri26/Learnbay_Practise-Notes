{
 "cells": [
  {
   "cell_type": "markdown",
   "id": "73f18381-9b71-41d0-a595-8a6022aae36a",
   "metadata": {},
   "source": [
    "# I/O FUNCTIONS"
   ]
  },
  {
   "cell_type": "code",
   "execution_count": null,
   "id": "4c83b4a5-64a7-4ae4-add9-3eb81524597f",
   "metadata": {},
   "outputs": [],
   "source": [
    "input jo hum lete hain usse hum input bolte hain\n",
    "output jo ki screen par display hota hai"
   ]
  },
  {
   "cell_type": "code",
   "execution_count": 1,
   "id": "b6f658b5-9482-49e6-9a35-aae8a0a971a4",
   "metadata": {},
   "outputs": [
    {
     "name": "stdin",
     "output_type": "stream",
     "text": [
      "Enter a name DERR\n"
     ]
    },
    {
     "name": "stdout",
     "output_type": "stream",
     "text": [
      "DERR\n"
     ]
    }
   ],
   "source": [
    "a=input(\"Enter a name\") # input() use hota hai input ke liye \n",
    "print(a) # print() use hota hai output print karne ke liye "
   ]
  },
  {
   "cell_type": "code",
   "execution_count": 2,
   "id": "ce83d145-944d-475b-8524-c13df3d9de95",
   "metadata": {},
   "outputs": [
    {
     "name": "stdin",
     "output_type": "stream",
     "text": [
      "Enter a name - SSEE\n"
     ]
    },
    {
     "name": "stdout",
     "output_type": "stream",
     "text": [
      "SSEE\n"
     ]
    }
   ],
   "source": [
    "a=input(\"Enter a name -\") # input() use hota hai input ke liye \n",
    "print(a)"
   ]
  },
  {
   "cell_type": "code",
   "execution_count": 3,
   "id": "d401b1f4-ea25-49c9-b669-9699ea957d13",
   "metadata": {},
   "outputs": [
    {
     "name": "stdout",
     "output_type": "stream",
     "text": [
      "10,20,30\n"
     ]
    }
   ],
   "source": [
    "a = 10\n",
    "b = 20\n",
    "c = 30\n",
    "print(a, b, c, sep =',')"
   ]
  },
  {
   "cell_type": "code",
   "execution_count": 4,
   "id": "6cf53712-81d5-402f-abc6-32a2528d03df",
   "metadata": {},
   "outputs": [
    {
     "name": "stdout",
     "output_type": "stream",
     "text": [
      "the value is 10\n"
     ]
    }
   ],
   "source": [
    "print('the value is',a)"
   ]
  },
  {
   "cell_type": "code",
   "execution_count": 7,
   "id": "002b0a9a-9717-403f-b585-cbb5ab3269a3",
   "metadata": {},
   "outputs": [
    {
     "name": "stdout",
     "output_type": "stream",
     "text": [
      "the addition of 10 and 20 is 30\n"
     ]
    }
   ],
   "source": [
    "print(f'the addition of {a} and {b} is {c}')"
   ]
  },
  {
   "cell_type": "markdown",
   "id": "828b9530-cbda-44c0-b4a7-090a0274fdbb",
   "metadata": {},
   "source": [
    "## Static initialization"
   ]
  },
  {
   "cell_type": "code",
   "execution_count": null,
   "id": "31fb0d32-a635-4ab6-8239-59f609b45202",
   "metadata": {},
   "outputs": [],
   "source": [
    "value variable ko directly assign kar do."
   ]
  },
  {
   "cell_type": "code",
   "execution_count": 8,
   "id": "c41ed130-8ca3-4f4f-a17c-9bfbc3a17664",
   "metadata": {},
   "outputs": [
    {
     "name": "stdout",
     "output_type": "stream",
     "text": [
      "10\n"
     ]
    }
   ],
   "source": [
    "a=10\n",
    "print(a)"
   ]
  },
  {
   "cell_type": "markdown",
   "id": "1c882c7d-b954-4d40-93f8-08603d64e0ce",
   "metadata": {},
   "source": [
    "## Dynamic Initialization"
   ]
  },
  {
   "cell_type": "code",
   "execution_count": null,
   "id": "bf349bba-70ce-49e1-bfee-60560f383824",
   "metadata": {},
   "outputs": [],
   "source": [
    "value indirectly assign karna user input de dena"
   ]
  },
  {
   "cell_type": "code",
   "execution_count": 11,
   "id": "35b11e38-636b-481c-9e8d-d9acc9a845d4",
   "metadata": {},
   "outputs": [
    {
     "name": "stdin",
     "output_type": "stream",
     "text": [
      " 23\n"
     ]
    },
    {
     "name": "stdout",
     "output_type": "stream",
     "text": [
      "23\n"
     ]
    }
   ],
   "source": [
    "a = int(input())\n",
    "print(a)"
   ]
  },
  {
   "cell_type": "markdown",
   "id": "f33af916-a8e2-450f-b487-6bb52f46bcf9",
   "metadata": {},
   "source": [
    "# Operators"
   ]
  },
  {
   "cell_type": "markdown",
   "id": "c15e6070-8d2d-4611-be1c-e704811ddf99",
   "metadata": {},
   "source": [
    "## Arthimetic operators"
   ]
  },
  {
   "cell_type": "code",
   "execution_count": null,
   "id": "20294d21-27e9-4f37-b9d6-a75fa93f81ca",
   "metadata": {},
   "outputs": [],
   "source": [
    "# - 1- Arithmetic Operators\n",
    "# - 2- Logical Operators\n",
    "# - 3- Comparison Operators\n",
    "# - 4- Equality Operators\n",
    "# - 5- Assignment Operators\n",
    "# - 6- Compound Assignment Operators\n",
    "# - 7- Membership Operators\n",
    "# - 8- Identity Operators\n",
    "# - 9- Bitwise Operators\n",
    "# - 10- Ternary Opeartors"
   ]
  },
  {
   "cell_type": "code",
   "execution_count": null,
   "id": "d28c16c6-b477-4a5f-bcf6-2f00cc950cbd",
   "metadata": {},
   "outputs": [],
   "source": [
    "# Arthimetic Operators\n",
    "# + addition\n",
    "# - subtraction\n",
    "# * multiplication\n",
    "# / float division\n",
    "# // floor division\n",
    "# % modulo\n",
    "# ** exponent"
   ]
  },
  {
   "cell_type": "code",
   "execution_count": 13,
   "id": "d363de72-aa51-49e2-b9db-25450f588124",
   "metadata": {},
   "outputs": [
    {
     "name": "stdout",
     "output_type": "stream",
     "text": [
      "3\n",
      "-1\n",
      "2\n",
      "0.5\n",
      "0\n",
      "1\n",
      "1\n"
     ]
    }
   ],
   "source": [
    "a=1\n",
    "b=2\n",
    "print(a+b)\n",
    "print(a-b)\n",
    "print(a*b)\n",
    "print(a/b)\n",
    "print(a//b) # floor division example 5 //2 == 2 as 2*2 + 1 so answer is 2\n",
    "print(a%b)\n",
    "print(a**b)"
   ]
  },
  {
   "cell_type": "markdown",
   "id": "3236e411-434e-4109-a4a3-939b89974e56",
   "metadata": {},
   "source": [
    "## Logical Operator"
   ]
  },
  {
   "cell_type": "code",
   "execution_count": null,
   "id": "4b09233f-59e2-45c4-83f9-f06c406cabb7",
   "metadata": {},
   "outputs": [],
   "source": [
    "make logical decisions or not(deal with true/false)"
   ]
  },
  {
   "cell_type": "code",
   "execution_count": 15,
   "id": "516e00f2-7066-4a17-b501-ce0d32009325",
   "metadata": {},
   "outputs": [],
   "source": [
    "#and\n",
    "#or\n",
    "#not"
   ]
  },
  {
   "cell_type": "code",
   "execution_count": null,
   "id": "0a8eee24-9e5d-4417-820c-30dceb99112b",
   "metadata": {},
   "outputs": [],
   "source": [
    "and \n",
    "only true and true is true rest all are false\n",
    "or\n",
    "only true or true=true\n",
    "     true or false=true\n",
    "     false or true = true\n",
    "     rest all are false\n"
   ]
  },
  {
   "cell_type": "code",
   "execution_count": 16,
   "id": "e0a08bd0-3f6b-4983-9445-9bacbd423200",
   "metadata": {},
   "outputs": [
    {
     "name": "stdout",
     "output_type": "stream",
     "text": [
      "True\n",
      "False\n",
      "False\n",
      "False\n"
     ]
    }
   ],
   "source": [
    "print(True and True)\n",
    "print(True and False)\n",
    "print(False and True)\n",
    "print(False and False)"
   ]
  },
  {
   "cell_type": "code",
   "execution_count": 17,
   "id": "f374c41c-ee0d-4e4f-897b-3a67d666427c",
   "metadata": {},
   "outputs": [
    {
     "name": "stdout",
     "output_type": "stream",
     "text": [
      "True\n",
      "True\n",
      "True\n",
      "False\n"
     ]
    }
   ],
   "source": [
    "print(True or True)\n",
    "print(True or False)\n",
    "print(False or True)\n",
    "print(False or False)"
   ]
  },
  {
   "cell_type": "code",
   "execution_count": null,
   "id": "e24671d5-f4a5-4397-ba34-800745e41caf",
   "metadata": {},
   "outputs": [],
   "source": [
    "not give complement of boolean value for true->false and false->true"
   ]
  },
  {
   "cell_type": "code",
   "execution_count": 18,
   "id": "96132112-627b-44c6-bfb2-a6357b987f89",
   "metadata": {},
   "outputs": [
    {
     "name": "stdout",
     "output_type": "stream",
     "text": [
      "False\n",
      "True\n"
     ]
    }
   ],
   "source": [
    "print(not(True))\n",
    "print(not(False))"
   ]
  },
  {
   "cell_type": "code",
   "execution_count": 19,
   "id": "4b30e4d3-356b-43b6-a519-2d27d3532012",
   "metadata": {},
   "outputs": [
    {
     "name": "stdout",
     "output_type": "stream",
     "text": [
      "20\n",
      "{}\n",
      "{}\n",
      "{}\n"
     ]
    }
   ],
   "source": [
    "print(10 and 20)\n",
    "print(\"ptiiiii\" and {})\n",
    "print({} and [])\n",
    "print({} and [1,2,3,])\n",
    "      "
   ]
  },
  {
   "cell_type": "code",
   "execution_count": 20,
   "id": "3319c65e-b3c3-4c5c-81a9-962e9e975f6f",
   "metadata": {},
   "outputs": [
    {
     "name": "stdout",
     "output_type": "stream",
     "text": [
      "10\n",
      "ptiiiii\n",
      "[]\n",
      "[1, 2, 3]\n"
     ]
    }
   ],
   "source": [
    "print(10 or 20)\n",
    "print(\"ptiiiii\" or {})\n",
    "print({} or [])\n",
    "print({} or [1,2,3,])"
   ]
  },
  {
   "cell_type": "code",
   "execution_count": 21,
   "id": "458aa143-4608-44ea-9f81-eaecb4608a6c",
   "metadata": {},
   "outputs": [
    {
     "name": "stdout",
     "output_type": "stream",
     "text": [
      "False\n",
      "{}\n",
      "{}\n",
      "{}\n"
     ]
    }
   ],
   "source": [
    "print(not(20))\n",
    "print(\"ptiiiii\" and {})\n",
    "print({} and [])\n",
    "print({} and [1,2,3,])"
   ]
  },
  {
   "cell_type": "code",
   "execution_count": 27,
   "id": "680e8937-1347-4792-906f-030768be2a40",
   "metadata": {},
   "outputs": [
    {
     "name": "stdout",
     "output_type": "stream",
     "text": [
      "None\n"
     ]
    }
   ],
   "source": [
    "names = [\"sjsjsj\",\"jsjsjsjsj\", None, \"sjsjsjsjsj\"]\n",
    "for name in names:\n",
    "    if not name:\n",
    "        print(name)"
   ]
  },
  {
   "cell_type": "markdown",
   "id": "ba312ce0-db88-475c-8863-ba66e50f62ff",
   "metadata": {},
   "source": [
    "## Comparison operator"
   ]
  },
  {
   "cell_type": "code",
   "execution_count": null,
   "id": "7daee35f-0df7-4326-bbf1-77c187c4e729",
   "metadata": {},
   "outputs": [],
   "source": [
    "# <= less than equal to\n",
    "# >= greater than equal to\n",
    "# == equal to\n",
    "# < less than\n",
    "# > greater than"
   ]
  },
  {
   "cell_type": "code",
   "execution_count": 29,
   "id": "a3b2d1ba-0c10-464d-a333-4d10149e36cf",
   "metadata": {},
   "outputs": [
    {
     "name": "stdout",
     "output_type": "stream",
     "text": [
      "True\n",
      "False\n",
      "True\n",
      "True\n",
      "False\n"
     ]
    }
   ],
   "source": [
    "#number comparison\n",
    "print(2.2<334)\n",
    "print(2>3)\n",
    "print(2==2)\n",
    "print(3<=4)\n",
    "print(2>=3)"
   ]
  },
  {
   "cell_type": "code",
   "execution_count": 37,
   "id": "4e1e4a0c-ab62-447a-baeb-971e521e9e9f",
   "metadata": {},
   "outputs": [
    {
     "name": "stdout",
     "output_type": "stream",
     "text": [
      "False\n",
      "True\n"
     ]
    }
   ],
   "source": [
    "# String comparison\n",
    "print(\"eerkrkkk\" > \"jsjjjjs\")\n",
    "print(\"ddjdjdjj\" < \"jdjejjjd\")"
   ]
  },
  {
   "cell_type": "code",
   "execution_count": 35,
   "id": "f46a3e14-2e9d-4875-8edb-0aacf13c4bdf",
   "metadata": {},
   "outputs": [
    {
     "name": "stdout",
     "output_type": "stream",
     "text": [
      "False\n"
     ]
    }
   ],
   "source": [
    "print(\"djejjjdnn\" == \"jjsjj\")"
   ]
  },
  {
   "cell_type": "code",
   "execution_count": 32,
   "id": "ef880915-4998-4d58-92af-849eb381774c",
   "metadata": {},
   "outputs": [
    {
     "name": "stdout",
     "output_type": "stream",
     "text": [
      "True\n",
      "True\n"
     ]
    }
   ],
   "source": [
    "\n",
    "print(\"jdjdjjdj\" <= \"kjdjjjjd\")\n",
    "print(\"ssjxjjxsjj\" >= \"sjsjjdjd\")"
   ]
  },
  {
   "cell_type": "code",
   "execution_count": 2,
   "id": "5ad50077-512e-4f94-94c8-c47ddc37b26b",
   "metadata": {},
   "outputs": [
    {
     "name": "stdout",
     "output_type": "stream",
     "text": [
      "False\n",
      "False\n",
      "False\n",
      "False\n"
     ]
    }
   ],
   "source": [
    "# Character comparison\n",
    " # In case of strings it compares the ASCII value.\n",
    "\n",
    "# ASCII- American Standard Code for Information Interchange.\n",
    "# ord('character') -> It returns the ASCII value\n",
    "# chr(ASCII value) -> It returns the character on that ASCII value\n",
    "# A to Z, 65 to 90\n",
    "# a to z, 97 to 122\n",
    "\n",
    "print('A' > 'Z')\n",
    "print('a' > 'z')\n",
    "print('a' == 'z')\n",
    "print('A' == 'Z')\n"
   ]
  },
  {
   "cell_type": "code",
   "execution_count": 3,
   "id": "54bbb4ac-9dfb-4625-9553-f4d353f957f9",
   "metadata": {},
   "outputs": [
    {
     "ename": "TypeError",
     "evalue": "'>' not supported between instances of 'list' and 'tuple'",
     "output_type": "error",
     "traceback": [
      "\u001b[1;31m---------------------------------------------------------------------------\u001b[0m",
      "\u001b[1;31mTypeError\u001b[0m                                 Traceback (most recent call last)",
      "Cell \u001b[1;32mIn[3], line 2\u001b[0m\n\u001b[0;32m      1\u001b[0m \u001b[38;5;66;03m# Container comparison\u001b[39;00m\n\u001b[1;32m----> 2\u001b[0m \u001b[38;5;28mprint\u001b[39m([\u001b[38;5;241m1\u001b[39m,\u001b[38;5;241m2\u001b[39m,\u001b[38;5;241m3\u001b[39m,\u001b[38;5;241m4\u001b[39m,\u001b[38;5;241m5\u001b[39m,\u001b[38;5;241m6\u001b[39m,\u001b[38;5;241m7\u001b[39m,\u001b[38;5;241m8\u001b[39m] \u001b[38;5;241m>\u001b[39m (\u001b[38;5;241m1\u001b[39m,\u001b[38;5;241m2\u001b[39m,\u001b[38;5;241m3\u001b[39m,\u001b[38;5;241m4\u001b[39m,\u001b[38;5;241m5\u001b[39m,\u001b[38;5;241m6\u001b[39m,\u001b[38;5;241m7\u001b[39m,\u001b[38;5;241m8\u001b[39m))\n",
      "\u001b[1;31mTypeError\u001b[0m: '>' not supported between instances of 'list' and 'tuple'"
     ]
    }
   ],
   "source": [
    "# Container comparison\n",
    "print([1,2,3,4,5,6,7,8] > (1,2,3,4,5,6,7,8))"
   ]
  },
  {
   "cell_type": "code",
   "execution_count": 4,
   "id": "d1f716f3-719a-4436-af05-ba0644001bfb",
   "metadata": {},
   "outputs": [
    {
     "name": "stdout",
     "output_type": "stream",
     "text": [
      "False\n"
     ]
    }
   ],
   "source": [
    "print(10 > ord('a'))"
   ]
  },
  {
   "cell_type": "markdown",
   "id": "3b69eb1e-f3a1-4fc6-a965-71bea42adc74",
   "metadata": {},
   "source": [
    "## Equality operators"
   ]
  },
  {
   "cell_type": "code",
   "execution_count": 6,
   "id": "bf4399ee-cbce-4315-9789-86d5b4da895b",
   "metadata": {},
   "outputs": [],
   "source": [
    "# dono values equal hai ki nahi (magnitude and type se)"
   ]
  },
  {
   "cell_type": "code",
   "execution_count": 7,
   "id": "e220952d-8da5-4656-bc66-24faa2bae757",
   "metadata": {},
   "outputs": [
    {
     "name": "stdout",
     "output_type": "stream",
     "text": [
      "False\n"
     ]
    }
   ],
   "source": [
    "print('a' == 5)\n"
   ]
  },
  {
   "cell_type": "code",
   "execution_count": 8,
   "id": "59f012d8-5dd6-4c1a-b102-9de75915f436",
   "metadata": {},
   "outputs": [
    {
     "name": "stdout",
     "output_type": "stream",
     "text": [
      "False\n",
      "False\n",
      "False\n",
      "True\n"
     ]
    }
   ],
   "source": [
    "print('a' == 2)\n",
    "print('e' == 3)\n",
    "print('w' == 4)\n",
    "print(3.0 == 3)"
   ]
  },
  {
   "cell_type": "code",
   "execution_count": 9,
   "id": "a49426b4-bf9d-4f54-af26-4a6d70632c60",
   "metadata": {},
   "outputs": [
    {
     "name": "stdout",
     "output_type": "stream",
     "text": [
      "True\n"
     ]
    }
   ],
   "source": [
    "print(2!=3)"
   ]
  },
  {
   "cell_type": "code",
   "execution_count": 14,
   "id": "5f77d8aa-d8be-40f0-a822-93f70baaba7b",
   "metadata": {},
   "outputs": [
    {
     "name": "stdout",
     "output_type": "stream",
     "text": [
      "True\n"
     ]
    }
   ],
   "source": [
    "print(int('5') == 5)"
   ]
  },
  {
   "cell_type": "markdown",
   "id": "108183eb-399c-4b7c-a88a-349cbed47e42",
   "metadata": {},
   "source": [
    "## Assignment operator"
   ]
  },
  {
   "cell_type": "code",
   "execution_count": 17,
   "id": "8e5c9580-e006-49ba-9695-9c0cd164430a",
   "metadata": {},
   "outputs": [
    {
     "name": "stdout",
     "output_type": "stream",
     "text": [
      "2\n"
     ]
    }
   ],
   "source": [
    "# used to asssign a value to it.\n",
    "a = 2 # ( '=' is a assignment operator and '=='  is a equality operator) also == is used for comparison purpose also\n",
    "print(a)"
   ]
  },
  {
   "cell_type": "code",
   "execution_count": 20,
   "id": "984c167b-16dc-4a02-9927-000f229c1512",
   "metadata": {},
   "outputs": [
    {
     "data": {
      "text/plain": [
       "True"
      ]
     },
     "execution_count": 20,
     "metadata": {},
     "output_type": "execute_result"
    }
   ],
   "source": [
    "not a == 3 # (kya a != 3 answer hai yes) "
   ]
  },
  {
   "cell_type": "markdown",
   "id": "e5eabb1a-23f3-4461-8560-76287d704e97",
   "metadata": {},
   "source": [
    "## Membership operator"
   ]
  },
  {
   "cell_type": "code",
   "execution_count": 22,
   "id": "3599198b-27de-4b02-bcc9-a0e4903f5a98",
   "metadata": {},
   "outputs": [
    {
     "name": "stdout",
     "output_type": "stream",
     "text": [
      "True\n",
      "True\n"
     ]
    }
   ],
   "source": [
    "#agar koi value doosre valus mein hai ki nahi wo check krta hai ye operator.\n",
    "apr = \"hdhhhhhdhhhhhdhh\"\n",
    "print('h' in apr)\n",
    "print('a' not in apr) # in-> usme hai, not in -> usme nahi hai"
   ]
  },
  {
   "cell_type": "code",
   "execution_count": 24,
   "id": "0b2f52f7-24bf-4fd0-b541-32985fed4c4d",
   "metadata": {},
   "outputs": [
    {
     "name": "stdout",
     "output_type": "stream",
     "text": [
      "True\n"
     ]
    }
   ],
   "source": [
    "ard = [1,3,4,5,6,(13,34,56),{34,57},{1:200,3:400,5:49499}]\n",
    "print(1 in ard)"
   ]
  },
  {
   "cell_type": "markdown",
   "id": "8409bc93-d725-45f3-a82f-3d01d1d51679",
   "metadata": {},
   "source": [
    "## Identity operator"
   ]
  },
  {
   "cell_type": "code",
   "execution_count": 32,
   "id": "d52ca889-ecd1-4773-b411-0863bdf956a6",
   "metadata": {},
   "outputs": [
    {
     "name": "stdout",
     "output_type": "stream",
     "text": [
      "True\n",
      "140721604569656 140721604569656\n"
     ]
    }
   ],
   "source": [
    "# yeh btata hai ki dono objects same memory location par store hai ki nahi\n",
    "a =5\n",
    "b =5\n",
    "c = 5\n",
    "print(a is b is c)\n",
    "print(id(a), id(b))\n",
    "# kyuki -5 to 256 wle integers ko same location par store karega(location reuse karega) jise hum integer cache bhi kehte hain"
   ]
  },
  {
   "cell_type": "code",
   "execution_count": 31,
   "id": "780e287b-f472-454b-a5ca-ac942f5711f0",
   "metadata": {},
   "outputs": [
    {
     "name": "stdout",
     "output_type": "stream",
     "text": [
      "False\n",
      "2345404264816 2345404265872\n"
     ]
    }
   ],
   "source": [
    "a=257\n",
    "b=257\n",
    "print(a is b) # kyuki yeh -5 to 256 wle se outside range wla hai\n",
    "print(id(a), id(b))"
   ]
  },
  {
   "cell_type": "markdown",
   "id": "199b4079-9ea0-455e-8c4e-0215763b3500",
   "metadata": {},
   "source": [
    "## Python object(in short value)  reusability"
   ]
  },
  {
   "cell_type": "code",
   "execution_count": 34,
   "id": "e9d5ebd2-1937-42a4-8ee1-fdb6adb234d1",
   "metadata": {},
   "outputs": [
    {
     "name": "stdout",
     "output_type": "stream",
     "text": [
      "True\n",
      "140721604569656 140721604569656 140721604569656\n"
     ]
    }
   ],
   "source": [
    "# Integer Caching\n",
    "#(-5 to 256)\n",
    "# Wo case jisme do/ya usse jyada variables mein do/ya usse same values store karta hai aur python usme koi naya object create nahi karta balki usi object ko reuse karta hain.\n",
    "a =5\n",
    "b =5\n",
    "c = 5\n",
    "print(a is b is c)\n",
    "print(id(a), id(b),id(c))"
   ]
  },
  {
   "cell_type": "code",
   "execution_count": 35,
   "id": "f79ccbe1-3a44-4cbc-84c5-f3ddf09bcc3f",
   "metadata": {},
   "outputs": [
    {
     "name": "stdout",
     "output_type": "stream",
     "text": [
      "False\n",
      "2345404267920 2345404267088\n"
     ]
    }
   ],
   "source": [
    "# Large Numbers\n",
    "a=257\n",
    "b=257\n",
    "print(a is b) # kyuki yeh -5 to 256 wle se outside range wla hai\n",
    "print(id(a), id(b))\n"
   ]
  },
  {
   "cell_type": "code",
   "execution_count": 36,
   "id": "c5eabad2-d503-44c2-9f46-885ef7704f4f",
   "metadata": {},
   "outputs": [
    {
     "name": "stdout",
     "output_type": "stream",
     "text": [
      "True\n"
     ]
    }
   ],
   "source": [
    "# String Interning-> simple string ko reuse karega(jinke beech koi spaces ya special characters nahi hain).\n",
    "a=\"ffr\" # simple string\n",
    "b=\"ffr\" # simple string\n",
    "print(a is b)\n"
   ]
  },
  {
   "cell_type": "code",
   "execution_count": 37,
   "id": "4f87af14-2430-4b95-a345-16223bbda853",
   "metadata": {},
   "outputs": [
    {
     "name": "stdout",
     "output_type": "stream",
     "text": [
      "False\n"
     ]
    }
   ],
   "source": [
    "a=\"ffr\"\n",
    "b=\"ffr 555\" # complex string\n",
    "print(a is b) "
   ]
  },
  {
   "cell_type": "code",
   "execution_count": 38,
   "id": "e9583931-a79c-40f2-bdd7-a2cc39082ef1",
   "metadata": {},
   "outputs": [
    {
     "name": "stdout",
     "output_type": "stream",
     "text": [
      "False\n"
     ]
    }
   ],
   "source": [
    "a=\"ffr\"\n",
    "b=\"ffr@nn\" # complex string\n",
    "print(a is b)"
   ]
  },
  {
   "cell_type": "markdown",
   "id": "96c5c001-9a44-498c-b5da-d6847582b0bf",
   "metadata": {},
   "source": [
    "## Bitwise operators"
   ]
  },
  {
   "cell_type": "code",
   "execution_count": null,
   "id": "68c96cbc-5e18-47de-90f7-02c55865f972",
   "metadata": {},
   "outputs": [],
   "source": [
    "do bitwise operation (for 0 and 1)\n",
    "Steps\n",
    "1.int-> binary bits\n",
    "2. perform bitwise operation\n",
    "3. result bit value -> int value"
   ]
  },
  {
   "cell_type": "code",
   "execution_count": 39,
   "id": "883befb2-4e8c-4043-8695-b2e8f8447ab2",
   "metadata": {},
   "outputs": [
    {
     "name": "stdout",
     "output_type": "stream",
     "text": [
      "22\n"
     ]
    }
   ],
   "source": [
    "print( 45 and 22)"
   ]
  },
  {
   "cell_type": "code",
   "execution_count": 40,
   "id": "5deec90b-fa97-4a9d-99d6-62f259e6f5b6",
   "metadata": {},
   "outputs": [
    {
     "name": "stdout",
     "output_type": "stream",
     "text": [
      "45\n"
     ]
    }
   ],
   "source": [
    "print(45 or 22)"
   ]
  },
  {
   "cell_type": "code",
   "execution_count": null,
   "id": "78bab353-953c-45b5-a991-831093399747",
   "metadata": {},
   "outputs": [],
   "source": [
    "# & bitwise and\n",
    "# | bitwise or\n",
    "# ~ bitwise not\n",
    "# ^ bitwise xor\n",
    "# << bitwise leftshift\n",
    "# >> bitwise rightshift"
   ]
  },
  {
   "cell_type": "code",
   "execution_count": null,
   "id": "0d2e77cd-d982-4dbc-8312-100943137892",
   "metadata": {},
   "outputs": [],
   "source": [
    "and -> 1&1 is 1 else 0"
   ]
  },
  {
   "cell_type": "code",
   "execution_count": null,
   "id": "7661b0df-ed0e-47dc-a9f7-d805efb1ea3d",
   "metadata": {},
   "outputs": [],
   "source": [
    "or -> 0|0 is 0 else 1"
   ]
  },
  {
   "cell_type": "code",
   "execution_count": 42,
   "id": "685f6a6e-c686-4888-b04e-b9de5617428e",
   "metadata": {},
   "outputs": [],
   "source": [
    "# ~1 is 0 and ~0 is 1"
   ]
  },
  {
   "cell_type": "code",
   "execution_count": 44,
   "id": "2d922304-460f-4df7-8a97-7c8ea2be5063",
   "metadata": {},
   "outputs": [
    {
     "name": "stdout",
     "output_type": "stream",
     "text": [
      "0\n",
      "1\n",
      "1\n",
      "0\n"
     ]
    }
   ],
   "source": [
    "# XOR-> same bits is 0 opposite bits is 1\n",
    "print(1 ^ 1)\n",
    "print(1 ^ 0)\n",
    "print(0 ^ 1)\n",
    "print(0 ^ 0)"
   ]
  },
  {
   "cell_type": "code",
   "execution_count": 45,
   "id": "5221212a-7b6a-4866-8abd-f6c4cb34029b",
   "metadata": {},
   "outputs": [
    {
     "data": {
      "text/plain": [
       "'0b10110'"
      ]
     },
     "execution_count": 45,
     "metadata": {},
     "output_type": "execute_result"
    }
   ],
   "source": [
    "#bin(int) -> return binary value of given integer value\n",
    "bin(22)"
   ]
  },
  {
   "cell_type": "markdown",
   "id": "4192c910-d413-44e6-87f8-771f9f25a2b6",
   "metadata": {},
   "source": [
    "### Bitwise leftshift"
   ]
  },
  {
   "cell_type": "code",
   "execution_count": 48,
   "id": "0874f797-6583-4135-b2e7-de7dcb526d45",
   "metadata": {},
   "outputs": [
    {
     "name": "stdout",
     "output_type": "stream",
     "text": [
      "92\n"
     ]
    }
   ],
   "source": [
    "# bits ko left mein shift karega\n",
    "# number << the_number_of_bits\n",
    "print(23<<2)"
   ]
  },
  {
   "cell_type": "code",
   "execution_count": null,
   "id": "9885e5a0-2ac3-46fe-b705-12e1ce34e6e3",
   "metadata": {},
   "outputs": [],
   "source": [
    "# result number = 2 ** no_of_bits * number"
   ]
  },
  {
   "cell_type": "markdown",
   "id": "773be594-0fe6-414f-98ca-ec2151b5a2ea",
   "metadata": {},
   "source": [
    "### Bitwise RightShift"
   ]
  },
  {
   "cell_type": "code",
   "execution_count": 50,
   "id": "2e88b5a8-4c51-4d3a-8f01-7f1424d3cffd",
   "metadata": {},
   "outputs": [
    {
     "name": "stdout",
     "output_type": "stream",
     "text": [
      "16\n"
     ]
    }
   ],
   "source": [
    "# bits ko right mein shift karega\n",
    "# number >> the_number_of_bits\n",
    "print(64>>2)"
   ]
  },
  {
   "cell_type": "code",
   "execution_count": null,
   "id": "928b28ba-ea54-4d5e-82a6-9cbd8d47ff3e",
   "metadata": {},
   "outputs": [],
   "source": [
    "# result number = number/ 2 ** no_of_bits"
   ]
  },
  {
   "cell_type": "markdown",
   "id": "e6cce12d-f38b-4769-b71d-e0af98489649",
   "metadata": {},
   "source": [
    "## Ternary operator"
   ]
  },
  {
   "cell_type": "code",
   "execution_count": 1,
   "id": "675cae87-a4f0-4083-8820-f68f93686cc7",
   "metadata": {},
   "outputs": [
    {
     "name": "stdout",
     "output_type": "stream",
     "text": [
      "ODD\n"
     ]
    }
   ],
   "source": [
    "# conditional statements ki jagah use hoga\n",
    "# exp_1 if condition else exp_2\n",
    "num = 15\n",
    "print('EVEN') if num % 2 == 0 else print('ODD')"
   ]
  },
  {
   "cell_type": "markdown",
   "id": "e5bbee43-f7f4-4a79-995b-028c009b7f6a",
   "metadata": {},
   "source": [
    "## compound Assignment operator"
   ]
  },
  {
   "cell_type": "code",
   "execution_count": null,
   "id": "0d814958-cd14-4a3d-81e2-d3c16f7a485c",
   "metadata": {},
   "outputs": [],
   "source": [
    "# a += 1  -> a = a+1\n"
   ]
  },
  {
   "cell_type": "markdown",
   "id": "79bc9ee2-8f1f-4487-bbe5-72fc4aab4412",
   "metadata": {},
   "source": [
    "## String"
   ]
  },
  {
   "cell_type": "markdown",
   "id": "8658c4b6-f921-468a-b1a5-28d541f18bb7",
   "metadata": {},
   "source": [
    "### OPerations on string"
   ]
  },
  {
   "cell_type": "code",
   "execution_count": null,
   "id": "d9da0733-061a-4281-9827-c286493cf136",
   "metadata": {},
   "outputs": [],
   "source": [
    "# concatrenation,repeatition, indexing and slicing,membership,length"
   ]
  },
  {
   "cell_type": "code",
   "execution_count": 5,
   "id": "cbda3d58-aedd-4273-a7f7-df680a68a905",
   "metadata": {},
   "outputs": [
    {
     "name": "stdout",
     "output_type": "stream",
     "text": [
      "manoj kumar bajpayee \n"
     ]
    }
   ],
   "source": [
    "# Concatenation\n",
    "n1 = 'manoj'\n",
    "n2 = 'kumar'\n",
    "n3 = 'bajpayee'\n",
    "\n",
    "full_names = ''\n",
    "full_names += n1 + ' '\n",
    "full_names += n2 + ' '\n",
    "full_names += n3 + ' '\n",
    "print(full_names)"
   ]
  },
  {
   "cell_type": "code",
   "execution_count": null,
   "id": "bbcf86dc-69e9-4459-a215-ec7bf25f8f54",
   "metadata": {},
   "outputs": [],
   "source": [
    "# Repaeation -> * operator used for repaeation"
   ]
  },
  {
   "cell_type": "code",
   "execution_count": 8,
   "id": "b9aff95b-938f-4b50-8d1c-cbaf052a7bbf",
   "metadata": {},
   "outputs": [
    {
     "name": "stdout",
     "output_type": "stream",
     "text": [
      "appleappleappleappleappleappleappleappleappleappleappleappleappleappleappleappleappleappleappleapple\n"
     ]
    }
   ],
   "source": [
    "m_str = 'apple'\n",
    "print(m_str * 20)"
   ]
  },
  {
   "cell_type": "markdown",
   "id": "551a45e9-3af4-4946-9f6f-f32d68a39612",
   "metadata": {},
   "source": [
    "# lENgth of String"
   ]
  },
  {
   "cell_type": "code",
   "execution_count": 10,
   "id": "72c2af1e-8e97-4e32-b98f-fd56ccd2715b",
   "metadata": {},
   "outputs": [
    {
     "name": "stdout",
     "output_type": "stream",
     "text": [
      "     \n"
     ]
    }
   ],
   "source": [
    "mY_str = '     '\n",
    "print(mY_str)"
   ]
  },
  {
   "cell_type": "markdown",
   "id": "80c3d5ad-72d0-4bf3-84a7-5c502051735b",
   "metadata": {},
   "source": [
    "## Indexing in string"
   ]
  },
  {
   "cell_type": "code",
   "execution_count": null,
   "id": "0f44eed1-a40b-474a-8cc4-df1f70b33eab",
   "metadata": {},
   "outputs": [],
   "source": [
    "# Positive index -> 0 to n-1\n",
    "# negative index -> -1 to -n"
   ]
  },
  {
   "cell_type": "markdown",
   "id": "ed1b5b97-21bb-42c4-80f9-16bf8801df01",
   "metadata": {},
   "source": [
    "## Slicing"
   ]
  },
  {
   "cell_type": "code",
   "execution_count": null,
   "id": "bd9f6227-9b49-4ade-9a2a-7d3f51ceba7e",
   "metadata": {},
   "outputs": [],
   "source": [
    "# Extracting a substring from a string"
   ]
  },
  {
   "cell_type": "code",
   "execution_count": 13,
   "id": "cc02d30e-63a8-4a21-8fbf-ab6d88289dc4",
   "metadata": {},
   "outputs": [
    {
     "name": "stdout",
     "output_type": "stream",
     "text": [
      "ssjjsj\n"
     ]
    }
   ],
   "source": [
    "my_str = \"sjsjjjjjsjjjj jsjsjjjjjj\"\n",
    "print(my_str[0:12:2])"
   ]
  },
  {
   "cell_type": "code",
   "execution_count": 15,
   "id": "7ac353c9-a403-408a-abb3-361f25bf0344",
   "metadata": {},
   "outputs": [
    {
     "name": "stdout",
     "output_type": "stream",
     "text": [
      "jjsjjs\n"
     ]
    }
   ],
   "source": [
    "print(my_str[12:1:-2])"
   ]
  },
  {
   "cell_type": "code",
   "execution_count": 17,
   "id": "130355c2-543a-45a8-b35a-3953b234189f",
   "metadata": {},
   "outputs": [
    {
     "name": "stdout",
     "output_type": "stream",
     "text": [
      "jjjjjjsjsj jjjjsjjjjjsjs\n",
      "jjjjjjsjsj jjjjsjjjjjsjs\n"
     ]
    }
   ],
   "source": [
    "print(my_str[::-1])\n",
    "print(my_str[-1::-1]) # both print same value(Reverse a string)"
   ]
  },
  {
   "cell_type": "code",
   "execution_count": 18,
   "id": "97228eb3-3844-4160-a2a2-4639943d40e7",
   "metadata": {},
   "outputs": [],
   "source": [
    "# By default indexing will start from left to right(if we dont put any step value then by default step value is 1) "
   ]
  },
  {
   "cell_type": "code",
   "execution_count": 19,
   "id": "d5845b77-c3a5-4241-a775-b560a9ac6580",
   "metadata": {},
   "outputs": [
    {
     "name": "stdout",
     "output_type": "stream",
     "text": [
      "anvee\n"
     ]
    }
   ],
   "source": [
    "my_str = 'ranveer'\n",
    "print(my_str[1:-1])"
   ]
  },
  {
   "cell_type": "markdown",
   "id": "fef8dd2a-27e0-45f4-a0ef-f7ec92263f03",
   "metadata": {},
   "source": [
    "## Membership"
   ]
  },
  {
   "cell_type": "code",
   "execution_count": null,
   "id": "2e2c4e2e-68e1-4042-8f2c-7f09bf548996",
   "metadata": {},
   "outputs": [],
   "source": [
    "# in\n",
    "# not in"
   ]
  },
  {
   "cell_type": "code",
   "execution_count": 21,
   "id": "7ed948a4-8240-4e31-820b-560db01e91f9",
   "metadata": {},
   "outputs": [
    {
     "name": "stdout",
     "output_type": "stream",
     "text": [
      "True\n"
     ]
    }
   ],
   "source": [
    "my_str = 'rjrjrjjjj'\n",
    "print('r' in my_str)\n",
    "    "
   ]
  },
  {
   "cell_type": "markdown",
   "id": "9d863757-f307-4944-941d-9ef8de71a60f",
   "metadata": {},
   "source": [
    "## Methods -> it was used to accomplish a specific task"
   ]
  },
  {
   "cell_type": "code",
   "execution_count": 25,
   "id": "b6051fae-54ef-4e5a-8cc1-a4e22efdde63",
   "metadata": {},
   "outputs": [
    {
     "name": "stdout",
     "output_type": "stream",
     "text": [
      "['lallu', 'rams', 'hrivastav']\n"
     ]
    }
   ],
   "source": [
    "my_str = \"lallu rams hrivastav\"\n",
    "print(my_str.split())"
   ]
  },
  {
   "cell_type": "code",
   "execution_count": 1,
   "id": "c24d67e3-cf39-418c-abfb-c5136914740f",
   "metadata": {},
   "outputs": [
    {
     "name": "stdout",
     "output_type": "stream",
     "text": [
      "['sjsjjjsjjjj@@@@@$$$sjsjsjsjsj']\n"
     ]
    }
   ],
   "source": [
    "my_str = \"sjsjjjsjjjj@@@@@$$$sjsjsjsjsj\"\n",
    "print(my_str.split())"
   ]
  },
  {
   "cell_type": "code",
   "execution_count": 3,
   "id": "877c3868-4986-4449-a3cf-b653a1bcb738",
   "metadata": {},
   "outputs": [
    {
     "name": "stdout",
     "output_type": "stream",
     "text": [
      "sjsjjjsjjjj@@@@@$$$sjsjsjsjsj\n"
     ]
    }
   ],
   "source": [
    "my_str = \"22222sjsjjjsjjjj@@@@@$$$sjsjsjsjsj\"\n",
    "print(my_str.lstrip(\"222222\")) # Remove the left most character(by default remove spaces from left)"
   ]
  },
  {
   "cell_type": "code",
   "execution_count": 4,
   "id": "b16e40d9-305e-4617-ba70-bd19e9ea16ae",
   "metadata": {},
   "outputs": [
    {
     "name": "stdout",
     "output_type": "stream",
     "text": [
      "22222sjsjjjsjjjj@@@@@$$$sjsjsjsjsj\n"
     ]
    }
   ],
   "source": [
    "my_str = \"22222sjsjjjsjjjj@@@@@$$$sjsjsjsjsj666\"\n",
    "print(my_str.rstrip(\"666\")) # Remove the right most characters(by default remove spaces from right)"
   ]
  },
  {
   "cell_type": "code",
   "execution_count": 5,
   "id": "f398d7be-4c52-499d-b85c-39820f4bb417",
   "metadata": {},
   "outputs": [
    {
     "name": "stdout",
     "output_type": "stream",
     "text": [
      "2\n"
     ]
    }
   ],
   "source": [
    "my_str = \"sswwwsriiij\"\n",
    "print(my_str.index('w')) #  return first occurence of that character/string."
   ]
  },
  {
   "cell_type": "code",
   "execution_count": 7,
   "id": "218f25df-a46f-46f8-b622-afa3fb5abc89",
   "metadata": {},
   "outputs": [
    {
     "name": "stdout",
     "output_type": "stream",
     "text": [
      "idididi\n"
     ]
    }
   ],
   "source": [
    "my_str = \"kdkdkdk\"\n",
    "print(my_str.replace('k','i'))"
   ]
  },
  {
   "cell_type": "code",
   "execution_count": 10,
   "id": "0141c514-51f5-464f-9786-2c63403d9191",
   "metadata": {},
   "outputs": [
    {
     "ename": "TypeError",
     "evalue": "The fill character must be exactly one character long",
     "output_type": "error",
     "traceback": [
      "\u001b[1;31m---------------------------------------------------------------------------\u001b[0m",
      "\u001b[1;31mTypeError\u001b[0m                                 Traceback (most recent call last)",
      "Cell \u001b[1;32mIn[10], line 2\u001b[0m\n\u001b[0;32m      1\u001b[0m my_str \u001b[38;5;241m=\u001b[39m \u001b[38;5;124m\"\u001b[39m\u001b[38;5;124m22222sjsjjjsjjjj@@@@@$$$sjsjsjsjsj\u001b[39m\u001b[38;5;124m\"\u001b[39m\n\u001b[1;32m----> 2\u001b[0m my_str\u001b[38;5;241m.\u001b[39mljust(\u001b[38;5;28mlen\u001b[39m(my_str) \u001b[38;5;241m+\u001b[39m \u001b[38;5;241m2\u001b[39m,\u001b[38;5;124m'\u001b[39m\u001b[38;5;132;01m%%\u001b[39;00m\u001b[38;5;124m'\u001b[39m)\n",
      "\u001b[1;31mTypeError\u001b[0m: The fill character must be exactly one character long"
     ]
    }
   ],
   "source": [
    "my_str = \"22222sjsjjjsjjjj@@@@@$$$sjsjsjsjsj\"\n",
    "my_str.ljust(len(my_str) + 2,'%%')"
   ]
  },
  {
   "cell_type": "code",
   "execution_count": 11,
   "id": "1154b9a5-a117-4336-88c8-3570392fcd26",
   "metadata": {},
   "outputs": [
    {
     "ename": "TypeError",
     "evalue": "The fill character must be exactly one character long",
     "output_type": "error",
     "traceback": [
      "\u001b[1;31m---------------------------------------------------------------------------\u001b[0m",
      "\u001b[1;31mTypeError\u001b[0m                                 Traceback (most recent call last)",
      "Cell \u001b[1;32mIn[11], line 1\u001b[0m\n\u001b[1;32m----> 1\u001b[0m my_str\u001b[38;5;241m.\u001b[39mrjust(\u001b[38;5;28mlen\u001b[39m(my_str) \u001b[38;5;241m+\u001b[39m \u001b[38;5;241m2\u001b[39m,\u001b[38;5;124m'\u001b[39m\u001b[38;5;132;01m%%\u001b[39;00m\u001b[38;5;124m'\u001b[39m)\n",
      "\u001b[1;31mTypeError\u001b[0m: The fill character must be exactly one character long"
     ]
    }
   ],
   "source": [
    "my_str.rjust(len(my_str) + 2,'%%')"
   ]
  },
  {
   "cell_type": "code",
   "execution_count": 12,
   "id": "4bb0d22c-1e28-4911-aff3-bbd15f5fba78",
   "metadata": {},
   "outputs": [
    {
     "data": {
      "text/plain": [
       "'**helloworld**'"
      ]
     },
     "execution_count": 12,
     "metadata": {},
     "output_type": "execute_result"
    }
   ],
   "source": [
    "my_str = \"helloworld\"\n",
    "my_str.center(len(my_str)+4, '*')"
   ]
  },
  {
   "cell_type": "code",
   "execution_count": 13,
   "id": "6c0750a3-7be6-417b-91d4-3844163c6856",
   "metadata": {},
   "outputs": [
    {
     "data": {
      "text/plain": [
       "'&&&&&&helloworld****'"
      ]
     },
     "execution_count": 13,
     "metadata": {},
     "output_type": "execute_result"
    }
   ],
   "source": [
    "my_str = \"helloworld\"\n",
    "my_str.ljust(len(my_str)+4, '*').rjust(len(my_str)+10,'&')"
   ]
  },
  {
   "cell_type": "code",
   "execution_count": 14,
   "id": "cf455a91-1f28-4fd9-a529-babd40730851",
   "metadata": {},
   "outputs": [
    {
     "name": "stdout",
     "output_type": "stream",
     "text": [
      "True\n"
     ]
    }
   ],
   "source": [
    "my_str = \"helloworld\"\n",
    "print(my_str.isalnum()) # alpha numeric hai ki nahi "
   ]
  },
  {
   "cell_type": "code",
   "execution_count": 15,
   "id": "bd5ade0b-c291-43c2-843c-566c0627bda8",
   "metadata": {},
   "outputs": [
    {
     "name": "stdout",
     "output_type": "stream",
     "text": [
      "True\n"
     ]
    }
   ],
   "source": [
    "my_str = \"helloworld\"\n",
    "print(my_str.isalpha()) # aphabet hai ki nahi usme"
   ]
  },
  {
   "cell_type": "code",
   "execution_count": 16,
   "id": "262656ee-05de-42db-9f76-410220211cad",
   "metadata": {},
   "outputs": [
    {
     "name": "stdout",
     "output_type": "stream",
     "text": [
      "True\n"
     ]
    }
   ],
   "source": [
    "my_str = \"helloworld\"\n",
    "print(my_str.isidentifier()) # usme identifier hai ki nahi"
   ]
  },
  {
   "cell_type": "code",
   "execution_count": null,
   "id": "e815f64e-bf67-4968-8b04-36e71eec92aa",
   "metadata": {},
   "outputs": [],
   "source": []
  }
 ],
 "metadata": {
  "kernelspec": {
   "display_name": "Python 3 (ipykernel)",
   "language": "python",
   "name": "python3"
  },
  "language_info": {
   "codemirror_mode": {
    "name": "ipython",
    "version": 3
   },
   "file_extension": ".py",
   "mimetype": "text/x-python",
   "name": "python",
   "nbconvert_exporter": "python",
   "pygments_lexer": "ipython3",
   "version": "3.12.3"
  }
 },
 "nbformat": 4,
 "nbformat_minor": 5
}
