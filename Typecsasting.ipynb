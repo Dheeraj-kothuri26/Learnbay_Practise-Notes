{
 "cells": [
  {
   "cell_type": "markdown",
   "id": "31b46888-0a3f-4c0c-9f3b-efefbeba0e8a",
   "metadata": {},
   "source": [
    "# Typecasting"
   ]
  },
  {
   "cell_type": "code",
   "execution_count": null,
   "id": "d217606c-0103-4eb6-8cb0-73e72bdb1f78",
   "metadata": {},
   "outputs": [],
   "source": [
    "# koi ek datatype ko doosre datatype pe convert karne ko hum type casting bolte hain."
   ]
  },
  {
   "cell_type": "code",
   "execution_count": null,
   "id": "f1de1dbb-1bb8-4722-b5e4-3189b40b4193",
   "metadata": {},
   "outputs": [],
   "source": [
    "# 2.8 -> 2 (foat -> int)\n",
    "\n",
    "# '55' -> 55 (string -> int)\n",
    "\n",
    "# '55'+'22'-string concatenation\n",
    "# 55+22 - normal addition"
   ]
  },
  {
   "cell_type": "markdown",
   "id": "bb0968c2-fb9d-4e64-9f8d-4bf5c1183609",
   "metadata": {},
   "source": [
    "## int()"
   ]
  },
  {
   "cell_type": "code",
   "execution_count": null,
   "id": "80948cb9-8517-481c-8e05-14f8e7dcb5da",
   "metadata": {},
   "outputs": [],
   "source": [
    "# int value return karega"
   ]
  },
  {
   "cell_type": "code",
   "execution_count": 4,
   "id": "8bdd8f71-77a5-4054-a07f-ff568fe1cabe",
   "metadata": {},
   "outputs": [
    {
     "name": "stdout",
     "output_type": "stream",
     "text": [
      "2.222 <class 'float'>\n"
     ]
    }
   ],
   "source": [
    "a=2.222\n",
    "print(a, type(a))"
   ]
  },
  {
   "cell_type": "code",
   "execution_count": 3,
   "id": "ea6ce908-6703-412a-9f74-1b6230518c7e",
   "metadata": {},
   "outputs": [
    {
     "name": "stdout",
     "output_type": "stream",
     "text": [
      "2 <class 'int'>\n"
     ]
    }
   ],
   "source": [
    "val = int(a)\n",
    "print(val, type(val))"
   ]
  },
  {
   "cell_type": "code",
   "execution_count": 5,
   "id": "b9d30723-e1ea-43ef-822e-a9255b0ca169",
   "metadata": {},
   "outputs": [
    {
     "name": "stdout",
     "output_type": "stream",
     "text": [
      "22 <class 'int'>\n"
     ]
    }
   ],
   "source": [
    "a = '22'\n",
    "b = int(a)\n",
    "print(b, type(b))"
   ]
  },
  {
   "cell_type": "code",
   "execution_count": 6,
   "id": "de9a0361-1993-4090-80a7-5c09228cf9cd",
   "metadata": {},
   "outputs": [
    {
     "ename": "ValueError",
     "evalue": "invalid literal for int() with base 10: 'absedjdjcjjdjsfknkn'",
     "output_type": "error",
     "traceback": [
      "\u001b[1;31m---------------------------------------------------------------------------\u001b[0m",
      "\u001b[1;31mValueError\u001b[0m                                Traceback (most recent call last)",
      "Cell \u001b[1;32mIn[6], line 2\u001b[0m\n\u001b[0;32m      1\u001b[0m val \u001b[38;5;241m=\u001b[39m \u001b[38;5;124m'\u001b[39m\u001b[38;5;124mabsedjdjcjjdjsfknkn\u001b[39m\u001b[38;5;124m'\u001b[39m\n\u001b[1;32m----> 2\u001b[0m var \u001b[38;5;241m=\u001b[39m \u001b[38;5;28mint\u001b[39m(val)\n\u001b[0;32m      3\u001b[0m \u001b[38;5;28mprint\u001b[39m(var, \u001b[38;5;28mtype\u001b[39m(var))\n",
      "\u001b[1;31mValueError\u001b[0m: invalid literal for int() with base 10: 'absedjdjcjjdjsfknkn'"
     ]
    }
   ],
   "source": [
    "val = 'absedjdjcjjdjsfknkn'\n",
    "var = int(val)\n",
    "print(var, type(var))"
   ]
  },
  {
   "cell_type": "code",
   "execution_count": null,
   "id": "e02a3246-8b4b-4c88-a579-0ddff5d64000",
   "metadata": {},
   "outputs": [],
   "source": [
    "# upar wale example mein string mein sirf digits hi de sakte hain."
   ]
  },
  {
   "cell_type": "code",
   "execution_count": 8,
   "id": "d02c41e1-b35c-470c-9cbf-1fdcb169958a",
   "metadata": {},
   "outputs": [
    {
     "name": "stdout",
     "output_type": "stream",
     "text": [
      "2.2 <class 'str'>\n"
     ]
    },
    {
     "ename": "ValueError",
     "evalue": "invalid literal for int() with base 10: '2.2'",
     "output_type": "error",
     "traceback": [
      "\u001b[1;31m---------------------------------------------------------------------------\u001b[0m",
      "\u001b[1;31mValueError\u001b[0m                                Traceback (most recent call last)",
      "Cell \u001b[1;32mIn[8], line 3\u001b[0m\n\u001b[0;32m      1\u001b[0m b \u001b[38;5;241m=\u001b[39m \u001b[38;5;124m'\u001b[39m\u001b[38;5;124m2.2\u001b[39m\u001b[38;5;124m'\u001b[39m\n\u001b[0;32m      2\u001b[0m \u001b[38;5;28mprint\u001b[39m(b, \u001b[38;5;28mtype\u001b[39m(b))\n\u001b[1;32m----> 3\u001b[0m c \u001b[38;5;241m=\u001b[39m \u001b[38;5;28mint\u001b[39m(b)\n\u001b[0;32m      4\u001b[0m \u001b[38;5;28mprint\u001b[39m(c)\n",
      "\u001b[1;31mValueError\u001b[0m: invalid literal for int() with base 10: '2.2'"
     ]
    }
   ],
   "source": [
    "b = '2.2'\n",
    "print(b, type(b))\n",
    "c = int(b)\n",
    "print(c)"
   ]
  },
  {
   "cell_type": "code",
   "execution_count": 9,
   "id": "4e6b18b0-4308-455a-982d-31839367297c",
   "metadata": {},
   "outputs": [
    {
     "name": "stdout",
     "output_type": "stream",
     "text": [
      "1\n",
      "0\n"
     ]
    }
   ],
   "source": [
    "a=True\n",
    "b=False\n",
    "c=int(a)\n",
    "d=int(b)\n",
    "print(c)\n",
    "print(d)"
   ]
  },
  {
   "cell_type": "code",
   "execution_count": null,
   "id": "646a2697-ff7c-4a07-a547-56580835bbf3",
   "metadata": {},
   "outputs": [],
   "source": [
    "# 1-True\n",
    "# 0-False"
   ]
  },
  {
   "cell_type": "markdown",
   "id": "cc4d6921-7671-4a60-861e-1eaf09aa5972",
   "metadata": {},
   "source": [
    "## float"
   ]
  },
  {
   "cell_type": "code",
   "execution_count": null,
   "id": "96b0b8ff-1ec9-4cc9-bca3-6620bcd4c3f2",
   "metadata": {},
   "outputs": [],
   "source": [
    "# return karega float value ko`"
   ]
  },
  {
   "cell_type": "code",
   "execution_count": 14,
   "id": "b89206c2-ae0f-4244-911d-d2d16bb21cec",
   "metadata": {},
   "outputs": [
    {
     "name": "stdout",
     "output_type": "stream",
     "text": [
      "22\n"
     ]
    }
   ],
   "source": [
    "a=22\n",
    "b = float(a)\n",
    "print(a)"
   ]
  },
  {
   "cell_type": "code",
   "execution_count": 15,
   "id": "0574812c-05bb-4f57-993b-dbb57ad4dbbd",
   "metadata": {},
   "outputs": [
    {
     "name": "stdout",
     "output_type": "stream",
     "text": [
      "2.2\n"
     ]
    }
   ],
   "source": [
    "a='2.2'\n",
    "b = float(a)\n",
    "print(a)"
   ]
  },
  {
   "cell_type": "code",
   "execution_count": 16,
   "id": "7d5bb746-c1e1-400e-941a-bd0253979e28",
   "metadata": {},
   "outputs": [
    {
     "ename": "ValueError",
     "evalue": "could not convert string to float: 'apple'",
     "output_type": "error",
     "traceback": [
      "\u001b[1;31m---------------------------------------------------------------------------\u001b[0m",
      "\u001b[1;31mValueError\u001b[0m                                Traceback (most recent call last)",
      "Cell \u001b[1;32mIn[16], line 2\u001b[0m\n\u001b[0;32m      1\u001b[0m a\u001b[38;5;241m=\u001b[39m\u001b[38;5;124m'\u001b[39m\u001b[38;5;124mapple\u001b[39m\u001b[38;5;124m'\u001b[39m\n\u001b[1;32m----> 2\u001b[0m b\u001b[38;5;241m=\u001b[39m \u001b[38;5;28mfloat\u001b[39m(a)\n\u001b[0;32m      3\u001b[0m \u001b[38;5;28mprint\u001b[39m(b)\n",
      "\u001b[1;31mValueError\u001b[0m: could not convert string to float: 'apple'"
     ]
    }
   ],
   "source": [
    "a='apple'\n",
    "b= float(a)\n",
    "print(b)"
   ]
  },
  {
   "cell_type": "code",
   "execution_count": 18,
   "id": "bc54f5cb-ba71-424c-8feb-054154ecab38",
   "metadata": {},
   "outputs": [
    {
     "name": "stdout",
     "output_type": "stream",
     "text": [
      "2\n"
     ]
    }
   ],
   "source": [
    "a = '2.22'\n",
    "b = int(float(a))\n",
    "print(b)"
   ]
  },
  {
   "cell_type": "code",
   "execution_count": 19,
   "id": "8aafcd97-3beb-4614-bcb2-13625470edb2",
   "metadata": {},
   "outputs": [
    {
     "ename": "ValueError",
     "evalue": "could not convert string to float: 'abcs'",
     "output_type": "error",
     "traceback": [
      "\u001b[1;31m---------------------------------------------------------------------------\u001b[0m",
      "\u001b[1;31mValueError\u001b[0m                                Traceback (most recent call last)",
      "Cell \u001b[1;32mIn[19], line 2\u001b[0m\n\u001b[0;32m      1\u001b[0m v \u001b[38;5;241m=\u001b[39m \u001b[38;5;124m'\u001b[39m\u001b[38;5;124mabcs\u001b[39m\u001b[38;5;124m'\u001b[39m\n\u001b[1;32m----> 2\u001b[0m r \u001b[38;5;241m=\u001b[39m \u001b[38;5;28mfloat\u001b[39m(v)\n\u001b[0;32m      3\u001b[0m \u001b[38;5;28mprint\u001b[39m(r)\n",
      "\u001b[1;31mValueError\u001b[0m: could not convert string to float: 'abcs'"
     ]
    }
   ],
   "source": [
    "v = 'abcs'\n",
    "r = float(v)\n",
    "print(r)"
   ]
  },
  {
   "cell_type": "markdown",
   "id": "5bd3a70d-eeea-40b7-8f14-fca2895cb3da",
   "metadata": {},
   "source": [
    "## Complex"
   ]
  },
  {
   "cell_type": "code",
   "execution_count": 21,
   "id": "cac2880f-8d66-452c-bb24-a4fb61e6114c",
   "metadata": {},
   "outputs": [
    {
     "name": "stdout",
     "output_type": "stream",
     "text": [
      "(2+3j)\n",
      "(2+0j)\n",
      "(2.2+0j)\n",
      "(2+0j)\n",
      "(2+0j)\n"
     ]
    }
   ],
   "source": [
    "a = complex(2,3)\n",
    "b = complex(2)\n",
    "c = complex(2.2)\n",
    "d = complex('2')\n",
    "print(a)\n",
    "print(b)\n",
    "print(c)\n",
    "print(d)\n",
    "print(d)"
   ]
  },
  {
   "cell_type": "code",
   "execution_count": 22,
   "id": "4eb3d1be-eabe-4eb0-a8dc-5dfa102ab257",
   "metadata": {},
   "outputs": [
    {
     "ename": "ValueError",
     "evalue": "complex() arg is a malformed string",
     "output_type": "error",
     "traceback": [
      "\u001b[1;31m---------------------------------------------------------------------------\u001b[0m",
      "\u001b[1;31mValueError\u001b[0m                                Traceback (most recent call last)",
      "Cell \u001b[1;32mIn[22], line 1\u001b[0m\n\u001b[1;32m----> 1\u001b[0m e \u001b[38;5;241m=\u001b[39m \u001b[38;5;28mcomplex\u001b[39m(\u001b[38;5;124m'\u001b[39m\u001b[38;5;124maas\u001b[39m\u001b[38;5;124m'\u001b[39m)\n\u001b[0;32m      2\u001b[0m \u001b[38;5;28mprint\u001b[39m(e)\n",
      "\u001b[1;31mValueError\u001b[0m: complex() arg is a malformed string"
     ]
    }
   ],
   "source": [
    "e = complex('aas')\n",
    "print(e)"
   ]
  },
  {
   "cell_type": "code",
   "execution_count": null,
   "id": "a884e62d-988e-4b2a-8916-1865f1675a98",
   "metadata": {},
   "outputs": [],
   "source": [
    "# matlab koi input strinng nahi de sakte sirf digits hoga inputs"
   ]
  },
  {
   "cell_type": "markdown",
   "id": "87c006e6-d4b1-4c50-a652-1eee50fac4d6",
   "metadata": {},
   "source": [
    "## String"
   ]
  },
  {
   "cell_type": "code",
   "execution_count": null,
   "id": "4bc16620-faa0-4d18-b274-ee353eff0403",
   "metadata": {},
   "outputs": [],
   "source": [
    "# String ko return karega"
   ]
  },
  {
   "cell_type": "code",
   "execution_count": 1,
   "id": "bf8fa9c8-1fa2-4a11-8896-8f709a253f73",
   "metadata": {},
   "outputs": [
    {
     "name": "stdout",
     "output_type": "stream",
     "text": [
      "22\n"
     ]
    }
   ],
   "source": [
    "a=22\n",
    "b=str(a)\n",
    "print(b)"
   ]
  },
  {
   "cell_type": "code",
   "execution_count": 2,
   "id": "45601d0d-2ce0-472b-ad1c-77206fc2233e",
   "metadata": {},
   "outputs": [
    {
     "name": "stdout",
     "output_type": "stream",
     "text": [
      "<class 'str'>\n"
     ]
    }
   ],
   "source": [
    "print(type(b))"
   ]
  },
  {
   "cell_type": "code",
   "execution_count": 3,
   "id": "1ef776bd-cb13-4466-9de9-c7507f52998b",
   "metadata": {},
   "outputs": [
    {
     "name": "stdout",
     "output_type": "stream",
     "text": [
      "[1, 2, 3, 4, 5] <class 'str'>\n"
     ]
    }
   ],
   "source": [
    "lst = [1,2,3,4,5]\n",
    "var = str(lst)\n",
    "print(var, type(var))"
   ]
  },
  {
   "cell_type": "markdown",
   "id": "c89f4d2b-9726-405a-8d8a-c50baf93708d",
   "metadata": {},
   "source": [
    "### bool"
   ]
  },
  {
   "cell_type": "code",
   "execution_count": null,
   "id": "72560fab-9543-4a91-a58b-297dd9019d80",
   "metadata": {},
   "outputs": [],
   "source": [
    "# return karega true ya false"
   ]
  },
  {
   "cell_type": "code",
   "execution_count": null,
   "id": "d9dacb4c-1a15-49ba-ba7a-12c1971e5b1d",
   "metadata": {},
   "outputs": [],
   "source": [
    "# int -> 0 is False else True\n",
    "\n",
    "# float -> 0.0 is False else True\n",
    "\n",
    "# complex -> 0+0j or 0j or 0.0+0.0j or 0.0j is False else True\n",
    "\n",
    "# None -> False\n",
    "\n",
    "# string -> '', \"\", '''''', \"\"\"\"\"\"\" (empty string) is False else True\n",
    "\n",
    "# list -> [] (empty list) is False else True\n",
    "\n",
    "# tuple -> () (empty tuple) is False else True\n",
    "\n",
    "# dict -> {} (empty dictionary) is False else True\n",
    "\n",
    "# frozenset -> frosenset() or frozenset(empty_iterable) is False else True\n",
    "\n",
    "# range -> if no sequence is False else True"
   ]
  },
  {
   "cell_type": "code",
   "execution_count": 5,
   "id": "6b10b4d0-8f99-44b3-8e51-d702692bf91c",
   "metadata": {},
   "outputs": [
    {
     "name": "stdout",
     "output_type": "stream",
     "text": [
      "True\n",
      "False\n",
      "True\n"
     ]
    }
   ],
   "source": [
    "print(bool(5))\n",
    "print(bool(0))\n",
    "print(bool(-2))"
   ]
  },
  {
   "cell_type": "code",
   "execution_count": 6,
   "id": "f5414b06-2419-4a99-8c62-b576b43ae4ad",
   "metadata": {},
   "outputs": [
    {
     "name": "stdout",
     "output_type": "stream",
     "text": [
      "True\n",
      "False\n",
      "True\n"
     ]
    }
   ],
   "source": [
    "print(bool(5.2))\n",
    "print(bool(0.0))\n",
    "print(bool(-2.2))\n"
   ]
  },
  {
   "cell_type": "code",
   "execution_count": 9,
   "id": "de335a14-6fae-4255-b4db-8048f4d81ed3",
   "metadata": {},
   "outputs": [
    {
     "name": "stdout",
     "output_type": "stream",
     "text": [
      "False\n",
      "False\n",
      "False\n",
      "False\n",
      "True\n",
      "True\n",
      "True\n",
      "True\n"
     ]
    }
   ],
   "source": [
    "print(bool(0+0j))\n",
    "print(bool(0.0+0.0j))\n",
    "print(bool(0.0j))\n",
    "print(bool(0))\n",
    "print(bool(1+2j))\n",
    "print(bool(1-2j))\n",
    "print(bool(-1+2j))\n",
    "print(bool(-1-2j))"
   ]
  },
  {
   "cell_type": "code",
   "execution_count": 10,
   "id": "adc1d6ec-8028-4e5f-94d6-5cab3a9440d0",
   "metadata": {},
   "outputs": [
    {
     "name": "stdout",
     "output_type": "stream",
     "text": [
      "False\n",
      "False\n",
      "False\n",
      "False\n"
     ]
    }
   ],
   "source": [
    "print(bool(''))\n",
    "print(bool(\"\"))\n",
    "print(bool(''''''))\n",
    "print(bool(\"\"\"\"\"\"))"
   ]
  },
  {
   "cell_type": "code",
   "execution_count": 11,
   "id": "1ff0b224-3d84-4280-9fde-74ab07c1a095",
   "metadata": {},
   "outputs": [
    {
     "name": "stdout",
     "output_type": "stream",
     "text": [
      "True\n",
      "True\n",
      "True\n",
      "True\n"
     ]
    }
   ],
   "source": [
    "print(bool('q'))\n",
    "print(bool(\"a\"))\n",
    "print(bool('''a'''))\n",
    "print(bool(\"\"\"aa\"\"\")) # empty character false hoga baki sab true hoga(quotes ke andar kuch bhi dale)."
   ]
  },
  {
   "cell_type": "code",
   "execution_count": 12,
   "id": "969ba63c-0bb8-4fff-9d4e-890a4eac7354",
   "metadata": {},
   "outputs": [
    {
     "name": "stdout",
     "output_type": "stream",
     "text": [
      "True\n"
     ]
    },
    {
     "ename": "NameError",
     "evalue": "name 'Lsr' is not defined",
     "output_type": "error",
     "traceback": [
      "\u001b[1;31m---------------------------------------------------------------------------\u001b[0m",
      "\u001b[1;31mNameError\u001b[0m                                 Traceback (most recent call last)",
      "Cell \u001b[1;32mIn[12], line 4\u001b[0m\n\u001b[0;32m      2\u001b[0m \u001b[38;5;28mprint\u001b[39m(\u001b[38;5;28mbool\u001b[39m(lst))\n\u001b[0;32m      3\u001b[0m lsr \u001b[38;5;241m=\u001b[39m []\n\u001b[1;32m----> 4\u001b[0m \u001b[38;5;28mprint\u001b[39m(\u001b[38;5;28mbool\u001b[39m(Lsr))\n",
      "\u001b[1;31mNameError\u001b[0m: name 'Lsr' is not defined"
     ]
    }
   ],
   "source": [
    "lst = [1,2,3,4,5,6,7]\n",
    "print(bool(lst))\n"
   ]
  },
  {
   "cell_type": "code",
   "execution_count": 14,
   "id": "78997ff9-5aa6-431d-b92f-1bd8eb7109f7",
   "metadata": {},
   "outputs": [
    {
     "name": "stdout",
     "output_type": "stream",
     "text": [
      "False\n"
     ]
    }
   ],
   "source": [
    "\n",
    "print(bool([]))"
   ]
  },
  {
   "cell_type": "code",
   "execution_count": 15,
   "id": "3e36f3eb-3113-4755-9b05-af6fedc109e8",
   "metadata": {},
   "outputs": [
    {
     "ename": "SyntaxError",
     "evalue": "invalid syntax. Perhaps you forgot a comma? (2743722859.py, line 1)",
     "output_type": "error",
     "traceback": [
      "\u001b[1;36m  Cell \u001b[1;32mIn[15], line 1\u001b[1;36m\u001b[0m\n\u001b[1;33m    print(bool(())\u001b[0m\n\u001b[1;37m          ^\u001b[0m\n\u001b[1;31mSyntaxError\u001b[0m\u001b[1;31m:\u001b[0m invalid syntax. Perhaps you forgot a comma?\n"
     ]
    }
   ],
   "source": [
    "print(bool(())\n",
    "print(bool(frozenset()))\n",
    "print(bool(range())"
   ]
  },
  {
   "cell_type": "markdown",
   "id": "a1178d96-d233-4e26-a859-605cca5be949",
   "metadata": {},
   "source": [
    "### List()"
   ]
  },
  {
   "cell_type": "code",
   "execution_count": null,
   "id": "f37163ce-2be1-40c6-b380-6afaf314e36e",
   "metadata": {},
   "outputs": [],
   "source": [
    "Ye hum kuch aisa samajh sakte hain kisi bhi iterable items ko hum list par convert kar sakte hain\n",
    "iterable items:List,Tuple,dictionary\n",
    "non-iterable:set,frozenset"
   ]
  },
  {
   "cell_type": "code",
   "execution_count": 2,
   "id": "fa2ab7fa-c181-4b05-8266-f52df2574e8a",
   "metadata": {},
   "outputs": [
    {
     "name": "stdout",
     "output_type": "stream",
     "text": [
      "[1, 2, 3, 4, 5, 6]\n",
      "['pineapple', 2, 3, 4, 5, 6]\n"
     ]
    }
   ],
   "source": [
    "var = [1,2,3,4,5,6]\n",
    "ver = list(var)\n",
    "print(ver)\n",
    "ver[0] = \"pineapple\"\n",
    "print(ver)"
   ]
  },
  {
   "cell_type": "code",
   "execution_count": 4,
   "id": "56c0be14-8446-4ae0-9a95-5ccddde3ac00",
   "metadata": {},
   "outputs": [
    {
     "name": "stdout",
     "output_type": "stream",
     "text": [
      "[1, 2, 3, 4, 5, 6]\n"
     ]
    },
    {
     "ename": "TypeError",
     "evalue": "'tuple' object does not support item assignment",
     "output_type": "error",
     "traceback": [
      "\u001b[1;31m---------------------------------------------------------------------------\u001b[0m",
      "\u001b[1;31mTypeError\u001b[0m                                 Traceback (most recent call last)",
      "Cell \u001b[1;32mIn[4], line 4\u001b[0m\n\u001b[0;32m      2\u001b[0m ver \u001b[38;5;241m=\u001b[39m \u001b[38;5;28mlist\u001b[39m(var)\n\u001b[0;32m      3\u001b[0m \u001b[38;5;28mprint\u001b[39m(ver)\n\u001b[1;32m----> 4\u001b[0m var[\u001b[38;5;241m0\u001b[39m] \u001b[38;5;241m=\u001b[39m \u001b[38;5;124m'\u001b[39m\u001b[38;5;124mqwer\u001b[39m\u001b[38;5;124m'\u001b[39m\n\u001b[0;32m      5\u001b[0m \u001b[38;5;28mprint\u001b[39m(var)\n",
      "\u001b[1;31mTypeError\u001b[0m: 'tuple' object does not support item assignment"
     ]
    }
   ],
   "source": [
    "var = (1,2,3,4,5,6)\n",
    "ver = list(var)\n",
    "print(ver)\n",
    "var[0] = 'qwer'\n",
    "print(var)"
   ]
  },
  {
   "cell_type": "code",
   "execution_count": null,
   "id": "a78c4b9d-40ed-4512-99ce-b1fe44eefff9",
   "metadata": {},
   "outputs": [],
   "source": [
    "iska matlab agar jo tuple ko hum list par convert karte hain to fir hum wo list mutable hoga aur iska vice versa nahi hoga."
   ]
  },
  {
   "cell_type": "markdown",
   "id": "77943d32-2d75-49f3-973d-ad36f33b5daa",
   "metadata": {},
   "source": [
    "## Tuple"
   ]
  },
  {
   "cell_type": "code",
   "execution_count": null,
   "id": "c6bd1ed1-4cb5-4bc5-92ef-f6f9a36f7542",
   "metadata": {},
   "outputs": [],
   "source": [
    "Ye hum kuch aisa samajh sakte hain kisi bhi iterable items ko hum tuple par convert kar sakte hain\n",
    "# Iterables- string, list, tuple, dictionary, set, frozenset, range\n",
    "# Non-iterables- int, float, complex, bool, None"
   ]
  },
  {
   "cell_type": "code",
   "execution_count": 5,
   "id": "7cfc4ab8-b79f-4956-b396-fd56cbe754dd",
   "metadata": {},
   "outputs": [
    {
     "name": "stdout",
     "output_type": "stream",
     "text": [
      "(1, 2, 3, 4, 5, 6)\n"
     ]
    }
   ],
   "source": [
    "var = [1,2,3,4,5,6]\n",
    "ver = tuple(var)\n",
    "print(ver)"
   ]
  },
  {
   "cell_type": "code",
   "execution_count": null,
   "id": "fc1c960a-3986-4727-a7d2-d21eafe6ea80",
   "metadata": {},
   "outputs": [],
   "source": [
    "ye tuple immutable hoga"
   ]
  },
  {
   "cell_type": "code",
   "execution_count": 6,
   "id": "465953e7-2ee3-46d6-b6b4-f86839d296f2",
   "metadata": {},
   "outputs": [
    {
     "name": "stdout",
     "output_type": "stream",
     "text": [
      "(1, 2, 3, 4, 5, 6)\n"
     ]
    }
   ],
   "source": [
    "var = (1,2,3,4,5,6)\n",
    "ver = tuple(var)\n",
    "print(ver)"
   ]
  },
  {
   "cell_type": "markdown",
   "id": "44502c28-77b1-4f28-a6b6-d27f4d7670ad",
   "metadata": {},
   "source": [
    "### dict"
   ]
  },
  {
   "cell_type": "code",
   "execution_count": null,
   "id": "f09ce91e-713c-49e2-92ed-87b5da61975c",
   "metadata": {},
   "outputs": [],
   "source": [
    "Ye hum kuch aisa samajh sakte hain kisi bhi iterable items ko hum dictionary par convert kar sakte hain\n",
    "hume do iterable pass karna padta hai\n",
    "dict([[iterable_object]]) - aisa kuch"
   ]
  },
  {
   "cell_type": "code",
   "execution_count": 4,
   "id": "388b472f-7f96-478f-bb05-d9143456358d",
   "metadata": {},
   "outputs": [
    {
     "name": "stdout",
     "output_type": "stream",
     "text": [
      "{1: 2}\n"
     ]
    }
   ],
   "source": [
    "# list\n",
    "ver = dict([[1,2]])\n",
    "print(ver)"
   ]
  },
  {
   "cell_type": "code",
   "execution_count": 5,
   "id": "ad0e01ff-d32f-4ad4-bb85-67bfc638fb4d",
   "metadata": {},
   "outputs": [
    {
     "name": "stdout",
     "output_type": "stream",
     "text": [
      "{1: 2, 2: 44, 3: 484848}\n"
     ]
    }
   ],
   "source": [
    "ver = dict([[1,2], [2,44],[3,484848]])\n",
    "print(ver)"
   ]
  },
  {
   "cell_type": "code",
   "execution_count": 7,
   "id": "cc61d0f3-c25c-43ce-933d-b824dd173dcb",
   "metadata": {},
   "outputs": [
    {
     "name": "stdout",
     "output_type": "stream",
     "text": [
      "{1: 2}\n"
     ]
    }
   ],
   "source": [
    "#Tuple\n",
    "ver = dict([[1,2]])\n",
    "print(ver)"
   ]
  },
  {
   "cell_type": "code",
   "execution_count": 8,
   "id": "ed3f7c98-9f6f-42e2-a868-71cd2ef97de2",
   "metadata": {},
   "outputs": [
    {
     "ename": "TypeError",
     "evalue": "cannot convert dictionary update sequence element #0 to a sequence",
     "output_type": "error",
     "traceback": [
      "\u001b[1;31m---------------------------------------------------------------------------\u001b[0m",
      "\u001b[1;31mTypeError\u001b[0m                                 Traceback (most recent call last)",
      "Cell \u001b[1;32mIn[8], line 1\u001b[0m\n\u001b[1;32m----> 1\u001b[0m ver \u001b[38;5;241m=\u001b[39m \u001b[38;5;28mdict\u001b[39m(((\u001b[38;5;241m1\u001b[39m,\u001b[38;5;241m2\u001b[39m)))\n\u001b[0;32m      2\u001b[0m \u001b[38;5;28mprint\u001b[39m(ver)\n",
      "\u001b[1;31mTypeError\u001b[0m: cannot convert dictionary update sequence element #0 to a sequence"
     ]
    }
   ],
   "source": [
    "ver = dict(((1,2)))\n",
    "print(ver)"
   ]
  },
  {
   "cell_type": "code",
   "execution_count": 9,
   "id": "dbddd6c4-1d19-49c4-95c4-7379609af0ef",
   "metadata": {},
   "outputs": [
    {
     "name": "stdout",
     "output_type": "stream",
     "text": [
      "{1: 2}\n"
     ]
    }
   ],
   "source": [
    "ver = dict([(1,2)])\n",
    "print(ver)"
   ]
  },
  {
   "cell_type": "code",
   "execution_count": 16,
   "id": "a2e85dd1-6517-436a-a3c7-776d561041c8",
   "metadata": {},
   "outputs": [
    {
     "ename": "TypeError",
     "evalue": "dict expected at most 1 argument, got 3",
     "output_type": "error",
     "traceback": [
      "\u001b[1;31m---------------------------------------------------------------------------\u001b[0m",
      "\u001b[1;31mTypeError\u001b[0m                                 Traceback (most recent call last)",
      "Cell \u001b[1;32mIn[16], line 1\u001b[0m\n\u001b[1;32m----> 1\u001b[0m var \u001b[38;5;241m=\u001b[39m \u001b[38;5;28mdict\u001b[39m([\u001b[38;5;124m'\u001b[39m\u001b[38;5;124mname\u001b[39m\u001b[38;5;124m'\u001b[39m, \u001b[38;5;124m'\u001b[39m\u001b[38;5;124msjsjj\u001b[39m\u001b[38;5;124m'\u001b[39m],[\u001b[38;5;124m'\u001b[39m\u001b[38;5;124mcity\u001b[39m\u001b[38;5;124m'\u001b[39m,\u001b[38;5;124m'\u001b[39m\u001b[38;5;124mjjdjjj\u001b[39m\u001b[38;5;124m'\u001b[39m],[\u001b[38;5;124m'\u001b[39m\u001b[38;5;124mcountry\u001b[39m\u001b[38;5;124m'\u001b[39m,\u001b[38;5;124m'\u001b[39m\u001b[38;5;124mjjjdjjj\u001b[39m\u001b[38;5;124m'\u001b[39m]) \u001b[38;5;66;03m#-> list to dictionary\u001b[39;00m\n\u001b[0;32m      2\u001b[0m \u001b[38;5;28mprint\u001b[39m(var)\n",
      "\u001b[1;31mTypeError\u001b[0m: dict expected at most 1 argument, got 3"
     ]
    }
   ],
   "source": [
    "var = dict(['name', 'sjsjj'],['city','jjdjjj'],['country','jjjdjjj']) #-> list to dictionary\n",
    "print(var)\n"
   ]
  },
  {
   "cell_type": "code",
   "execution_count": 15,
   "id": "5f71f56f-a239-4404-9b72-f1949207242f",
   "metadata": {},
   "outputs": [
    {
     "name": "stdout",
     "output_type": "stream",
     "text": [
      "{1: 'nvnnn', 2: 'uruuuruu', 3: 'nnnfjhfhh'}\n"
     ]
    }
   ],
   "source": [
    "vty = dict(((1,'nvnnn'), (2, 'uruuuruu'), (3, 'nnnfjhfhh')))\n",
    "print(vty)"
   ]
  },
  {
   "cell_type": "code",
   "execution_count": 17,
   "id": "bacd1a0b-a004-4d92-bec5-4a2a391a68f5",
   "metadata": {},
   "outputs": [
    {
     "ename": "TypeError",
     "evalue": "dict expected at most 1 argument, got 3",
     "output_type": "error",
     "traceback": [
      "\u001b[1;31m---------------------------------------------------------------------------\u001b[0m",
      "\u001b[1;31mTypeError\u001b[0m                                 Traceback (most recent call last)",
      "Cell \u001b[1;32mIn[17], line 1\u001b[0m\n\u001b[1;32m----> 1\u001b[0m var \u001b[38;5;241m=\u001b[39m \u001b[38;5;28mdict\u001b[39m([\u001b[38;5;124m'\u001b[39m\u001b[38;5;124mname\u001b[39m\u001b[38;5;124m'\u001b[39m, \u001b[38;5;124m'\u001b[39m\u001b[38;5;124msjsjj\u001b[39m\u001b[38;5;124m'\u001b[39m],[\u001b[38;5;124m'\u001b[39m\u001b[38;5;124mcity\u001b[39m\u001b[38;5;124m'\u001b[39m,\u001b[38;5;124m'\u001b[39m\u001b[38;5;124mjjdjjj\u001b[39m\u001b[38;5;124m'\u001b[39m],[\u001b[38;5;124m'\u001b[39m\u001b[38;5;124mcountry\u001b[39m\u001b[38;5;124m'\u001b[39m,\u001b[38;5;124m'\u001b[39m\u001b[38;5;124mjjjdjjj\u001b[39m\u001b[38;5;124m'\u001b[39m]) \u001b[38;5;66;03m#-> list to dictionary\u001b[39;00m\n\u001b[0;32m      2\u001b[0m \u001b[38;5;28mprint\u001b[39m(var)\n",
      "\u001b[1;31mTypeError\u001b[0m: dict expected at most 1 argument, got 3"
     ]
    }
   ],
   "source": [
    "var = dict(['name', 'sjsjj'],['city','jjdjjj'],['country','jjjdjjj']) #-> list to dictionary\n",
    "print(var)"
   ]
  },
  {
   "cell_type": "code",
   "execution_count": 19,
   "id": "3bb859d3-b9e0-454a-a677-057e71c8fe57",
   "metadata": {},
   "outputs": [
    {
     "name": "stdout",
     "output_type": "stream",
     "text": [
      "{1: 'jdjdj', 2: 'jssjjj', 3: 'jjdjdjjj'}\n"
     ]
    }
   ],
   "source": [
    "data = [(1,'jdjdj'),(2,'jssjjj'),(3,'jjdjdjjj')]\n",
    "print(dict(data))"
   ]
  },
  {
   "cell_type": "markdown",
   "id": "fddca15a-3396-4a9f-8ca7-38e3938f3114",
   "metadata": {},
   "source": [
    "### set()"
   ]
  },
  {
   "cell_type": "code",
   "execution_count": null,
   "id": "68f51b1e-a218-42cc-999b-aa3e03416c9d",
   "metadata": {},
   "outputs": [],
   "source": [
    "#set(iterable) -> set\n",
    "# iterable items ko set pe convert karega.\n",
    "#Iterables- string, list, tuple, dictionary, set, frozenset, range\n",
    "# Non-iterables- int, float, complex, bool, None"
   ]
  },
  {
   "cell_type": "code",
   "execution_count": 21,
   "id": "06c09830-b2b1-4490-8d36-cb18f386db77",
   "metadata": {},
   "outputs": [
    {
     "name": "stdout",
     "output_type": "stream",
     "text": [
      "{1, 2, 3, 4, 5, 6}\n"
     ]
    }
   ],
   "source": [
    "#list\n",
    "var = [1,2,3,4,5,6]\n",
    "ver = set(var)\n",
    "print(ver)\n"
   ]
  },
  {
   "cell_type": "code",
   "execution_count": 22,
   "id": "ce442922-fd91-417d-972c-77b539f6e797",
   "metadata": {},
   "outputs": [
    {
     "name": "stdout",
     "output_type": "stream",
     "text": [
      "{1, 2, 3, 4, 5, 6}\n"
     ]
    }
   ],
   "source": [
    "#tuple\n",
    "var = (1,2,3,4,5,6)\n",
    "ver = set(var)\n",
    "print(ver)"
   ]
  },
  {
   "cell_type": "code",
   "execution_count": 23,
   "id": "57901c2f-59e8-4835-aa6d-38a10bd54474",
   "metadata": {},
   "outputs": [
    {
     "name": "stdout",
     "output_type": "stream",
     "text": [
      "{'s', 'r', 'n', 'm', 'i', 'y', 'e', 'd', 'h', 'a', 'j', ' '}\n"
     ]
    }
   ],
   "source": [
    "# string\n",
    "var = \"hi my name is dheeraj\"\n",
    "ver = set(var)\n",
    "print(ver)"
   ]
  },
  {
   "cell_type": "code",
   "execution_count": 29,
   "id": "94e7c9fc-1afe-49d6-b0f1-affdeb0932ab",
   "metadata": {},
   "outputs": [
    {
     "name": "stdout",
     "output_type": "stream",
     "text": [
      "dict_values([200, 300, 3999])\n"
     ]
    }
   ],
   "source": [
    "# dictionary\n",
    "var = {1:200,2:300,3:3999}\n",
    "ver = set(var) # by default key print karega\n",
    "print(var.values()) # print values"
   ]
  },
  {
   "cell_type": "code",
   "execution_count": 1,
   "id": "e412a9fe-a236-4271-9148-c1e23810f73c",
   "metadata": {},
   "outputs": [
    {
     "name": "stdout",
     "output_type": "stream",
     "text": [
      "{50, 20, 40, 10, 30}\n"
     ]
    }
   ],
   "source": [
    "# frozenset()\n",
    "\n",
    "var = frozenset({10,20,30,40,50})\n",
    "print(set(var))"
   ]
  },
  {
   "cell_type": "code",
   "execution_count": 6,
   "id": "69446dd1-a0e6-40c3-a45f-a03ead7d66dd",
   "metadata": {},
   "outputs": [
    {
     "ename": "TypeError",
     "evalue": "'set' object does not support item assignment",
     "output_type": "error",
     "traceback": [
      "\u001b[1;31m---------------------------------------------------------------------------\u001b[0m",
      "\u001b[1;31mTypeError\u001b[0m                                 Traceback (most recent call last)",
      "Cell \u001b[1;32mIn[6], line 3\u001b[0m\n\u001b[0;32m      1\u001b[0m var \u001b[38;5;241m=\u001b[39m \u001b[38;5;28mfrozenset\u001b[39m([\u001b[38;5;241m10\u001b[39m,\u001b[38;5;241m20\u001b[39m,\u001b[38;5;241m30\u001b[39m,\u001b[38;5;241m40\u001b[39m,\u001b[38;5;241m50\u001b[39m])\n\u001b[0;32m      2\u001b[0m cot \u001b[38;5;241m=\u001b[39m (\u001b[38;5;28mset\u001b[39m(var))\n\u001b[1;32m----> 3\u001b[0m cot[\u001b[38;5;241m0\u001b[39m] \u001b[38;5;241m=\u001b[39m \u001b[38;5;241m2001\u001b[39m\n\u001b[0;32m      4\u001b[0m \u001b[38;5;28mprint\u001b[39m(cot)\n",
      "\u001b[1;31mTypeError\u001b[0m: 'set' object does not support item assignment"
     ]
    }
   ],
   "source": [
    "var = frozenset([10,20,30,40,50])\n",
    "cot = (set(var))\n",
    "cot[0] = 2001\n",
    "print(cot)"
   ]
  },
  {
   "cell_type": "code",
   "execution_count": 4,
   "id": "a4ee391a-4196-4f9a-84a8-72ab7b3d5b45",
   "metadata": {},
   "outputs": [
    {
     "ename": "TypeError",
     "evalue": "'frozenset' object does not support item assignment",
     "output_type": "error",
     "traceback": [
      "\u001b[1;31m---------------------------------------------------------------------------\u001b[0m",
      "\u001b[1;31mTypeError\u001b[0m                                 Traceback (most recent call last)",
      "Cell \u001b[1;32mIn[4], line 2\u001b[0m\n\u001b[0;32m      1\u001b[0m var \u001b[38;5;241m=\u001b[39m \u001b[38;5;28mfrozenset\u001b[39m([\u001b[38;5;241m10\u001b[39m,\u001b[38;5;241m20\u001b[39m,\u001b[38;5;241m30\u001b[39m,\u001b[38;5;241m40\u001b[39m,\u001b[38;5;241m50\u001b[39m])\n\u001b[1;32m----> 2\u001b[0m var[\u001b[38;5;241m0\u001b[39m] \u001b[38;5;241m=\u001b[39m \u001b[38;5;241m2\u001b[39m\n\u001b[0;32m      3\u001b[0m \u001b[38;5;28mprint\u001b[39m(var)\n",
      "\u001b[1;31mTypeError\u001b[0m: 'frozenset' object does not support item assignment"
     ]
    }
   ],
   "source": [
    "var = frozenset([10,20,30,40,50])\n",
    "var[0] = 2\n",
    "print(var)"
   ]
  },
  {
   "cell_type": "code",
   "execution_count": 3,
   "id": "72aaacf7-9a64-44e3-95e5-c748e9e6a420",
   "metadata": {},
   "outputs": [
    {
     "ename": "TypeError",
     "evalue": "'int' object is not iterable",
     "output_type": "error",
     "traceback": [
      "\u001b[1;31m---------------------------------------------------------------------------\u001b[0m",
      "\u001b[1;31mTypeError\u001b[0m                                 Traceback (most recent call last)",
      "Cell \u001b[1;32mIn[3], line 2\u001b[0m\n\u001b[0;32m      1\u001b[0m \u001b[38;5;28;01mfor\u001b[39;00m i \u001b[38;5;129;01min\u001b[39;00m \u001b[38;5;28mrange\u001b[39m(\u001b[38;5;241m0\u001b[39m,\u001b[38;5;241m12\u001b[39m):\n\u001b[1;32m----> 2\u001b[0m      \u001b[38;5;28mprint\u001b[39m(\u001b[38;5;28mset\u001b[39m(i))\n",
      "\u001b[1;31mTypeError\u001b[0m: 'int' object is not iterable"
     ]
    }
   ],
   "source": [
    "for i in range(0,12):\n",
    "     print(set(i))"
   ]
  },
  {
   "cell_type": "code",
   "execution_count": 8,
   "id": "17943c15-156b-4888-b378-26f8c3cac0d8",
   "metadata": {},
   "outputs": [
    {
     "name": "stdout",
     "output_type": "stream",
     "text": [
      "range(0, 11) <class 'range'>\n",
      "{0, 1, 2, 3, 4, 5, 6, 7, 8, 9, 10}\n"
     ]
    }
   ],
   "source": [
    "# range\n",
    "val = range(11)\n",
    "print(val, type(val))\n",
    "var = set(val)\n",
    "print(var)\n",
    "    "
   ]
  },
  {
   "cell_type": "code",
   "execution_count": 12,
   "id": "1f20624a-826a-49c8-a173-d9763b70d81d",
   "metadata": {},
   "outputs": [
    {
     "ename": "TypeError",
     "evalue": "'int' object is not iterable",
     "output_type": "error",
     "traceback": [
      "\u001b[1;31m---------------------------------------------------------------------------\u001b[0m",
      "\u001b[1;31mTypeError\u001b[0m                                 Traceback (most recent call last)",
      "Cell \u001b[1;32mIn[12], line 6\u001b[0m\n\u001b[0;32m      4\u001b[0m cot \u001b[38;5;241m=\u001b[39m \u001b[38;5;28;01mTrue\u001b[39;00m\n\u001b[0;32m      5\u001b[0m cos \u001b[38;5;241m=\u001b[39m \u001b[38;5;28;01mNone\u001b[39;00m\n\u001b[1;32m----> 6\u001b[0m \u001b[38;5;28mprint\u001b[39m(\u001b[38;5;28mset\u001b[39m(val))\n\u001b[0;32m      7\u001b[0m \u001b[38;5;28mprint\u001b[39m(\u001b[38;5;28mset\u001b[39m(var))\n\u001b[0;32m      8\u001b[0m \u001b[38;5;28mprint\u001b[39m(\u001b[38;5;28mset\u001b[39m(ver))\n",
      "\u001b[1;31mTypeError\u001b[0m: 'int' object is not iterable"
     ]
    }
   ],
   "source": [
    "val = 2\n",
    "print(set(val))"
   ]
  },
  {
   "cell_type": "code",
   "execution_count": 13,
   "id": "4dbdfb8e-607c-4f84-9f48-d5e47fae6a90",
   "metadata": {},
   "outputs": [
    {
     "ename": "TypeError",
     "evalue": "'NoneType' object is not iterable",
     "output_type": "error",
     "traceback": [
      "\u001b[1;31m---------------------------------------------------------------------------\u001b[0m",
      "\u001b[1;31mTypeError\u001b[0m                                 Traceback (most recent call last)",
      "Cell \u001b[1;32mIn[13], line 2\u001b[0m\n\u001b[0;32m      1\u001b[0m cos \u001b[38;5;241m=\u001b[39m \u001b[38;5;28;01mNone\u001b[39;00m\n\u001b[1;32m----> 2\u001b[0m \u001b[38;5;28mprint\u001b[39m(\u001b[38;5;28mset\u001b[39m(cos))\n",
      "\u001b[1;31mTypeError\u001b[0m: 'NoneType' object is not iterable"
     ]
    }
   ],
   "source": [
    "cos = None\n",
    "print(set(cos))"
   ]
  },
  {
   "cell_type": "code",
   "execution_count": 17,
   "id": "e6672347-1be6-4a98-87cf-b956058241e4",
   "metadata": {},
   "outputs": [
    {
     "ename": "TypeError",
     "evalue": "'complex' object is not iterable",
     "output_type": "error",
     "traceback": [
      "\u001b[1;31m---------------------------------------------------------------------------\u001b[0m",
      "\u001b[1;31mTypeError\u001b[0m                                 Traceback (most recent call last)",
      "Cell \u001b[1;32mIn[17], line 2\u001b[0m\n\u001b[0;32m      1\u001b[0m var \u001b[38;5;241m=\u001b[39m \u001b[38;5;241m2\u001b[39m\u001b[38;5;241m+\u001b[39m\u001b[38;5;241m5\u001b[39mj\n\u001b[1;32m----> 2\u001b[0m \u001b[38;5;28mprint\u001b[39m(\u001b[38;5;28mset\u001b[39m(var))\n",
      "\u001b[1;31mTypeError\u001b[0m: 'complex' object is not iterable"
     ]
    }
   ],
   "source": [
    "var = 2+5j\n",
    "print(set(var))"
   ]
  },
  {
   "cell_type": "code",
   "execution_count": 16,
   "id": "1732daaa-8d6d-487e-bcdf-fdb8bb4e5a81",
   "metadata": {},
   "outputs": [
    {
     "ename": "TypeError",
     "evalue": "'float' object is not iterable",
     "output_type": "error",
     "traceback": [
      "\u001b[1;31m---------------------------------------------------------------------------\u001b[0m",
      "\u001b[1;31mTypeError\u001b[0m                                 Traceback (most recent call last)",
      "Cell \u001b[1;32mIn[16], line 2\u001b[0m\n\u001b[0;32m      1\u001b[0m ver \u001b[38;5;241m=\u001b[39m \u001b[38;5;241m2.22\u001b[39m\n\u001b[1;32m----> 2\u001b[0m \u001b[38;5;28mprint\u001b[39m(\u001b[38;5;28mset\u001b[39m(ver))\n",
      "\u001b[1;31mTypeError\u001b[0m: 'float' object is not iterable"
     ]
    }
   ],
   "source": [
    "ver = 2.22\n",
    "print(set(ver))"
   ]
  },
  {
   "cell_type": "code",
   "execution_count": 15,
   "id": "397ff757-cbdf-4ba7-873b-7ab6ff5e4ac4",
   "metadata": {},
   "outputs": [
    {
     "ename": "TypeError",
     "evalue": "'bool' object is not iterable",
     "output_type": "error",
     "traceback": [
      "\u001b[1;31m---------------------------------------------------------------------------\u001b[0m",
      "\u001b[1;31mTypeError\u001b[0m                                 Traceback (most recent call last)",
      "Cell \u001b[1;32mIn[15], line 2\u001b[0m\n\u001b[0;32m      1\u001b[0m cot \u001b[38;5;241m=\u001b[39m \u001b[38;5;28;01mTrue\u001b[39;00m\n\u001b[1;32m----> 2\u001b[0m \u001b[38;5;28mprint\u001b[39m(\u001b[38;5;28mset\u001b[39m(cot))\n",
      "\u001b[1;31mTypeError\u001b[0m: 'bool' object is not iterable"
     ]
    }
   ],
   "source": [
    "cot = True\n",
    "print(set(cot))"
   ]
  },
  {
   "cell_type": "markdown",
   "id": "0c068434-d73e-40d6-a69b-dbcf55008837",
   "metadata": {},
   "source": [
    "## frozenset()"
   ]
  },
  {
   "cell_type": "code",
   "execution_count": null,
   "id": "cfe864b2-b51b-4b0e-8b32-84f3fc792c2d",
   "metadata": {},
   "outputs": [],
   "source": [
    "##wo ki jo iterable items lega as a input jo ki hashable ho aur saath hi answer hume koi random order par ho.\n",
    "## Hashable items:sarre primitives data types\n",
    "## non-hashable items:list,dictionary,set\n",
    "#Iterables- string, list, tuple, dictionary, set, frozenset, range\n",
    "# Non-iterables- int, float, complex, bool, None\n",
    "# syntax = frozenset(iterable and hashable items) -> frozenset()"
   ]
  },
  {
   "cell_type": "code",
   "execution_count": 18,
   "id": "af82cf45-fc71-4b54-b6f0-7cb5aa4ada29",
   "metadata": {},
   "outputs": [
    {
     "name": "stdout",
     "output_type": "stream",
     "text": [
      "frozenset({1, 2, 3, 4, 5, 6, 7, 8})\n"
     ]
    }
   ],
   "source": [
    "# list\n",
    "var = [1,2,3,4,5,6,7,8]\n",
    "print(frozenset(var))"
   ]
  },
  {
   "cell_type": "code",
   "execution_count": 19,
   "id": "673100b6-9406-431b-bbf0-ad851a5638a4",
   "metadata": {},
   "outputs": [
    {
     "name": "stdout",
     "output_type": "stream",
     "text": [
      "frozenset({1, 2, 3, 4, 5, 6, 7, 8})\n"
     ]
    }
   ],
   "source": [
    "# Tuple\n",
    "var = (1,2,3,4,5,6,7,8)\n",
    "print(frozenset(var))"
   ]
  },
  {
   "cell_type": "code",
   "execution_count": 22,
   "id": "3e8d4481-023d-4b7a-932f-15556ee5d88e",
   "metadata": {},
   "outputs": [
    {
     "name": "stdout",
     "output_type": "stream",
     "text": [
      "frozenset({1, 3, 5, 7})\n",
      "frozenset({600, 20, 4, 822})\n"
     ]
    }
   ],
   "source": [
    "# Dictionary\n",
    "var = {1:20,3:4,5:600,7:822}\n",
    "print(frozenset(var))\n",
    "print(frozenset(var.values()))"
   ]
  },
  {
   "cell_type": "code",
   "execution_count": 23,
   "id": "97b389a4-d392-4b06-b760-e429cf6d48f9",
   "metadata": {},
   "outputs": [
    {
     "name": "stdout",
     "output_type": "stream",
     "text": [
      "frozenset({1, 2, 3, 4, 5, 6, 7})\n"
     ]
    }
   ],
   "source": [
    "# Set\n",
    "var = {1,2,3,4,5,6,7}\n",
    "print(frozenset(var))"
   ]
  },
  {
   "cell_type": "code",
   "execution_count": 24,
   "id": "55e4fc34-cb98-4af8-bf44-0016bc61ec43",
   "metadata": {},
   "outputs": [
    {
     "name": "stdout",
     "output_type": "stream",
     "text": [
      "frozenset({0, 1})\n"
     ]
    }
   ],
   "source": [
    "# Range\n",
    "var = range(2)\n",
    "print(frozenset(var))"
   ]
  },
  {
   "cell_type": "code",
   "execution_count": 25,
   "id": "446de843-d0b8-4fad-9326-38c87fd23d6c",
   "metadata": {},
   "outputs": [
    {
     "ename": "NameError",
     "evalue": "name 'frozensetset' is not defined",
     "output_type": "error",
     "traceback": [
      "\u001b[1;31m---------------------------------------------------------------------------\u001b[0m",
      "\u001b[1;31mNameError\u001b[0m                                 Traceback (most recent call last)",
      "Cell \u001b[1;32mIn[25], line 2\u001b[0m\n\u001b[0;32m      1\u001b[0m val \u001b[38;5;241m=\u001b[39m \u001b[38;5;241m2\u001b[39m\n\u001b[1;32m----> 2\u001b[0m \u001b[38;5;28mprint\u001b[39m(frozensetset(val))\n",
      "\u001b[1;31mNameError\u001b[0m: name 'frozensetset' is not defined"
     ]
    }
   ],
   "source": [
    "val = 2\n",
    "print(frozensetset(val))"
   ]
  },
  {
   "cell_type": "code",
   "execution_count": null,
   "id": "08d5a27e-6120-4831-a326-bd56ae290764",
   "metadata": {},
   "outputs": [],
   "source": [
    "#same error will come for float, complex, bool, None"
   ]
  },
  {
   "cell_type": "markdown",
   "id": "b047cd20-2be2-4f7a-93c6-b2418d5af757",
   "metadata": {},
   "source": [
    "## Keywords and Identifiers"
   ]
  },
  {
   "cell_type": "markdown",
   "id": "2226d3ed-4a8c-42de-815a-ffd7f973296f",
   "metadata": {},
   "source": [
    "### Keyword"
   ]
  },
  {
   "cell_type": "code",
   "execution_count": null,
   "id": "476ad8bb-0b1a-4382-8581-50ea7c8537ed",
   "metadata": {},
   "outputs": [],
   "source": [
    "reserve words hote hain, unka koi specific meaning hota hai jo ki specific purpose ke liye use hota hai, yeh identifiers nhi ho sakte hain."
   ]
  },
  {
   "cell_type": "code",
   "execution_count": 26,
   "id": "895a965c-991d-408e-8903-a8577af40d8c",
   "metadata": {},
   "outputs": [],
   "source": [
    "import keyword"
   ]
  },
  {
   "cell_type": "code",
   "execution_count": 27,
   "id": "577546ff-4c79-48fc-8a71-08846bccaaa9",
   "metadata": {},
   "outputs": [
    {
     "name": "stdout",
     "output_type": "stream",
     "text": [
      "['False', 'None', 'True', 'and', 'as', 'assert', 'async', 'await', 'break', 'class', 'continue', 'def', 'del', 'elif', 'else', 'except', 'finally', 'for', 'from', 'global', 'if', 'import', 'in', 'is', 'lambda', 'nonlocal', 'not', 'or', 'pass', 'raise', 'return', 'try', 'while', 'with', 'yield']\n"
     ]
    }
   ],
   "source": [
    "print(keyword.kwlist)"
   ]
  },
  {
   "cell_type": "markdown",
   "id": "bd5d8990-c816-4937-9175-e203987e7355",
   "metadata": {},
   "source": [
    "### Identifiers"
   ]
  },
  {
   "cell_type": "code",
   "execution_count": null,
   "id": "8a463402-6d53-42af-8690-2385b8bda97f",
   "metadata": {},
   "outputs": [],
   "source": [
    "name given to python objects"
   ]
  },
  {
   "cell_type": "code",
   "execution_count": null,
   "id": "167fc3ac-ad09-4507-8086-eb4209c00814",
   "metadata": {},
   "outputs": [],
   "source": [
    "variable name, function name, classs name, object name, file name, objecct name etc."
   ]
  },
  {
   "cell_type": "code",
   "execution_count": 28,
   "id": "0b51d3f0-10e8-4a4c-b634-e01e6c4a0433",
   "metadata": {},
   "outputs": [
    {
     "name": "stdout",
     "output_type": "stream",
     "text": [
      "2\n"
     ]
    }
   ],
   "source": [
    "a = 2 # identifier name\n",
    "print(a)"
   ]
  },
  {
   "cell_type": "code",
   "execution_count": null,
   "id": "74353e39-7ba8-464c-8fbe-2e7c0bc154e3",
   "metadata": {},
   "outputs": [],
   "source": []
  }
 ],
 "metadata": {
  "kernelspec": {
   "display_name": "Python 3 (ipykernel)",
   "language": "python",
   "name": "python3"
  },
  "language_info": {
   "codemirror_mode": {
    "name": "ipython",
    "version": 3
   },
   "file_extension": ".py",
   "mimetype": "text/x-python",
   "name": "python",
   "nbconvert_exporter": "python",
   "pygments_lexer": "ipython3",
   "version": "3.12.3"
  }
 },
 "nbformat": 4,
 "nbformat_minor": 5
}
