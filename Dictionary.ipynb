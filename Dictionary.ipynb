{
  "nbformat": 4,
  "nbformat_minor": 0,
  "metadata": {
    "colab": {
      "provenance": []
    },
    "kernelspec": {
      "name": "python3",
      "display_name": "Python 3"
    },
    "language_info": {
      "name": "python"
    }
  },
  "cells": [
    {
      "cell_type": "code",
      "source": [
        "# Ways of declaring a dictionary"
      ],
      "metadata": {
        "id": "ImqOMPcjUv6R"
      },
      "execution_count": null,
      "outputs": []
    },
    {
      "cell_type": "code",
      "source": [
        "# step 1 - input manually"
      ],
      "metadata": {
        "id": "8OpjM7P9VCOz"
      },
      "execution_count": null,
      "outputs": []
    },
    {
      "cell_type": "code",
      "source": [
        "emp={'Name':'Krutika', 'Age':22, 'City':'Pune', 'Company':'TCS'}\n",
        "print(emp, type(emp))"
      ],
      "metadata": {
        "colab": {
          "base_uri": "https://localhost:8080/"
        },
        "id": "8bVj-MthVdWX",
        "outputId": "eabca75b-f790-4f05-99f7-16bddc332353"
      },
      "execution_count": null,
      "outputs": [
        {
          "output_type": "stream",
          "name": "stdout",
          "text": [
            "{'Name': 'Krutika', 'Age': 22, 'City': 'Pune', 'Company': 'TCS'} <class 'dict'>\n"
          ]
        }
      ]
    },
    {
      "cell_type": "code",
      "source": [
        "# Step 2- using enumerate and zip"
      ],
      "metadata": {
        "id": "OFTQJ3xoVqIK"
      },
      "execution_count": null,
      "outputs": []
    },
    {
      "cell_type": "code",
      "execution_count": null,
      "metadata": {
        "id": "BJEU4jA7P268"
      },
      "outputs": [],
      "source": [
        "# enumerate()-iterable objects ko values dega aur uske saath jo values assign hoga usko keys(By default zero se start hoga)."
      ]
    },
    {
      "cell_type": "code",
      "source": [],
      "metadata": {
        "id": "W1fkFY03VoEQ"
      },
      "execution_count": null,
      "outputs": []
    },
    {
      "cell_type": "code",
      "source": [
        "names=['Vaibhav', 'Neelam', 'Ashish', 'Arun', 'Shraddha', 'Nikita', 'Amit']\n",
        "\n",
        "dict(enumerate(names))\n",
        "list(enumerate(names))"
      ],
      "metadata": {
        "colab": {
          "base_uri": "https://localhost:8080/"
        },
        "id": "Kkh4A0kVQYN-",
        "outputId": "6e567ca6-602e-490c-9339-4091be5d581e"
      },
      "execution_count": null,
      "outputs": [
        {
          "output_type": "execute_result",
          "data": {
            "text/plain": [
              "[(0, 'Vaibhav'),\n",
              " (1, 'Neelam'),\n",
              " (2, 'Ashish'),\n",
              " (3, 'Arun'),\n",
              " (4, 'Shraddha'),\n",
              " (5, 'Nikita'),\n",
              " (6, 'Amit')]"
            ]
          },
          "metadata": {},
          "execution_count": 4
        }
      ]
    },
    {
      "cell_type": "code",
      "source": [
        "list(enumerate(names))"
      ],
      "metadata": {
        "colab": {
          "base_uri": "https://localhost:8080/"
        },
        "id": "p0xDLTGWRkDs",
        "outputId": "1b1cecc9-2192-4b45-f22c-f00ca5bf31dc"
      },
      "execution_count": null,
      "outputs": [
        {
          "output_type": "execute_result",
          "data": {
            "text/plain": [
              "[(0, 'Vaibhav'),\n",
              " (1, 'Neelam'),\n",
              " (2, 'Ashish'),\n",
              " (3, 'Arun'),\n",
              " (4, 'Shraddha'),\n",
              " (5, 'Nikita'),\n",
              " (6, 'Amit')]"
            ]
          },
          "metadata": {},
          "execution_count": 5
        }
      ]
    },
    {
      "cell_type": "code",
      "source": [
        "# Give the rank to the above names starting from 1\n",
        "\n",
        "dict(enumerate(names,1))"
      ],
      "metadata": {
        "colab": {
          "base_uri": "https://localhost:8080/"
        },
        "id": "Uji9nE7CR6du",
        "outputId": "347e3445-91e4-4402-d4db-8901af290075"
      },
      "execution_count": null,
      "outputs": [
        {
          "output_type": "execute_result",
          "data": {
            "text/plain": [
              "{1: 'Vaibhav',\n",
              " 2: 'Neelam',\n",
              " 3: 'Ashish',\n",
              " 4: 'Arun',\n",
              " 5: 'Shraddha',\n",
              " 6: 'Nikita',\n",
              " 7: 'Amit'}"
            ]
          },
          "metadata": {},
          "execution_count": 6
        }
      ]
    },
    {
      "cell_type": "code",
      "source": [
        "names"
      ],
      "metadata": {
        "colab": {
          "base_uri": "https://localhost:8080/"
        },
        "id": "ck7OVk-9STcd",
        "outputId": "e3ebecab-cef3-4017-e3d9-ee53c842e5c9"
      },
      "execution_count": null,
      "outputs": [
        {
          "output_type": "execute_result",
          "data": {
            "text/plain": [
              "['Vaibhav', 'Neelam', 'Ashish', 'Arun', 'Shraddha', 'Nikita', 'Amit']"
            ]
          },
          "metadata": {},
          "execution_count": 7
        }
      ]
    },
    {
      "cell_type": "code",
      "source": [
        "names[::-1]"
      ],
      "metadata": {
        "colab": {
          "base_uri": "https://localhost:8080/"
        },
        "id": "HUNA-_9OSlnl",
        "outputId": "27e0de55-ed07-4bd6-968f-88dfc5105664"
      },
      "execution_count": null,
      "outputs": [
        {
          "output_type": "execute_result",
          "data": {
            "text/plain": [
              "['Amit', 'Nikita', 'Shraddha', 'Arun', 'Ashish', 'Neelam', 'Vaibhav']"
            ]
          },
          "metadata": {},
          "execution_count": 8
        }
      ]
    },
    {
      "cell_type": "code",
      "source": [
        "# zip()-two iterables ko zip kargega rather than one and work same as enumerate."
      ],
      "metadata": {
        "id": "ecT1vNdBSxVP"
      },
      "execution_count": null,
      "outputs": []
    },
    {
      "cell_type": "code",
      "source": [
        "names = ['Vaibhav', 'Neelam', 'Ashish', 'Arun', 'Shraddha', 'Nikita', 'Amit']\n",
        "ages = [10,22,33,44,55,66,67]\n",
        "mapping = dict(zip(names,ages))\n",
        "mapping"
      ],
      "metadata": {
        "colab": {
          "base_uri": "https://localhost:8080/"
        },
        "id": "8paaa4pYTlTH",
        "outputId": "d99b06a5-0e73-4026-b98d-b44a555db6f5"
      },
      "execution_count": null,
      "outputs": [
        {
          "output_type": "execute_result",
          "data": {
            "text/plain": [
              "{'Vaibhav': 10,\n",
              " 'Neelam': 22,\n",
              " 'Ashish': 33,\n",
              " 'Arun': 44,\n",
              " 'Shraddha': 55,\n",
              " 'Nikita': 66,\n",
              " 'Amit': 67}"
            ]
          },
          "metadata": {},
          "execution_count": 12
        }
      ]
    },
    {
      "cell_type": "code",
      "source": [
        "napping = list(zip(names,ages))\n",
        "napping"
      ],
      "metadata": {
        "colab": {
          "base_uri": "https://localhost:8080/"
        },
        "id": "0ugsoWwWT6u0",
        "outputId": "92527eeb-51bb-4a14-b694-07beea899f54"
      },
      "execution_count": null,
      "outputs": [
        {
          "output_type": "execute_result",
          "data": {
            "text/plain": [
              "[('Vaibhav', 10),\n",
              " ('Neelam', 22),\n",
              " ('Ashish', 33),\n",
              " ('Arun', 44),\n",
              " ('Shraddha', 55),\n",
              " ('Nikita', 66),\n",
              " ('Amit', 67)]"
            ]
          },
          "metadata": {},
          "execution_count": 13
        }
      ]
    },
    {
      "cell_type": "code",
      "source": [
        "# Step 3- Taking input from user"
      ],
      "metadata": {
        "id": "rb_FzFC2UElE"
      },
      "execution_count": null,
      "outputs": []
    },
    {
      "cell_type": "code",
      "source": [
        "val = dict(input(\"Enter a dict\"))\n",
        "print(val)-"
      ],
      "metadata": {
        "colab": {
          "base_uri": "https://localhost:8080/",
          "height": 176
        },
        "id": "948OZu1iV_Lx",
        "outputId": "4675a618-0792-498d-d234-2e8f30e36583"
      },
      "execution_count": null,
      "outputs": [
        {
          "name": "stdout",
          "output_type": "stream",
          "text": [
            "Enter a dict{'Name':'Amit','Age':22}\n"
          ]
        },
        {
          "output_type": "error",
          "ename": "ValueError",
          "evalue": "dictionary update sequence element #0 has length 1; 2 is required",
          "traceback": [
            "\u001b[0;31m---------------------------------------------------------------------------\u001b[0m",
            "\u001b[0;31mValueError\u001b[0m                                Traceback (most recent call last)",
            "\u001b[0;32m<ipython-input-20-13cfe954274d>\u001b[0m in \u001b[0;36m<cell line: 0>\u001b[0;34m()\u001b[0m\n\u001b[0;32m----> 1\u001b[0;31m \u001b[0mval\u001b[0m \u001b[0;34m=\u001b[0m \u001b[0mdict\u001b[0m\u001b[0;34m(\u001b[0m\u001b[0minput\u001b[0m\u001b[0;34m(\u001b[0m\u001b[0;34m\"Enter a dict\"\u001b[0m\u001b[0;34m)\u001b[0m\u001b[0;34m)\u001b[0m\u001b[0;34m\u001b[0m\u001b[0;34m\u001b[0m\u001b[0m\n\u001b[0m\u001b[1;32m      2\u001b[0m \u001b[0mprint\u001b[0m\u001b[0;34m(\u001b[0m\u001b[0mval\u001b[0m\u001b[0;34m)\u001b[0m\u001b[0;34m\u001b[0m\u001b[0;34m\u001b[0m\u001b[0m\n",
            "\u001b[0;31mValueError\u001b[0m: dictionary update sequence element #0 has length 1; 2 is required"
          ]
        }
      ]
    },
    {
      "cell_type": "code",
      "source": [
        "d = {}\n",
        "\n",
        "\n",
        "for i in range(4):\n",
        "  k = int(input(\"Enter a key\"))\n",
        "  v = int(input(\"Enter a value\")) # eval()- agar yeh nahi rahega toh string ke form par return(by default) karega usse int,bool etc par store nahi karega final output par\n",
        "\n",
        "  d[k] = v\n",
        "\n",
        "  print(d)\n"
      ],
      "metadata": {
        "colab": {
          "base_uri": "https://localhost:8080/",
          "height": 245
        },
        "id": "chihQpQ4WGaj",
        "outputId": "70007b9c-2c3a-4bf8-ac18-cfc9b4ebb32e"
      },
      "execution_count": null,
      "outputs": [
        {
          "name": "stdout",
          "output_type": "stream",
          "text": [
            "Enter a key11\n"
          ]
        },
        {
          "output_type": "error",
          "ename": "TypeError",
          "evalue": "eval() arg 1 must be a string, bytes or code object",
          "traceback": [
            "\u001b[0;31m---------------------------------------------------------------------------\u001b[0m",
            "\u001b[0;31mTypeError\u001b[0m                                 Traceback (most recent call last)",
            "\u001b[0;32m<ipython-input-27-690ef19e263c>\u001b[0m in \u001b[0;36m<cell line: 0>\u001b[0;34m()\u001b[0m\n\u001b[1;32m      3\u001b[0m \u001b[0;34m\u001b[0m\u001b[0m\n\u001b[1;32m      4\u001b[0m \u001b[0;32mfor\u001b[0m \u001b[0mi\u001b[0m \u001b[0;32min\u001b[0m \u001b[0mrange\u001b[0m\u001b[0;34m(\u001b[0m\u001b[0;36m4\u001b[0m\u001b[0;34m)\u001b[0m\u001b[0;34m:\u001b[0m\u001b[0;34m\u001b[0m\u001b[0;34m\u001b[0m\u001b[0m\n\u001b[0;32m----> 5\u001b[0;31m   \u001b[0mk\u001b[0m \u001b[0;34m=\u001b[0m \u001b[0meval\u001b[0m\u001b[0;34m(\u001b[0m\u001b[0mint\u001b[0m\u001b[0;34m(\u001b[0m\u001b[0minput\u001b[0m\u001b[0;34m(\u001b[0m\u001b[0;34m\"Enter a key\"\u001b[0m\u001b[0;34m)\u001b[0m\u001b[0;34m)\u001b[0m\u001b[0;34m)\u001b[0m\u001b[0;34m\u001b[0m\u001b[0;34m\u001b[0m\u001b[0m\n\u001b[0m\u001b[1;32m      6\u001b[0m   \u001b[0mv\u001b[0m \u001b[0;34m=\u001b[0m \u001b[0meval\u001b[0m\u001b[0;34m(\u001b[0m\u001b[0mint\u001b[0m\u001b[0;34m(\u001b[0m\u001b[0minput\u001b[0m\u001b[0;34m(\u001b[0m\u001b[0;34m\"Enter a value\"\u001b[0m\u001b[0;34m)\u001b[0m\u001b[0;34m)\u001b[0m\u001b[0;34m)\u001b[0m \u001b[0;31m# eval()- agar yeh nahi rahega toh string ke form par return(by default) karega usse int,bool etc par store nahi karega final output par\u001b[0m\u001b[0;34m\u001b[0m\u001b[0;34m\u001b[0m\u001b[0m\n\u001b[1;32m      7\u001b[0m \u001b[0;34m\u001b[0m\u001b[0m\n",
            "\u001b[0;31mTypeError\u001b[0m: eval() arg 1 must be a string, bytes or code object"
          ]
        }
      ]
    },
    {
      "cell_type": "code",
      "source": [
        "keys=[]\n",
        "values=[]\n",
        "\n",
        "for i in range(4):\n",
        "    k=eval(input('Enter a key'))\n",
        "    v=eval(input('Enter a value'))\n",
        "\n",
        "    keys.append(k)\n",
        "    values.append(v)\n",
        "\n",
        "d=dict(zip(keys,values))\n",
        "print(d)"
      ],
      "metadata": {
        "id": "Eg_bUpKhh4lU",
        "colab": {
          "base_uri": "https://localhost:8080/"
        },
        "outputId": "afaeabb2-9da6-4e89-ff19-b0168f1efee5"
      },
      "execution_count": null,
      "outputs": [
        {
          "output_type": "stream",
          "name": "stdout",
          "text": [
            "Enter a key11\n",
            "Enter a value200\n",
            "Enter a key12\n",
            "Enter a value400\n",
            "Enter a key13\n",
            "Enter a value500\n",
            "Enter a key16\n",
            "Enter a value809\n",
            "{11: 200, 12: 400, 13: 500, 16: 809}\n"
          ]
        }
      ]
    },
    {
      "cell_type": "code",
      "source": [
        "# - By using dictionary comprehesnion\n",
        "\n",
        "# [value for loop] -> List comprehension\n",
        "\n",
        "# {key:value for loop} -> Dict comprehensionbb"
      ],
      "metadata": {
        "id": "2uZVH8Hmkb3Q"
      },
      "execution_count": null,
      "outputs": []
    },
    {
      "cell_type": "code",
      "source": [
        "d={i:0 for i in range(1,6)}\n",
        "d"
      ],
      "metadata": {
        "colab": {
          "base_uri": "https://localhost:8080/"
        },
        "id": "iDNF7xR_m9ij",
        "outputId": "b2a6f7ab-3883-40dd-8240-f6646654b4bb"
      },
      "execution_count": null,
      "outputs": [
        {
          "output_type": "execute_result",
          "data": {
            "text/plain": [
              "{1: 0, 2: 0, 3: 0, 4: 0, 5: 0}"
            ]
          },
          "metadata": {},
          "execution_count": 5
        }
      ]
    },
    {
      "cell_type": "code",
      "source": [
        "d = {}\n",
        "d[1] = 0\n",
        "print(d)\n",
        "\n",
        "d[2] = 10\n",
        "print(d)\n",
        "\n",
        "d[3] = 110\n",
        "print(d)\n",
        "d[4] = 1110\n",
        "print(d)\n",
        "d[5] = 11110\n",
        "print(d)\n"
      ],
      "metadata": {
        "colab": {
          "base_uri": "https://localhost:8080/"
        },
        "id": "zFKx4nfynUwj",
        "outputId": "45355d87-e87d-405e-bd0d-c0df569e616a"
      },
      "execution_count": null,
      "outputs": [
        {
          "output_type": "stream",
          "name": "stdout",
          "text": [
            "{1: 0}\n",
            "{1: 0, 2: 10}\n",
            "{1: 0, 2: 10, 3: 110}\n",
            "{1: 0, 2: 10, 3: 110, 4: 1110}\n",
            "{1: 0, 2: 10, 3: 110, 4: 1110, 5: 11110}\n"
          ]
        }
      ]
    },
    {
      "cell_type": "code",
      "source": [
        "# Create a dictionary where the numbers from 1 to 5 are the keys and their squares are the values\n",
        "# Output- {1:1,2:4,3:9,4:16,5:25}\n",
        "\n",
        "# method -1\n",
        "d = {}\n",
        "d = {i:i**2 for i in range(1,6)}\n",
        "d"
      ],
      "metadata": {
        "colab": {
          "base_uri": "https://localhost:8080/"
        },
        "id": "9Ko9g6Myow9c",
        "outputId": "5e6d4f32-91ec-406e-cdc4-e5afe9ca3bdf"
      },
      "execution_count": null,
      "outputs": [
        {
          "output_type": "execute_result",
          "data": {
            "text/plain": [
              "{1: 1, 2: 4, 3: 9, 4: 16, 5: 25}"
            ]
          },
          "metadata": {},
          "execution_count": 11
        }
      ]
    },
    {
      "cell_type": "code",
      "source": [
        "#method-2\n",
        "keys = []\n",
        "values = []\n",
        "\n",
        "for i in range(5):\n",
        "  k = int(input(\"Enter a key\"))\n",
        "  v = int(input(\"Enter a value\"))\n",
        "\n",
        "  keys.append(k)\n",
        "  values.append(v)\n",
        "\n",
        "d = dict(zip(keys,values))\n",
        "print(d)"
      ],
      "metadata": {
        "colab": {
          "base_uri": "https://localhost:8080/"
        },
        "id": "UPblmnpKpuFa",
        "outputId": "42afdc5b-16fd-45e4-828d-7c82dc02906e"
      },
      "execution_count": null,
      "outputs": [
        {
          "output_type": "stream",
          "name": "stdout",
          "text": [
            "Enter a key1\n",
            "Enter a value1\n",
            "Enter a key2\n",
            "Enter a value4\n",
            "Enter a key3\n",
            "Enter a value9\n",
            "Enter a key4\n",
            "Enter a value16\n",
            "Enter a key5\n",
            "Enter a value25\n",
            "{1: 1, 2: 4, 3: 9, 4: 16, 5: 25}\n"
          ]
        }
      ]
    },
    {
      "cell_type": "code",
      "source": [
        "# The names should be the key and their length should be the value\n",
        "\n",
        "# Using loop\n",
        "\n",
        "names = ['Vaibhav', 'Neelam', 'Ashish', 'Arun', 'Shraddha', 'Nikita', 'Amit']\n",
        "for i in names:\n",
        "  print(i,len(i))\n",
        "  d[i] = len(i)\n",
        "\n",
        "print(d)"
      ],
      "metadata": {
        "colab": {
          "base_uri": "https://localhost:8080/"
        },
        "id": "BK-KMJ4XrDyT",
        "outputId": "dd2eb2dd-68af-49ca-ea40-41cfd183f945"
      },
      "execution_count": null,
      "outputs": [
        {
          "output_type": "stream",
          "name": "stdout",
          "text": [
            "Vaibhav 7\n",
            "Neelam 6\n",
            "Ashish 6\n",
            "Arun 4\n",
            "Shraddha 8\n",
            "Nikita 6\n",
            "Amit 4\n",
            "{1: 1, 2: 4, 3: 9, 4: 16, 5: 25, 'Vaibhav': 7, 'Neelam': 6, 'Ashish': 6, 'Arun': 4, 'Shraddha': 8, 'Nikita': 6, 'Amit': 4}\n"
          ]
        }
      ]
    },
    {
      "cell_type": "code",
      "source": [
        "# Create a dictionay that has even numbers from the above tuple as the keys and the squares as the values\n",
        "\n",
        "# Using loop\n",
        "d = {}\n",
        "for i in range(1,10):\n",
        "  if i%2 == 0:\n",
        "    d[i] = i**2\n",
        "    print(d)\n",
        "\n",
        "# Using comprehesnion\n"
      ],
      "metadata": {
        "colab": {
          "base_uri": "https://localhost:8080/"
        },
        "id": "tddEe-gyshce",
        "outputId": "887f96c5-ca18-489c-b9d3-19363d4bee6c"
      },
      "execution_count": null,
      "outputs": [
        {
          "output_type": "stream",
          "name": "stdout",
          "text": [
            "{2: 4}\n",
            "{2: 4, 4: 16}\n",
            "{2: 4, 4: 16, 6: 36}\n",
            "{2: 4, 4: 16, 6: 36, 8: 64}\n"
          ]
        }
      ]
    },
    {
      "cell_type": "code",
      "source": [
        "d = {i:i**2 for i in range(1,6) if i%2 == 0}\n",
        "d"
      ],
      "metadata": {
        "colab": {
          "base_uri": "https://localhost:8080/"
        },
        "id": "TbxEq2ovvHiE",
        "outputId": "c03957bc-f10e-4969-dded-473dbaa47487"
      },
      "execution_count": null,
      "outputs": [
        {
          "output_type": "execute_result",
          "data": {
            "text/plain": [
              "{2: 4, 4: 16}"
            ]
          },
          "metadata": {},
          "execution_count": 20
        }
      ]
    },
    {
      "cell_type": "code",
      "source": [
        "# Create a dictionary where the alphabets A-Z are the keys and their ASCII numbers are the values\n",
        "# {'A':65.......'Z':90}\n",
        "\n",
        "# Using loop\n",
        "\n",
        "# A-Z, 65-90\n",
        "\n",
        "d = {}\n",
        "\n",
        "for i in range(65,91):\n",
        "  d[chr(i)] = i\n",
        "\n",
        "print(d)"
      ],
      "metadata": {
        "colab": {
          "base_uri": "https://localhost:8080/"
        },
        "id": "DE1FmNdivd-b",
        "outputId": "67b42b87-2e33-4d50-b2ef-58c76bce51b2"
      },
      "execution_count": null,
      "outputs": [
        {
          "output_type": "stream",
          "name": "stdout",
          "text": [
            "{'A': 65, 'B': 66, 'C': 67, 'D': 68, 'E': 69, 'F': 70, 'G': 71, 'H': 72, 'I': 73, 'J': 74, 'K': 75, 'L': 76, 'M': 77, 'N': 78, 'O': 79, 'P': 80, 'Q': 81, 'R': 82, 'S': 83, 'T': 84, 'U': 85, 'V': 86, 'W': 87, 'X': 88, 'Y': 89, 'Z': 90}\n"
          ]
        }
      ]
    },
    {
      "cell_type": "code",
      "source": [
        "chr(90)"
      ],
      "metadata": {
        "colab": {
          "base_uri": "https://localhost:8080/",
          "height": 35
        },
        "id": "NXaHYnT4w2fJ",
        "outputId": "76e5915f-3578-40d7-ad76-9952162b83f7"
      },
      "execution_count": null,
      "outputs": [
        {
          "output_type": "execute_result",
          "data": {
            "text/plain": [
              "'Z'"
            ],
            "application/vnd.google.colaboratory.intrinsic+json": {
              "type": "string"
            }
          },
          "metadata": {},
          "execution_count": 24
        }
      ]
    },
    {
      "cell_type": "code",
      "source": [
        "d = {chr(i):i for i in range(65,91)}\n",
        "d"
      ],
      "metadata": {
        "colab": {
          "base_uri": "https://localhost:8080/"
        },
        "id": "38V4joPBxFFd",
        "outputId": "40cc9a4e-2f0e-4591-9b6b-f2e7882fb06c"
      },
      "execution_count": null,
      "outputs": [
        {
          "output_type": "execute_result",
          "data": {
            "text/plain": [
              "{'A': 65,\n",
              " 'B': 66,\n",
              " 'C': 67,\n",
              " 'D': 68,\n",
              " 'E': 69,\n",
              " 'F': 70,\n",
              " 'G': 71,\n",
              " 'H': 72,\n",
              " 'I': 73,\n",
              " 'J': 74,\n",
              " 'K': 75,\n",
              " 'L': 76,\n",
              " 'M': 77,\n",
              " 'N': 78,\n",
              " 'O': 79,\n",
              " 'P': 80,\n",
              " 'Q': 81,\n",
              " 'R': 82,\n",
              " 'S': 83,\n",
              " 'T': 84,\n",
              " 'U': 85,\n",
              " 'V': 86,\n",
              " 'W': 87,\n",
              " 'X': 88,\n",
              " 'Y': 89,\n",
              " 'Z': 90}"
            ]
          },
          "metadata": {},
          "execution_count": 25
        }
      ]
    },
    {
      "cell_type": "code",
      "source": [
        "# Create a dictionary where the consonants from A-Z are the keys and their ASCII numbers are the values\n",
        "\n",
        "d = {}\n",
        "for i in range(65,91):\n",
        "  if chr(i) not in 'AEIOU':\n",
        "    d[chr(i)] = i\n",
        "\n",
        "print(d)"
      ],
      "metadata": {
        "colab": {
          "base_uri": "https://localhost:8080/"
        },
        "id": "JoMPEqlBxW3d",
        "outputId": "67ddb1f0-f0ba-4b3c-acf3-c8b1e36606e6"
      },
      "execution_count": null,
      "outputs": [
        {
          "output_type": "stream",
          "name": "stdout",
          "text": [
            "{'B': 66, 'C': 67, 'D': 68, 'F': 70, 'G': 71, 'H': 72, 'J': 74, 'K': 75, 'L': 76, 'M': 77, 'N': 78, 'P': 80, 'Q': 81, 'R': 82, 'S': 83, 'T': 84, 'V': 86, 'W': 87, 'X': 88, 'Y': 89, 'Z': 90}\n"
          ]
        }
      ]
    },
    {
      "cell_type": "code",
      "source": [
        "d = {chr(i):i for i in range(65,91) if chr(i) not in 'AEIOU'}\n",
        "d"
      ],
      "metadata": {
        "colab": {
          "base_uri": "https://localhost:8080/"
        },
        "id": "LV45i9nmyTof",
        "outputId": "6b06b8ab-3968-4fa1-db63-223fc8c20698"
      },
      "execution_count": null,
      "outputs": [
        {
          "output_type": "execute_result",
          "data": {
            "text/plain": [
              "{'B': 66,\n",
              " 'C': 67,\n",
              " 'D': 68,\n",
              " 'F': 70,\n",
              " 'G': 71,\n",
              " 'H': 72,\n",
              " 'J': 74,\n",
              " 'K': 75,\n",
              " 'L': 76,\n",
              " 'M': 77,\n",
              " 'N': 78,\n",
              " 'P': 80,\n",
              " 'Q': 81,\n",
              " 'R': 82,\n",
              " 'S': 83,\n",
              " 'T': 84,\n",
              " 'V': 86,\n",
              " 'W': 87,\n",
              " 'X': 88,\n",
              " 'Y': 89,\n",
              " 'Z': 90}"
            ]
          },
          "metadata": {},
          "execution_count": 29
        }
      ]
    },
    {
      "cell_type": "code",
      "source": [
        "how prompting work\n",
        "# Prompt + Input data -> send it by using through web interface\n",
        "# this prompt send to LLM via API(Application programming interface)\n",
        "# API -  is like a messenger that allows different software systems to talk to each other.\n",
        "# Then llm process the request and send back result in the form of python dictionary.\n",
        "# At last this dictionary is converted into excel as a data database."
      ],
      "metadata": {
        "id": "f2LJ9hmLyuJD"
      },
      "execution_count": null,
      "outputs": []
    },
    {
      "cell_type": "code",
      "source": [
        "# {ternary opertor for loop}"
      ],
      "metadata": {
        "id": "olKtf4BiFo1R"
      },
      "execution_count": null,
      "outputs": []
    },
    {
      "cell_type": "code",
      "source": [
        "# Create a dictionary that has the numbers from 1 to 10 as keys.\n",
        "# If the key is even the the value should be square of the key.\n",
        "# If the key is odd then the value should be the cube of the key.\n",
        "\n",
        "# {1:1,2:4,3:27,4:16,5:125,6:36,7:343,8:64,9:729,10:100}\n",
        "\n",
        "# Using loop\n",
        "\n",
        "d = {}\n",
        "\n",
        "for i in range(1,11):\n",
        "  if i % 2 == 0:\n",
        "    d[i] = i**2\n",
        "  else:\n",
        "    d[i] = i**3\n",
        "\n",
        "print(d)"
      ],
      "metadata": {
        "colab": {
          "base_uri": "https://localhost:8080/"
        },
        "id": "EVE8Uo4tFsOU",
        "outputId": "3c24ef5c-69ba-4f88-b463-eed6cd5cb90a"
      },
      "execution_count": null,
      "outputs": [
        {
          "output_type": "stream",
          "name": "stdout",
          "text": [
            "{1: 1, 2: 4, 3: 27, 4: 16, 5: 125, 6: 36, 7: 343, 8: 64, 9: 729, 10: 100}\n"
          ]
        }
      ]
    },
    {
      "cell_type": "code",
      "source": [
        "d = {i:i**2 if i % 2 == 0 else i**3 for i in range(1,11)}\n",
        "d"
      ],
      "metadata": {
        "colab": {
          "base_uri": "https://localhost:8080/"
        },
        "id": "gFEc3wLdHI3S",
        "outputId": "29167ce0-ad81-4946-cbbb-83394e61ef50"
      },
      "execution_count": null,
      "outputs": [
        {
          "output_type": "execute_result",
          "data": {
            "text/plain": [
              "{1: 1, 2: 4, 3: 27, 4: 16, 5: 125, 6: 36, 7: 343, 8: 64, 9: 729, 10: 100}"
            ]
          },
          "metadata": {},
          "execution_count": 32
        }
      ]
    },
    {
      "cell_type": "code",
      "source": [
        "# nested dictionary-> key is mapped with another dictionary"
      ],
      "metadata": {
        "id": "Vu7ensz0IM5Y"
      },
      "execution_count": null,
      "outputs": []
    },
    {
      "cell_type": "code",
      "source": [
        "# {key_1 : {key:value}, key_2 : {key:value}}"
      ],
      "metadata": {
        "id": "WCJauSVhIzky"
      },
      "execution_count": null,
      "outputs": []
    },
    {
      "cell_type": "code",
      "source": [
        "# Ravi\n",
        "# Siddhartha\n",
        "# Bharath\n",
        "# Shraddha\n",
        "# Geeta\n",
        "\n",
        "# For each employee\n",
        "# Name-\n",
        "# ID-\n",
        "# Age-\n",
        "# City-\n",
        "\n",
        "val = {'Ravi':{'ID':101,'Age':22,'City':'Chennai'},'Siddharta': {'ID':102,'Age':23,'City':'Mumbai'},'Bharath': {'ID':103,'Age':24,'City':'Hyderabad'}}\n",
        "print(val)"
      ],
      "metadata": {
        "colab": {
          "base_uri": "https://localhost:8080/"
        },
        "id": "DF0xKXm_JXML",
        "outputId": "f4900e05-67ac-4dc4-b5a3-8ba2169e183f"
      },
      "execution_count": null,
      "outputs": [
        {
          "output_type": "stream",
          "name": "stdout",
          "text": [
            "{'Ravi': {'ID': 101, 'Age': 22, 'City': 'Chennai'}, 'Siddharta': {'ID': 102, 'Age': 23, 'City': 'Mumbai'}, 'Bharath': {'ID': 103, 'Age': 24, 'City': 'Hyderabad'}}\n"
          ]
        }
      ]
    },
    {
      "cell_type": "code",
      "source": [
        "imp_details={'emp_1':{'Name':'Ravi',\n",
        "                      'ID':111,\n",
        "                      'Age':22,\n",
        "                      'City':'Pune'},\n",
        "\n",
        "             'emp_2':{'Name':'Siddhartha',\n",
        "                      'ID':112,\n",
        "                      'Age':25,\n",
        "                      'City':'Bhopal'},\n",
        "\n",
        "             'emp_3':{'Name':'Bharath',\n",
        "                      'ID':None,\n",
        "                      'Age':25,\n",
        "                      'City':'Pune'},\n",
        "\n",
        "             'emp_4':{'Name':'Shraddha',\n",
        "                      'ID':113,\n",
        "                      'Age':23,\n",
        "                      'City':'Noida'},\n",
        "\n",
        "             'emp_5':{'Name':'Geeta',\n",
        "                      'ID':115,\n",
        "                      'Age':26,\n",
        "                      'City':'Pune'}\n",
        "            }\n",
        "print(imp_details)"
      ],
      "metadata": {
        "colab": {
          "base_uri": "https://localhost:8080/"
        },
        "id": "7ensIfw0NGad",
        "outputId": "7da817c3-5531-4d55-ed16-0f12c80274df"
      },
      "execution_count": null,
      "outputs": [
        {
          "output_type": "stream",
          "name": "stdout",
          "text": [
            "{'emp_1': {'Name': 'Ravi', 'ID': 111, 'Age': 22, 'City': 'Pune'}, 'emp_2': {'Name': 'Siddhartha', 'ID': 112, 'Age': 25, 'City': 'Bhopal'}, 'emp_3': {'Name': 'Bharath', 'ID': None, 'Age': 25, 'City': 'Pune'}, 'emp_4': {'Name': 'Shraddha', 'ID': 113, 'Age': 23, 'City': 'Noida'}, 'emp_5': {'Name': 'Geeta', 'ID': 115, 'Age': 26, 'City': 'Pune'}}\n"
          ]
        }
      ]
    },
    {
      "cell_type": "code",
      "source": [
        "imp_details['emp_1']\n",
        "imp_details['emp_2']\n",
        "imp_details['emp_4']"
      ],
      "metadata": {
        "colab": {
          "base_uri": "https://localhost:8080/"
        },
        "id": "F5m8SYIQN_Uo",
        "outputId": "078094ed-5c4a-4cf6-b2e4-ac510d4a3dc7"
      },
      "execution_count": null,
      "outputs": [
        {
          "output_type": "execute_result",
          "data": {
            "text/plain": [
              "{'Name': 'Shraddha', 'ID': 113, 'Age': 23, 'City': 'Noida'}"
            ]
          },
          "metadata": {},
          "execution_count": 45
        }
      ]
    },
    {
      "cell_type": "code",
      "source": [
        "for i in imp_details:\n",
        "  print(i)"
      ],
      "metadata": {
        "colab": {
          "base_uri": "https://localhost:8080/"
        },
        "id": "BqlLoHWnPbkV",
        "outputId": "6a12f4ae-69f9-4432-bf54-ca35b1baf432"
      },
      "execution_count": null,
      "outputs": [
        {
          "output_type": "stream",
          "name": "stdout",
          "text": [
            "emp_1\n",
            "emp_2\n",
            "emp_3\n",
            "emp_4\n",
            "emp_5\n"
          ]
        }
      ]
    },
    {
      "cell_type": "code",
      "source": [
        "# Get the details of the empoyees who belong to Pune\n",
        "\n",
        "for i in imp_details:\n",
        "  if imp_details[i]['City'] == 'Pune':\n",
        "    print(imp_details[i])"
      ],
      "metadata": {
        "colab": {
          "base_uri": "https://localhost:8080/"
        },
        "id": "vqtMcRFOQqEV",
        "outputId": "79b6a56d-3a54-468d-ba01-827efba2faca"
      },
      "execution_count": null,
      "outputs": [
        {
          "output_type": "stream",
          "name": "stdout",
          "text": [
            "{'Name': 'Ravi', 'ID': 111, 'Age': 22, 'City': 'Pune'}\n",
            "{'Name': 'Bharath', 'ID': None, 'Age': 25, 'City': 'Pune'}\n",
            "{'Name': 'Geeta', 'ID': 115, 'Age': 26, 'City': 'Pune'}\n"
          ]
        }
      ]
    },
    {
      "cell_type": "code",
      "source": [
        "# Get the names of the empoyees who belong to Pune\n",
        "\n",
        "for i in imp_details:\n",
        "  if imp_details[i]['City'] == 'Pune':\n",
        "    print(imp_details[i]['Name'])\n"
      ],
      "metadata": {
        "colab": {
          "base_uri": "https://localhost:8080/"
        },
        "id": "12GLgTZHQ3m3",
        "outputId": "0a7d6299-ffd5-4cf0-ac90-7181233deaec"
      },
      "execution_count": null,
      "outputs": [
        {
          "output_type": "stream",
          "name": "stdout",
          "text": [
            "Ravi\n",
            "Bharath\n",
            "Geeta\n"
          ]
        }
      ]
    },
    {
      "cell_type": "code",
      "source": [
        "# Get the name of the employee who has not got the ID yet\n",
        "\n",
        "for i in imp_details:\n",
        "  if imp_details[i]['ID'] is None:\n",
        "    print(imp_details[i]['Name'])\n"
      ],
      "metadata": {
        "colab": {
          "base_uri": "https://localhost:8080/"
        },
        "id": "v2TySTIBQ8N-",
        "outputId": "136664eb-62f9-4be7-a28a-bdf2c4f03184"
      },
      "execution_count": null,
      "outputs": [
        {
          "output_type": "stream",
          "name": "stdout",
          "text": [
            "Bharath\n"
          ]
        }
      ]
    },
    {
      "cell_type": "code",
      "source": [
        "# Dictionary is mutable"
      ],
      "metadata": {
        "id": "-Duatac-Q9SZ"
      },
      "execution_count": null,
      "outputs": []
    },
    {
      "cell_type": "code",
      "source": [
        "emp={'Name': 'Ravi', 'ID': 111, 'Age': 22, 'City': 'Pune'}\n",
        "print(emp, id(emp))"
      ],
      "metadata": {
        "colab": {
          "base_uri": "https://localhost:8080/"
        },
        "id": "iVwP3onqcp4k",
        "outputId": "dd4e08da-c637-4729-a7d4-5da426b837e0"
      },
      "execution_count": null,
      "outputs": [
        {
          "output_type": "stream",
          "name": "stdout",
          "text": [
            "{'Name': 'Ravi', 'ID': 111, 'Age': 22, 'City': 'Pune'} 134201030740032\n"
          ]
        }
      ]
    },
    {
      "cell_type": "code",
      "source": [
        "emp['Name'] = 'Vaibhav'\n",
        "print(emp, id(emp))"
      ],
      "metadata": {
        "colab": {
          "base_uri": "https://localhost:8080/"
        },
        "id": "Uv-e0xSbemhH",
        "outputId": "35f8df39-0eab-4801-c868-356a8ea5ab2f"
      },
      "execution_count": null,
      "outputs": [
        {
          "output_type": "stream",
          "name": "stdout",
          "text": [
            "{'Name': 'Vaibhav', 'ID': 111, 'Age': 22, 'City': 'Pune'} 134201030740032\n"
          ]
        }
      ]
    },
    {
      "cell_type": "code",
      "source": [
        "emp['Name'] = 'Mumbai'\n",
        "print(emp, id(emp))"
      ],
      "metadata": {
        "colab": {
          "base_uri": "https://localhost:8080/"
        },
        "id": "9YnLhDLle1_G",
        "outputId": "76393cae-4a5b-4e7c-9303-c196dba35ab2"
      },
      "execution_count": null,
      "outputs": [
        {
          "output_type": "stream",
          "name": "stdout",
          "text": [
            "{'Name': 'Mumbai', 'ID': 111, 'Age': 22, 'City': 'Pune'} 134201030740032\n"
          ]
        }
      ]
    },
    {
      "cell_type": "code",
      "source": [
        "# Assign ID 110 tp Bharath\n",
        "for i in imp_details:\n",
        "  if imp_details[i]['Name'] == 'Bharath':\n",
        "    imp_details[i]['ID'] == 101\n",
        "print(imp_details)"
      ],
      "metadata": {
        "colab": {
          "base_uri": "https://localhost:8080/"
        },
        "id": "dtkH5wfcf9Ta",
        "outputId": "bd01bb90-3870-4e01-efb3-7b95440b2860"
      },
      "execution_count": null,
      "outputs": [
        {
          "output_type": "stream",
          "name": "stdout",
          "text": [
            "{'emp_1': {'Name': 'Ravi', 'ID': 111, 'Age': 22, 'City': 'Pune'}, 'emp_2': {'Name': 'Siddhartha', 'ID': 112, 'Age': 25, 'City': 'Bhopal'}, 'emp_3': {'Name': 'Bharath', 'ID': None, 'Age': 25, 'City': 'Pune'}, 'emp_4': {'Name': 'Shraddha', 'ID': 113, 'Age': 23, 'City': 'Noida'}, 'emp_5': {'Name': 'Geeta', 'ID': 115, 'Age': 26, 'City': 'Pune'}}\n"
          ]
        }
      ]
    },
    {
      "cell_type": "code",
      "source": [
        "# - We can map multiple values to a single key.\n",
        "# - We have to put the values in a container and then we map the container to the key."
      ],
      "metadata": {
        "id": "ncMB2oMhgy17"
      },
      "execution_count": null,
      "outputs": []
    },
    {
      "cell_type": "code",
      "source": [
        "details={'Name':['Venketashvaran', 'Vaibhav', 'Shraddha', 'Arun', 'Neelam', 'Rahul', 'Ishaq'],\n",
        "'Age':[24, 25, 29, 22, 31, 24, 26],\n",
        "'ID':[111,112,113,None,115,118,120]}\n",
        "\n",
        "details"
      ],
      "metadata": {
        "colab": {
          "base_uri": "https://localhost:8080/"
        },
        "id": "O7C-se5Ug_1A",
        "outputId": "4aae9880-5091-41a4-853d-df2d3107a293"
      },
      "execution_count": null,
      "outputs": [
        {
          "output_type": "execute_result",
          "data": {
            "text/plain": [
              "{'Name': ['Venketashvaran',\n",
              "  'Vaibhav',\n",
              "  'Shraddha',\n",
              "  'Arun',\n",
              "  'Neelam',\n",
              "  'Rahul',\n",
              "  'Ishaq'],\n",
              " 'Age': [24, 25, 29, 22, 31, 24, 26],\n",
              " 'ID': [111, 112, 113, None, 115, 118, 120]}"
            ]
          },
          "metadata": {},
          "execution_count": 61
        }
      ]
    },
    {
      "cell_type": "code",
      "source": [
        "details = {'Name':['Venketashvaran', 'Vaibhav', 'Shraddha', 'Arun', 'Neelam', 'Rahul', 'Ishaq'], 'Age':[24, 25, 29, 22, 31, 24, 26], 'ID':[111,112,113,None,115,118,120]}\n",
        "print(details)"
      ],
      "metadata": {
        "colab": {
          "base_uri": "https://localhost:8080/"
        },
        "id": "XMkDo6bphJH2",
        "outputId": "4b51a01f-11ce-4364-83fd-c8efb6289829"
      },
      "execution_count": null,
      "outputs": [
        {
          "output_type": "stream",
          "name": "stdout",
          "text": [
            "{'Name': ['Venketashvaran', 'Vaibhav', 'Shraddha', 'Arun', 'Neelam', 'Rahul', 'Ishaq'], 'Age': [24, 25, 29, 22, 31, 24, 26], 'ID': [111, 112, 113, None, 115, 118, 120]}\n"
          ]
        }
      ]
    },
    {
      "cell_type": "code",
      "source": [
        "details['Name']"
      ],
      "metadata": {
        "colab": {
          "base_uri": "https://localhost:8080/"
        },
        "id": "FGbGf5AYihTL",
        "outputId": "6167285f-cfb8-4b3a-f42b-3887b4771361"
      },
      "execution_count": null,
      "outputs": [
        {
          "output_type": "execute_result",
          "data": {
            "text/plain": [
              "['Venketashvaran', 'Vaibhav', 'Shraddha', 'Arun', 'Neelam', 'Rahul', 'Ishaq']"
            ]
          },
          "metadata": {},
          "execution_count": 63
        }
      ]
    },
    {
      "cell_type": "code",
      "source": [
        "import pandas as pd\n"
      ],
      "metadata": {
        "id": "evkgSbUPipjL"
      },
      "execution_count": null,
      "outputs": []
    },
    {
      "cell_type": "code",
      "source": [
        "df=pd.DataFrame(details)\n",
        "df"
      ],
      "metadata": {
        "colab": {
          "base_uri": "https://localhost:8080/",
          "height": 269
        },
        "id": "h82iEZ3BiwTV",
        "outputId": "9ed99c14-b04b-4162-fac0-e3da04fa071f"
      },
      "execution_count": null,
      "outputs": [
        {
          "output_type": "execute_result",
          "data": {
            "text/plain": [
              "             Name  Age     ID\n",
              "0  Venketashvaran   24  111.0\n",
              "1         Vaibhav   25  112.0\n",
              "2        Shraddha   29  113.0\n",
              "3            Arun   22    NaN\n",
              "4          Neelam   31  115.0\n",
              "5           Rahul   24  118.0\n",
              "6           Ishaq   26  120.0"
            ],
            "text/html": [
              "\n",
              "  <div id=\"df-90bfbb6b-6aed-4dbd-8d41-05cb555ac5ba\" class=\"colab-df-container\">\n",
              "    <div>\n",
              "<style scoped>\n",
              "    .dataframe tbody tr th:only-of-type {\n",
              "        vertical-align: middle;\n",
              "    }\n",
              "\n",
              "    .dataframe tbody tr th {\n",
              "        vertical-align: top;\n",
              "    }\n",
              "\n",
              "    .dataframe thead th {\n",
              "        text-align: right;\n",
              "    }\n",
              "</style>\n",
              "<table border=\"1\" class=\"dataframe\">\n",
              "  <thead>\n",
              "    <tr style=\"text-align: right;\">\n",
              "      <th></th>\n",
              "      <th>Name</th>\n",
              "      <th>Age</th>\n",
              "      <th>ID</th>\n",
              "    </tr>\n",
              "  </thead>\n",
              "  <tbody>\n",
              "    <tr>\n",
              "      <th>0</th>\n",
              "      <td>Venketashvaran</td>\n",
              "      <td>24</td>\n",
              "      <td>111.0</td>\n",
              "    </tr>\n",
              "    <tr>\n",
              "      <th>1</th>\n",
              "      <td>Vaibhav</td>\n",
              "      <td>25</td>\n",
              "      <td>112.0</td>\n",
              "    </tr>\n",
              "    <tr>\n",
              "      <th>2</th>\n",
              "      <td>Shraddha</td>\n",
              "      <td>29</td>\n",
              "      <td>113.0</td>\n",
              "    </tr>\n",
              "    <tr>\n",
              "      <th>3</th>\n",
              "      <td>Arun</td>\n",
              "      <td>22</td>\n",
              "      <td>NaN</td>\n",
              "    </tr>\n",
              "    <tr>\n",
              "      <th>4</th>\n",
              "      <td>Neelam</td>\n",
              "      <td>31</td>\n",
              "      <td>115.0</td>\n",
              "    </tr>\n",
              "    <tr>\n",
              "      <th>5</th>\n",
              "      <td>Rahul</td>\n",
              "      <td>24</td>\n",
              "      <td>118.0</td>\n",
              "    </tr>\n",
              "    <tr>\n",
              "      <th>6</th>\n",
              "      <td>Ishaq</td>\n",
              "      <td>26</td>\n",
              "      <td>120.0</td>\n",
              "    </tr>\n",
              "  </tbody>\n",
              "</table>\n",
              "</div>\n",
              "    <div class=\"colab-df-buttons\">\n",
              "\n",
              "  <div class=\"colab-df-container\">\n",
              "    <button class=\"colab-df-convert\" onclick=\"convertToInteractive('df-90bfbb6b-6aed-4dbd-8d41-05cb555ac5ba')\"\n",
              "            title=\"Convert this dataframe to an interactive table.\"\n",
              "            style=\"display:none;\">\n",
              "\n",
              "  <svg xmlns=\"http://www.w3.org/2000/svg\" height=\"24px\" viewBox=\"0 -960 960 960\">\n",
              "    <path d=\"M120-120v-720h720v720H120Zm60-500h600v-160H180v160Zm220 220h160v-160H400v160Zm0 220h160v-160H400v160ZM180-400h160v-160H180v160Zm440 0h160v-160H620v160ZM180-180h160v-160H180v160Zm440 0h160v-160H620v160Z\"/>\n",
              "  </svg>\n",
              "    </button>\n",
              "\n",
              "  <style>\n",
              "    .colab-df-container {\n",
              "      display:flex;\n",
              "      gap: 12px;\n",
              "    }\n",
              "\n",
              "    .colab-df-convert {\n",
              "      background-color: #E8F0FE;\n",
              "      border: none;\n",
              "      border-radius: 50%;\n",
              "      cursor: pointer;\n",
              "      display: none;\n",
              "      fill: #1967D2;\n",
              "      height: 32px;\n",
              "      padding: 0 0 0 0;\n",
              "      width: 32px;\n",
              "    }\n",
              "\n",
              "    .colab-df-convert:hover {\n",
              "      background-color: #E2EBFA;\n",
              "      box-shadow: 0px 1px 2px rgba(60, 64, 67, 0.3), 0px 1px 3px 1px rgba(60, 64, 67, 0.15);\n",
              "      fill: #174EA6;\n",
              "    }\n",
              "\n",
              "    .colab-df-buttons div {\n",
              "      margin-bottom: 4px;\n",
              "    }\n",
              "\n",
              "    [theme=dark] .colab-df-convert {\n",
              "      background-color: #3B4455;\n",
              "      fill: #D2E3FC;\n",
              "    }\n",
              "\n",
              "    [theme=dark] .colab-df-convert:hover {\n",
              "      background-color: #434B5C;\n",
              "      box-shadow: 0px 1px 3px 1px rgba(0, 0, 0, 0.15);\n",
              "      filter: drop-shadow(0px 1px 2px rgba(0, 0, 0, 0.3));\n",
              "      fill: #FFFFFF;\n",
              "    }\n",
              "  </style>\n",
              "\n",
              "    <script>\n",
              "      const buttonEl =\n",
              "        document.querySelector('#df-90bfbb6b-6aed-4dbd-8d41-05cb555ac5ba button.colab-df-convert');\n",
              "      buttonEl.style.display =\n",
              "        google.colab.kernel.accessAllowed ? 'block' : 'none';\n",
              "\n",
              "      async function convertToInteractive(key) {\n",
              "        const element = document.querySelector('#df-90bfbb6b-6aed-4dbd-8d41-05cb555ac5ba');\n",
              "        const dataTable =\n",
              "          await google.colab.kernel.invokeFunction('convertToInteractive',\n",
              "                                                    [key], {});\n",
              "        if (!dataTable) return;\n",
              "\n",
              "        const docLinkHtml = 'Like what you see? Visit the ' +\n",
              "          '<a target=\"_blank\" href=https://colab.research.google.com/notebooks/data_table.ipynb>data table notebook</a>'\n",
              "          + ' to learn more about interactive tables.';\n",
              "        element.innerHTML = '';\n",
              "        dataTable['output_type'] = 'display_data';\n",
              "        await google.colab.output.renderOutput(dataTable, element);\n",
              "        const docLink = document.createElement('div');\n",
              "        docLink.innerHTML = docLinkHtml;\n",
              "        element.appendChild(docLink);\n",
              "      }\n",
              "    </script>\n",
              "  </div>\n",
              "\n",
              "\n",
              "<div id=\"df-f196099a-67d1-4d60-a6ca-3b0f9d02f9de\">\n",
              "  <button class=\"colab-df-quickchart\" onclick=\"quickchart('df-f196099a-67d1-4d60-a6ca-3b0f9d02f9de')\"\n",
              "            title=\"Suggest charts\"\n",
              "            style=\"display:none;\">\n",
              "\n",
              "<svg xmlns=\"http://www.w3.org/2000/svg\" height=\"24px\"viewBox=\"0 0 24 24\"\n",
              "     width=\"24px\">\n",
              "    <g>\n",
              "        <path d=\"M19 3H5c-1.1 0-2 .9-2 2v14c0 1.1.9 2 2 2h14c1.1 0 2-.9 2-2V5c0-1.1-.9-2-2-2zM9 17H7v-7h2v7zm4 0h-2V7h2v10zm4 0h-2v-4h2v4z\"/>\n",
              "    </g>\n",
              "</svg>\n",
              "  </button>\n",
              "\n",
              "<style>\n",
              "  .colab-df-quickchart {\n",
              "      --bg-color: #E8F0FE;\n",
              "      --fill-color: #1967D2;\n",
              "      --hover-bg-color: #E2EBFA;\n",
              "      --hover-fill-color: #174EA6;\n",
              "      --disabled-fill-color: #AAA;\n",
              "      --disabled-bg-color: #DDD;\n",
              "  }\n",
              "\n",
              "  [theme=dark] .colab-df-quickchart {\n",
              "      --bg-color: #3B4455;\n",
              "      --fill-color: #D2E3FC;\n",
              "      --hover-bg-color: #434B5C;\n",
              "      --hover-fill-color: #FFFFFF;\n",
              "      --disabled-bg-color: #3B4455;\n",
              "      --disabled-fill-color: #666;\n",
              "  }\n",
              "\n",
              "  .colab-df-quickchart {\n",
              "    background-color: var(--bg-color);\n",
              "    border: none;\n",
              "    border-radius: 50%;\n",
              "    cursor: pointer;\n",
              "    display: none;\n",
              "    fill: var(--fill-color);\n",
              "    height: 32px;\n",
              "    padding: 0;\n",
              "    width: 32px;\n",
              "  }\n",
              "\n",
              "  .colab-df-quickchart:hover {\n",
              "    background-color: var(--hover-bg-color);\n",
              "    box-shadow: 0 1px 2px rgba(60, 64, 67, 0.3), 0 1px 3px 1px rgba(60, 64, 67, 0.15);\n",
              "    fill: var(--button-hover-fill-color);\n",
              "  }\n",
              "\n",
              "  .colab-df-quickchart-complete:disabled,\n",
              "  .colab-df-quickchart-complete:disabled:hover {\n",
              "    background-color: var(--disabled-bg-color);\n",
              "    fill: var(--disabled-fill-color);\n",
              "    box-shadow: none;\n",
              "  }\n",
              "\n",
              "  .colab-df-spinner {\n",
              "    border: 2px solid var(--fill-color);\n",
              "    border-color: transparent;\n",
              "    border-bottom-color: var(--fill-color);\n",
              "    animation:\n",
              "      spin 1s steps(1) infinite;\n",
              "  }\n",
              "\n",
              "  @keyframes spin {\n",
              "    0% {\n",
              "      border-color: transparent;\n",
              "      border-bottom-color: var(--fill-color);\n",
              "      border-left-color: var(--fill-color);\n",
              "    }\n",
              "    20% {\n",
              "      border-color: transparent;\n",
              "      border-left-color: var(--fill-color);\n",
              "      border-top-color: var(--fill-color);\n",
              "    }\n",
              "    30% {\n",
              "      border-color: transparent;\n",
              "      border-left-color: var(--fill-color);\n",
              "      border-top-color: var(--fill-color);\n",
              "      border-right-color: var(--fill-color);\n",
              "    }\n",
              "    40% {\n",
              "      border-color: transparent;\n",
              "      border-right-color: var(--fill-color);\n",
              "      border-top-color: var(--fill-color);\n",
              "    }\n",
              "    60% {\n",
              "      border-color: transparent;\n",
              "      border-right-color: var(--fill-color);\n",
              "    }\n",
              "    80% {\n",
              "      border-color: transparent;\n",
              "      border-right-color: var(--fill-color);\n",
              "      border-bottom-color: var(--fill-color);\n",
              "    }\n",
              "    90% {\n",
              "      border-color: transparent;\n",
              "      border-bottom-color: var(--fill-color);\n",
              "    }\n",
              "  }\n",
              "</style>\n",
              "\n",
              "  <script>\n",
              "    async function quickchart(key) {\n",
              "      const quickchartButtonEl =\n",
              "        document.querySelector('#' + key + ' button');\n",
              "      quickchartButtonEl.disabled = true;  // To prevent multiple clicks.\n",
              "      quickchartButtonEl.classList.add('colab-df-spinner');\n",
              "      try {\n",
              "        const charts = await google.colab.kernel.invokeFunction(\n",
              "            'suggestCharts', [key], {});\n",
              "      } catch (error) {\n",
              "        console.error('Error during call to suggestCharts:', error);\n",
              "      }\n",
              "      quickchartButtonEl.classList.remove('colab-df-spinner');\n",
              "      quickchartButtonEl.classList.add('colab-df-quickchart-complete');\n",
              "    }\n",
              "    (() => {\n",
              "      let quickchartButtonEl =\n",
              "        document.querySelector('#df-f196099a-67d1-4d60-a6ca-3b0f9d02f9de button');\n",
              "      quickchartButtonEl.style.display =\n",
              "        google.colab.kernel.accessAllowed ? 'block' : 'none';\n",
              "    })();\n",
              "  </script>\n",
              "</div>\n",
              "\n",
              "  <div id=\"id_c4a032a9-63b1-4645-82ea-ebf7aaa907d0\">\n",
              "    <style>\n",
              "      .colab-df-generate {\n",
              "        background-color: #E8F0FE;\n",
              "        border: none;\n",
              "        border-radius: 50%;\n",
              "        cursor: pointer;\n",
              "        display: none;\n",
              "        fill: #1967D2;\n",
              "        height: 32px;\n",
              "        padding: 0 0 0 0;\n",
              "        width: 32px;\n",
              "      }\n",
              "\n",
              "      .colab-df-generate:hover {\n",
              "        background-color: #E2EBFA;\n",
              "        box-shadow: 0px 1px 2px rgba(60, 64, 67, 0.3), 0px 1px 3px 1px rgba(60, 64, 67, 0.15);\n",
              "        fill: #174EA6;\n",
              "      }\n",
              "\n",
              "      [theme=dark] .colab-df-generate {\n",
              "        background-color: #3B4455;\n",
              "        fill: #D2E3FC;\n",
              "      }\n",
              "\n",
              "      [theme=dark] .colab-df-generate:hover {\n",
              "        background-color: #434B5C;\n",
              "        box-shadow: 0px 1px 3px 1px rgba(0, 0, 0, 0.15);\n",
              "        filter: drop-shadow(0px 1px 2px rgba(0, 0, 0, 0.3));\n",
              "        fill: #FFFFFF;\n",
              "      }\n",
              "    </style>\n",
              "    <button class=\"colab-df-generate\" onclick=\"generateWithVariable('df')\"\n",
              "            title=\"Generate code using this dataframe.\"\n",
              "            style=\"display:none;\">\n",
              "\n",
              "  <svg xmlns=\"http://www.w3.org/2000/svg\" height=\"24px\"viewBox=\"0 0 24 24\"\n",
              "       width=\"24px\">\n",
              "    <path d=\"M7,19H8.4L18.45,9,17,7.55,7,17.6ZM5,21V16.75L18.45,3.32a2,2,0,0,1,2.83,0l1.4,1.43a1.91,1.91,0,0,1,.58,1.4,1.91,1.91,0,0,1-.58,1.4L9.25,21ZM18.45,9,17,7.55Zm-12,3A5.31,5.31,0,0,0,4.9,8.1,5.31,5.31,0,0,0,1,6.5,5.31,5.31,0,0,0,4.9,4.9,5.31,5.31,0,0,0,6.5,1,5.31,5.31,0,0,0,8.1,4.9,5.31,5.31,0,0,0,12,6.5,5.46,5.46,0,0,0,6.5,12Z\"/>\n",
              "  </svg>\n",
              "    </button>\n",
              "    <script>\n",
              "      (() => {\n",
              "      const buttonEl =\n",
              "        document.querySelector('#id_c4a032a9-63b1-4645-82ea-ebf7aaa907d0 button.colab-df-generate');\n",
              "      buttonEl.style.display =\n",
              "        google.colab.kernel.accessAllowed ? 'block' : 'none';\n",
              "\n",
              "      buttonEl.onclick = () => {\n",
              "        google.colab.notebook.generateWithVariable('df');\n",
              "      }\n",
              "      })();\n",
              "    </script>\n",
              "  </div>\n",
              "\n",
              "    </div>\n",
              "  </div>\n"
            ],
            "application/vnd.google.colaboratory.intrinsic+json": {
              "type": "dataframe",
              "variable_name": "df",
              "summary": "{\n  \"name\": \"df\",\n  \"rows\": 7,\n  \"fields\": [\n    {\n      \"column\": \"Name\",\n      \"properties\": {\n        \"dtype\": \"string\",\n        \"num_unique_values\": 7,\n        \"samples\": [\n          \"Venketashvaran\",\n          \"Vaibhav\",\n          \"Rahul\"\n        ],\n        \"semantic_type\": \"\",\n        \"description\": \"\"\n      }\n    },\n    {\n      \"column\": \"Age\",\n      \"properties\": {\n        \"dtype\": \"number\",\n        \"std\": 3,\n        \"min\": 22,\n        \"max\": 31,\n        \"num_unique_values\": 6,\n        \"samples\": [\n          24,\n          25,\n          26\n        ],\n        \"semantic_type\": \"\",\n        \"description\": \"\"\n      }\n    },\n    {\n      \"column\": \"ID\",\n      \"properties\": {\n        \"dtype\": \"number\",\n        \"std\": 3.5449494589721118,\n        \"min\": 111.0,\n        \"max\": 120.0,\n        \"num_unique_values\": 6,\n        \"samples\": [\n          111.0,\n          112.0,\n          120.0\n        ],\n        \"semantic_type\": \"\",\n        \"description\": \"\"\n      }\n    }\n  ]\n}"
            }
          },
          "metadata": {},
          "execution_count": 67
        }
      ]
    },
    {
      "cell_type": "code",
      "source": [
        "#keys()- able to find the keys in a dictionary\n",
        "details = {'Name':['Venketashvaran', 'Vaibhav', 'Shraddha', 'Arun', 'Neelam', 'Rahul', 'Ishaq'], 'Age':[24, 25, 29, 22, 31, 24, 26], 'ID':[111,112,113,None,115,118,120]}\n",
        "details.keys()\n"
      ],
      "metadata": {
        "colab": {
          "base_uri": "https://localhost:8080/"
        },
        "id": "rPnNCigsi5kf",
        "outputId": "44c29f85-e64f-4ce7-ce49-c5d3c0e94e4a"
      },
      "execution_count": null,
      "outputs": [
        {
          "output_type": "execute_result",
          "data": {
            "text/plain": [
              "dict_keys(['Name', 'Age', 'ID'])"
            ]
          },
          "metadata": {},
          "execution_count": 68
        }
      ]
    },
    {
      "cell_type": "code",
      "source": [
        "details.values()"
      ],
      "metadata": {
        "colab": {
          "base_uri": "https://localhost:8080/"
        },
        "id": "WfvSitb0jZPf",
        "outputId": "9b505f54-eab1-4385-b900-5ccc3b0669f9"
      },
      "execution_count": null,
      "outputs": [
        {
          "output_type": "execute_result",
          "data": {
            "text/plain": [
              "dict_values([['Venketashvaran', 'Vaibhav', 'Shraddha', 'Arun', 'Neelam', 'Rahul', 'Ishaq'], [24, 25, 29, 22, 31, 24, 26], [111, 112, 113, None, 115, 118, 120]])"
            ]
          },
          "metadata": {},
          "execution_count": 69
        }
      ]
    },
    {
      "cell_type": "code",
      "source": [
        "# items -> yeh ek dict items generate karke dega jo ki tuples(jisme keys aur values hoga) ka list return karke dega\n",
        "details.items()"
      ],
      "metadata": {
        "colab": {
          "base_uri": "https://localhost:8080/"
        },
        "id": "W-MuFUdkjcUo",
        "outputId": "69a79e1f-8091-4fcb-a60c-d4d222bbff59"
      },
      "execution_count": null,
      "outputs": [
        {
          "output_type": "execute_result",
          "data": {
            "text/plain": [
              "dict_items([('Name', ['Venketashvaran', 'Vaibhav', 'Shraddha', 'Arun', 'Neelam', 'Rahul', 'Ishaq']), ('Age', [24, 25, 29, 22, 31, 24, 26]), ('ID', [111, 112, 113, None, 115, 118, 120])])"
            ]
          },
          "metadata": {},
          "execution_count": 70
        }
      ]
    },
    {
      "cell_type": "code",
      "source": [
        "for i in d.items():\n",
        "  print(i)"
      ],
      "metadata": {
        "colab": {
          "base_uri": "https://localhost:8080/"
        },
        "id": "1YN7peA1kymm",
        "outputId": "900ee228-a062-4552-f562-2c95ec975d0a"
      },
      "execution_count": null,
      "outputs": [
        {
          "output_type": "stream",
          "name": "stdout",
          "text": [
            "(1, 1)\n",
            "(2, 4)\n",
            "(3, 27)\n",
            "(4, 16)\n",
            "(5, 125)\n",
            "(6, 36)\n",
            "(7, 343)\n",
            "(8, 64)\n",
            "(9, 729)\n",
            "(10, 100)\n"
          ]
        }
      ]
    },
    {
      "cell_type": "code",
      "source": [
        "i,j = (100,200)\n",
        "print(i)\n",
        "print(j)"
      ],
      "metadata": {
        "colab": {
          "base_uri": "https://localhost:8080/"
        },
        "id": "B8KdZRQtk62M",
        "outputId": "bbdd19fb-cbb0-4f1a-a011-1691e9b72fe1"
      },
      "execution_count": null,
      "outputs": [
        {
          "output_type": "stream",
          "name": "stdout",
          "text": [
            "100\n",
            "200\n"
          ]
        }
      ]
    },
    {
      "cell_type": "code",
      "source": [
        "for i,j in d.items():\n",
        "  print(i,j)"
      ],
      "metadata": {
        "colab": {
          "base_uri": "https://localhost:8080/"
        },
        "id": "IvgXtV0hlBUR",
        "outputId": "26da3e4e-fd80-48ed-dd34-b2c57fdbd2d4"
      },
      "execution_count": null,
      "outputs": [
        {
          "output_type": "stream",
          "name": "stdout",
          "text": [
            "1 1\n",
            "2 4\n",
            "3 27\n",
            "4 16\n",
            "5 125\n",
            "6 36\n",
            "7 343\n",
            "8 64\n",
            "9 729\n",
            "10 100\n"
          ]
        }
      ]
    },
    {
      "cell_type": "code",
      "source": [
        "emp_details={'emp_1':{'Name':'Ravi',\n",
        "                      'ID':111,\n",
        "                      'Age':22,\n",
        "                      'City':'Pune'},\n",
        "\n",
        "             'emp_2':{'Name':'Siddhartha',\n",
        "                      'ID':112,\n",
        "                      'Age':25,\n",
        "                      'City':'Bhopal'},\n",
        "\n",
        "             'emp_3':{'Name':'Bharath',\n",
        "                      'ID':None,\n",
        "                      'Age':25,\n",
        "                      'City':'Pune'},\n",
        "\n",
        "             'emp_4':{'Name':'Shraddha',\n",
        "                      'ID':113,\n",
        "                      'Age':23,\n",
        "                      'City':'Noida'},\n",
        "\n",
        "             'emp_5':{'Name':'Geeta',\n",
        "                      'ID':115,\n",
        "                      'Age':26,\n",
        "                      'City':'Pune'}\n",
        "            }"
      ],
      "metadata": {
        "id": "NbnkFrXvlNRB"
      },
      "execution_count": null,
      "outputs": []
    },
    {
      "cell_type": "code",
      "source": [
        "i,j=(1,100)\n",
        "print(i) # Tuple ko unpack karega aur fir humko i = 1 aur j = 100 dega\n",
        "print(j)"
      ],
      "metadata": {
        "colab": {
          "base_uri": "https://localhost:8080/"
        },
        "id": "IgnGp0nlqiO5",
        "outputId": "f3cd52f3-234d-410b-8cc7-62259bb56d00"
      },
      "execution_count": null,
      "outputs": [
        {
          "output_type": "stream",
          "name": "stdout",
          "text": [
            "1\n",
            "100\n"
          ]
        }
      ]
    },
    {
      "cell_type": "code",
      "source": [
        "for i,j in d.items():\n",
        "    print(i,j) # isme i,j seprately print hoga"
      ],
      "metadata": {
        "colab": {
          "base_uri": "https://localhost:8080/"
        },
        "id": "q626Z_b3qmu2",
        "outputId": "84ee85a0-7b09-4890-e97a-4cb621a83c06"
      },
      "execution_count": null,
      "outputs": [
        {
          "output_type": "stream",
          "name": "stdout",
          "text": [
            "1 1\n",
            "2 4\n",
            "3 27\n",
            "4 16\n",
            "5 125\n",
            "6 36\n",
            "7 343\n",
            "8 64\n",
            "9 729\n",
            "10 100\n"
          ]
        }
      ]
    },
    {
      "cell_type": "code",
      "source": [
        "emp_details={'emp_1':{'Name':'Ravi',\n",
        "                      'ID':111,\n",
        "                      'Age':22,\n",
        "                      'City':'Pune'},\n",
        "\n",
        "             'emp_2':{'Name':'Siddhartha',\n",
        "                      'ID':112,\n",
        "                      'Age':25,\n",
        "                      'City':'Bhopal'},\n",
        "\n",
        "             'emp_3':{'Name':'Bharath',\n",
        "                      'ID':None,\n",
        "                      'Age':25,\n",
        "                      'City':'Pune'},\n",
        "\n",
        "             'emp_4':{'Name':'Shraddha',\n",
        "                      'ID':113,\n",
        "                      'Age':23,\n",
        "                      'City':'Noida'},\n",
        "\n",
        "             'emp_5':{'Name':'Geeta',\n",
        "                      'ID':115,\n",
        "                      'Age':26,\n",
        "                      'City':'Pune'}\n",
        "            }"
      ],
      "metadata": {
        "colab": {
          "base_uri": "https://localhost:8080/",
          "height": 106
        },
        "id": "GV3BQ__2qnm3",
        "outputId": "7bd18e88-0abb-4151-f4af-c6275654168d"
      },
      "execution_count": null,
      "outputs": [
        {
          "output_type": "error",
          "ename": "IndentationError",
          "evalue": "unexpected indent (<ipython-input-78-1e5983fc8de1>, line 26)",
          "traceback": [
            "\u001b[0;36m  File \u001b[0;32m\"<ipython-input-78-1e5983fc8de1>\"\u001b[0;36m, line \u001b[0;32m26\u001b[0m\n\u001b[0;31m    print(emp_details)\u001b[0m\n\u001b[0m    ^\u001b[0m\n\u001b[0;31mIndentationError\u001b[0m\u001b[0;31m:\u001b[0m unexpected indent\n"
          ]
        }
      ]
    },
    {
      "cell_type": "code",
      "source": [
        "emp_details"
      ],
      "metadata": {
        "colab": {
          "base_uri": "https://localhost:8080/"
        },
        "id": "0Pklpa7grTHs",
        "outputId": "8115ade3-e039-4cf4-bbdf-5a6e706a1f97"
      },
      "execution_count": null,
      "outputs": [
        {
          "output_type": "execute_result",
          "data": {
            "text/plain": [
              "{'Ravi': {'ID': 101, 'Age': 22, 'City': 'Chennai'},\n",
              " 'Siddharta': {'ID': 102, 'Age': 23, 'City': 'Mumbai'},\n",
              " 'Bharath': {'ID': 103, 'Age': 24, 'City': 'Hyderabad'}}"
            ]
          },
          "metadata": {},
          "execution_count": 79
        }
      ]
    },
    {
      "cell_type": "code",
      "source": [
        "emp_details.keys()"
      ],
      "metadata": {
        "colab": {
          "base_uri": "https://localhost:8080/"
        },
        "id": "6Xwy3Jd0rfu-",
        "outputId": "c96e6d0f-e0e3-481a-8c0e-c63cd557fddf"
      },
      "execution_count": null,
      "outputs": [
        {
          "output_type": "execute_result",
          "data": {
            "text/plain": [
              "dict_keys(['Ravi', 'Siddharta', 'Bharath'])"
            ]
          },
          "metadata": {},
          "execution_count": 80
        }
      ]
    },
    {
      "cell_type": "code",
      "source": [
        "emp_details.values()"
      ],
      "metadata": {
        "colab": {
          "base_uri": "https://localhost:8080/"
        },
        "id": "SojOe8fbrutX",
        "outputId": "6697a77e-8ac7-4af4-d2eb-fe14ed201ad3"
      },
      "execution_count": null,
      "outputs": [
        {
          "output_type": "execute_result",
          "data": {
            "text/plain": [
              "dict_values([{'ID': 101, 'Age': 22, 'City': 'Chennai'}, {'ID': 102, 'Age': 23, 'City': 'Mumbai'}, {'ID': 103, 'Age': 24, 'City': 'Hyderabad'}])"
            ]
          },
          "metadata": {},
          "execution_count": 81
        }
      ]
    },
    {
      "cell_type": "code",
      "source": [
        "apple={'emp_1':{'Name':'Ravi',\n",
        "                      'ID':111,\n",
        "                      'Age':22,\n",
        "                      'City':'Pune'},\n",
        "\n",
        "             'emp_2':{'Name':'Siddhartha',\n",
        "                      'ID':112,\n",
        "                      'Age':25,\n",
        "                      'City':'Bhopal'},\n",
        "\n",
        "             'emp_3':{'Name':'Bharath',\n",
        "                      'ID':None,\n",
        "                      'Age':25,\n",
        "                      'City':'Pune'},\n",
        "\n",
        "             'emp_4':{'Name':'Shraddha',\n",
        "                      'ID':113,\n",
        "                      'Age':23,\n",
        "                      'City':'Noida'},\n",
        "\n",
        "             'emp_5':{'Name':'Geeta',\n",
        "                      'ID':115,\n",
        "                      'Age':26,\n",
        "                      'City':'Pune'}\n",
        "            }\n",
        "\n",
        "for i,j in apple.items(): # Removed extra space before the 'for' loop\n",
        "    for x,y in j.items():\n",
        "        print(y)"
      ],
      "metadata": {
        "colab": {
          "base_uri": "https://localhost:8080/"
        },
        "id": "-OomCe5Ns2FC",
        "outputId": "f009aaa2-a573-49cb-8136-e7528f446f42"
      },
      "execution_count": null,
      "outputs": [
        {
          "output_type": "stream",
          "name": "stdout",
          "text": [
            "Ravi\n",
            "111\n",
            "22\n",
            "Pune\n",
            "Siddhartha\n",
            "112\n",
            "25\n",
            "Bhopal\n",
            "Bharath\n",
            "None\n",
            "25\n",
            "Pune\n",
            "Shraddha\n",
            "113\n",
            "23\n",
            "Noida\n",
            "Geeta\n",
            "115\n",
            "26\n",
            "Pune\n"
          ]
        }
      ]
    },
    {
      "cell_type": "code",
      "source": [
        "v={'Name': 'Ravi', 'ID': 111, 'Age': 22, 'City': 'Pune'}\n",
        "\n",
        "for x,y in v.items():\n",
        "    print(x)"
      ],
      "metadata": {
        "colab": {
          "base_uri": "https://localhost:8080/"
        },
        "id": "dwMZ4WpptIRJ",
        "outputId": "f654f22d-74f7-4e92-e8ce-8646e179af91"
      },
      "execution_count": null,
      "outputs": [
        {
          "output_type": "stream",
          "name": "stdout",
          "text": [
            "Name\n",
            "ID\n",
            "Age\n",
            "City\n"
          ]
        }
      ]
    },
    {
      "cell_type": "code",
      "source": [
        "# update->ek dictionary ka value doosre dictionary par update kar dega.\n",
        "d={1:100,2:200}\n",
        "d2={3:300,4:400}\n",
        "d.update(d2)\n",
        "print(d)"
      ],
      "metadata": {
        "colab": {
          "base_uri": "https://localhost:8080/"
        },
        "id": "hu7Pa4PpfTFs",
        "outputId": "b7204a03-2c18-46a0-ccd8-360c42d07abc"
      },
      "execution_count": null,
      "outputs": [
        {
          "output_type": "stream",
          "name": "stdout",
          "text": [
            "{1: 100, 2: 200, 3: 300, 4: 400}\n"
          ]
        }
      ]
    },
    {
      "cell_type": "code",
      "source": [
        "d = {}\n",
        "\n",
        "for i in range(1,6):\n",
        "  d[i] = i**2\n",
        "print(d)"
      ],
      "metadata": {
        "colab": {
          "base_uri": "https://localhost:8080/"
        },
        "id": "tSr73HFgkU6C",
        "outputId": "1e776243-f221-4554-de5c-c0cf330a21c3"
      },
      "execution_count": null,
      "outputs": [
        {
          "output_type": "stream",
          "name": "stdout",
          "text": [
            "{1: 1, 2: 4, 3: 9, 4: 16, 5: 25}\n"
          ]
        }
      ]
    },
    {
      "cell_type": "code",
      "source": [
        "d = {}\n",
        "\n",
        "for i in range(1,6):\n",
        "  d.update({i:i**2})\n",
        "print(d)"
      ],
      "metadata": {
        "colab": {
          "base_uri": "https://localhost:8080/"
        },
        "id": "OX6phsRtkwPF",
        "outputId": "852c195d-3469-4cc7-cf0e-5578b9c6c96b"
      },
      "execution_count": null,
      "outputs": [
        {
          "output_type": "stream",
          "name": "stdout",
          "text": [
            "{1: 1, 2: 4, 3: 9, 4: 16, 5: 25}\n"
          ]
        }
      ]
    },
    {
      "cell_type": "code",
      "source": [
        "#get()- return karega value us key ka aur invalid key ka none return karega."
      ],
      "metadata": {
        "id": "c_TO3MKik9D9"
      },
      "execution_count": null,
      "outputs": []
    },
    {
      "cell_type": "code",
      "source": [
        "# dictionay_name.get(key)"
      ],
      "metadata": {
        "id": "to2rmo84mW63"
      },
      "execution_count": null,
      "outputs": []
    },
    {
      "cell_type": "code",
      "source": [
        "emp={'Name':'Shrikant', 'ID':222, 'Age':28, 'City':'Mumbai'}\n",
        "emp\n",
        "print(emp.get('Name'))"
      ],
      "metadata": {
        "colab": {
          "base_uri": "https://localhost:8080/"
        },
        "id": "Xq8APvF4nmOk",
        "outputId": "0f49eeea-5a0c-47f6-e8f6-724a3255d859"
      },
      "execution_count": null,
      "outputs": [
        {
          "output_type": "stream",
          "name": "stdout",
          "text": [
            "Shrikant\n"
          ]
        }
      ]
    },
    {
      "cell_type": "code",
      "source": [
        "#setdefault->key as a argument lega agar wo exist krta hai toh wo uska value return karega varna wo usko koi default value dega jo ki none hai\n",
        "# dictionary_name.get()"
      ],
      "metadata": {
        "id": "dyT8fRYGn2c3"
      },
      "execution_count": null,
      "outputs": []
    },
    {
      "cell_type": "code",
      "source": [
        "print(emp.get('Phone'))"
      ],
      "metadata": {
        "colab": {
          "base_uri": "https://localhost:8080/"
        },
        "id": "-huMn1e2pEdj",
        "outputId": "632f23a2-5f0d-48c4-fddf-8041ba87b391"
      },
      "execution_count": null,
      "outputs": [
        {
          "output_type": "stream",
          "name": "stdout",
          "text": [
            "None\n"
          ]
        }
      ]
    },
    {
      "cell_type": "code",
      "source": [
        "emp.setdefault('Phone')"
      ],
      "metadata": {
        "id": "m4E799yJpUCn"
      },
      "execution_count": null,
      "outputs": []
    },
    {
      "cell_type": "code",
      "source": [
        "print(emp)"
      ],
      "metadata": {
        "colab": {
          "base_uri": "https://localhost:8080/"
        },
        "id": "Mw1XkbZ2poOE",
        "outputId": "6a058462-ed2d-4b82-e535-4e12a16e8600"
      },
      "execution_count": null,
      "outputs": [
        {
          "output_type": "stream",
          "name": "stdout",
          "text": [
            "{'Name': 'Shrikant', 'ID': 222, 'Age': 28, 'City': 'Mumbai', 'Phone': None}\n"
          ]
        }
      ]
    },
    {
      "cell_type": "code",
      "source": [
        "#fromkeys()-> saare value ko same hi keys se assign kar dega\n",
        "# dictionary_name.fromkeys(iterable, value)"
      ],
      "metadata": {
        "id": "bj-1VjFbpqjQ"
      },
      "execution_count": null,
      "outputs": []
    },
    {
      "cell_type": "code",
      "source": [
        "codes=[111,112,113,114,115,116,117,118]\n",
        "d = {}\n",
        "\n",
        "for i in codes:\n",
        "  d[i] = 'HR'\n",
        "print(d)"
      ],
      "metadata": {
        "colab": {
          "base_uri": "https://localhost:8080/"
        },
        "id": "pfKwHMn4qWok",
        "outputId": "449ab5c3-b44f-4c6f-cfc5-ab15a69c05a4"
      },
      "execution_count": null,
      "outputs": [
        {
          "output_type": "stream",
          "name": "stdout",
          "text": [
            "{111: 'HR', 112: 'HR', 113: 'HR', 114: 'HR', 115: 'HR', 116: 'HR', 117: 'HR', 118: 'HR'}\n"
          ]
        }
      ]
    },
    {
      "cell_type": "code",
      "source": [
        "codes=[111,112,113,114,115,116,117,118]\n",
        "d = {}\n",
        "\n",
        "d.fromkeys(codes,'HR')"
      ],
      "metadata": {
        "colab": {
          "base_uri": "https://localhost:8080/"
        },
        "id": "xjzLc354qy-B",
        "outputId": "6f3642dc-4b5c-487b-fbad-9eed52f92224"
      },
      "execution_count": null,
      "outputs": [
        {
          "output_type": "execute_result",
          "data": {
            "text/plain": [
              "{111: 'HR',\n",
              " 112: 'HR',\n",
              " 113: 'HR',\n",
              " 114: 'HR',\n",
              " 115: 'HR',\n",
              " 116: 'HR',\n",
              " 117: 'HR',\n",
              " 118: 'HR'}"
            ]
          },
          "metadata": {},
          "execution_count": 13
        }
      ]
    },
    {
      "cell_type": "code",
      "source": [
        "d={1:100,2:200}\n",
        "d.update(d.fromkeys(codes,'HR'))\n",
        "print(d)"
      ],
      "metadata": {
        "colab": {
          "base_uri": "https://localhost:8080/"
        },
        "id": "my-S3hPXsxoL",
        "outputId": "2585b4f0-2da4-48a7-f8eb-50c573820171"
      },
      "execution_count": null,
      "outputs": [
        {
          "output_type": "stream",
          "name": "stdout",
          "text": [
            "{1: 100, 2: 200, 111: 'HR', 112: 'HR', 113: 'HR', 114: 'HR', 115: 'HR', 116: 'HR', 117: 'HR', 118: 'HR'}\n"
          ]
        }
      ]
    },
    {
      "cell_type": "code",
      "source": [
        "#pop() -> yeh ek key as a argument lega aur uss key value pair ko hata dega.agar wo key nahi hai toh key error aayega."
      ],
      "metadata": {
        "id": "WTchMJyItAK2"
      },
      "execution_count": null,
      "outputs": []
    },
    {
      "cell_type": "code",
      "source": [
        "emp={'Name': 'Shrikant',\n",
        " 'ID': 222,\n",
        " 'Age': 28,\n",
        " 'City': 'Mumbai',\n",
        " 'Phone': None,\n",
        " 'Company': 'TCS'}\n",
        "\n",
        "print(emp)"
      ],
      "metadata": {
        "id": "NH804C2luZbX",
        "colab": {
          "base_uri": "https://localhost:8080/"
        },
        "outputId": "5f29bf8d-7772-4877-e4d0-657f4c3e6335"
      },
      "execution_count": 1,
      "outputs": [
        {
          "output_type": "stream",
          "name": "stdout",
          "text": [
            "{'Name': 'Shrikant', 'ID': 222, 'Age': 28, 'City': 'Mumbai', 'Phone': None, 'Company': 'TCS'}\n"
          ]
        }
      ]
    },
    {
      "cell_type": "code",
      "source": [
        "x=emp.pop('City')\n",
        "print(x)"
      ],
      "metadata": {
        "colab": {
          "base_uri": "https://localhost:8080/",
          "height": 159
        },
        "id": "aTvfkeAuwX8c",
        "outputId": "76d8ae48-65ab-4232-8e15-77357a322456"
      },
      "execution_count": 6,
      "outputs": [
        {
          "output_type": "error",
          "ename": "KeyError",
          "evalue": "'City'",
          "traceback": [
            "\u001b[0;31m---------------------------------------------------------------------------\u001b[0m",
            "\u001b[0;31mKeyError\u001b[0m                                  Traceback (most recent call last)",
            "\u001b[0;32m<ipython-input-6-48429a90dc5f>\u001b[0m in \u001b[0;36m<cell line: 0>\u001b[0;34m()\u001b[0m\n\u001b[0;32m----> 1\u001b[0;31m \u001b[0mx\u001b[0m\u001b[0;34m=\u001b[0m\u001b[0memp\u001b[0m\u001b[0;34m.\u001b[0m\u001b[0mpop\u001b[0m\u001b[0;34m(\u001b[0m\u001b[0;34m'City'\u001b[0m\u001b[0;34m)\u001b[0m\u001b[0;34m\u001b[0m\u001b[0;34m\u001b[0m\u001b[0m\n\u001b[0m\u001b[1;32m      2\u001b[0m \u001b[0mprint\u001b[0m\u001b[0;34m(\u001b[0m\u001b[0mx\u001b[0m\u001b[0;34m)\u001b[0m\u001b[0;34m\u001b[0m\u001b[0;34m\u001b[0m\u001b[0m\n",
            "\u001b[0;31mKeyError\u001b[0m: 'City'"
          ]
        }
      ]
    },
    {
      "cell_type": "code",
      "source": [
        "x=emp.pop('City')\n",
        "print(x)"
      ],
      "metadata": {
        "colab": {
          "base_uri": "https://localhost:8080/",
          "height": 159
        },
        "id": "Fq-y6QN1xlLy",
        "outputId": "fba12e5f-7a52-4382-c7df-521295f1c203"
      },
      "execution_count": 7,
      "outputs": [
        {
          "output_type": "error",
          "ename": "KeyError",
          "evalue": "'City'",
          "traceback": [
            "\u001b[0;31m---------------------------------------------------------------------------\u001b[0m",
            "\u001b[0;31mKeyError\u001b[0m                                  Traceback (most recent call last)",
            "\u001b[0;32m<ipython-input-7-48429a90dc5f>\u001b[0m in \u001b[0;36m<cell line: 0>\u001b[0;34m()\u001b[0m\n\u001b[0;32m----> 1\u001b[0;31m \u001b[0mx\u001b[0m\u001b[0;34m=\u001b[0m\u001b[0memp\u001b[0m\u001b[0;34m.\u001b[0m\u001b[0mpop\u001b[0m\u001b[0;34m(\u001b[0m\u001b[0;34m'City'\u001b[0m\u001b[0;34m)\u001b[0m\u001b[0;34m\u001b[0m\u001b[0;34m\u001b[0m\u001b[0m\n\u001b[0m\u001b[1;32m      2\u001b[0m \u001b[0mprint\u001b[0m\u001b[0;34m(\u001b[0m\u001b[0mx\u001b[0m\u001b[0;34m)\u001b[0m\u001b[0;34m\u001b[0m\u001b[0;34m\u001b[0m\u001b[0m\n",
            "\u001b[0;31mKeyError\u001b[0m: 'City'"
          ]
        }
      ]
    },
    {
      "cell_type": "code",
      "source": [
        "print(emp)"
      ],
      "metadata": {
        "colab": {
          "base_uri": "https://localhost:8080/"
        },
        "id": "7gV_STVEzIDM",
        "outputId": "81d4ff63-d211-4096-c601-c38a04a1f6f0"
      },
      "execution_count": 8,
      "outputs": [
        {
          "output_type": "stream",
          "name": "stdout",
          "text": [
            "{'Name': 'Shrikant', 'ID': 222, 'Age': 28, 'Phone': None, 'Company': 'TCS'}\n"
          ]
        }
      ]
    },
    {
      "cell_type": "code",
      "source": [
        "emp.pop('Name')"
      ],
      "metadata": {
        "colab": {
          "base_uri": "https://localhost:8080/",
          "height": 35
        },
        "id": "RuvUPGZazPZO",
        "outputId": "0e1f208a-da20-45e8-d61a-7b1b8e705c52"
      },
      "execution_count": 9,
      "outputs": [
        {
          "output_type": "execute_result",
          "data": {
            "text/plain": [
              "'Shrikant'"
            ],
            "application/vnd.google.colaboratory.intrinsic+json": {
              "type": "string"
            }
          },
          "metadata": {},
          "execution_count": 9
        }
      ]
    },
    {
      "cell_type": "code",
      "source": [
        "#popitem() ->  It returns the last key:value pair in the form of a tuple -> (key,value) and removes it from the dictionary."
      ],
      "metadata": {
        "id": "0D5uloKazS54"
      },
      "execution_count": null,
      "outputs": []
    },
    {
      "cell_type": "code",
      "source": [
        "emp={'Name': 'Shrikant',\n",
        " 'ID': 222,\n",
        " 'Age': 28,\n",
        " 'City': 'Mumbai',\n",
        " 'Phone': None,\n",
        " 'Company': 'TCS'}\n",
        "\n",
        "print(emp)"
      ],
      "metadata": {
        "id": "tYpXN492zfpc"
      },
      "execution_count": null,
      "outputs": []
    },
    {
      "cell_type": "code",
      "source": [
        "x = emp.popitem()\n",
        "print(x)"
      ],
      "metadata": {
        "colab": {
          "base_uri": "https://localhost:8080/"
        },
        "id": "_coN4uWVzoOu",
        "outputId": "ea6dae6c-5b6a-4275-cea9-df95bc4905b2"
      },
      "execution_count": 10,
      "outputs": [
        {
          "output_type": "stream",
          "name": "stdout",
          "text": [
            "('Company', 'TCS')\n"
          ]
        }
      ]
    },
    {
      "cell_type": "code",
      "source": [
        "print(emp)"
      ],
      "metadata": {
        "colab": {
          "base_uri": "https://localhost:8080/"
        },
        "id": "dsIBm1A7zwiI",
        "outputId": "e755ff84-d68d-4887-8c96-5f603a9c8758"
      },
      "execution_count": 11,
      "outputs": [
        {
          "output_type": "stream",
          "name": "stdout",
          "text": [
            "{'ID': 222, 'Age': 28, 'Phone': None}\n"
          ]
        }
      ]
    },
    {
      "cell_type": "code",
      "source": [
        "#copy() -> copies elements from one dictinary to another one and return that another one."
      ],
      "metadata": {
        "id": "dZA7ipsJzy43"
      },
      "execution_count": null,
      "outputs": []
    },
    {
      "cell_type": "code",
      "source": [
        "d1={1:100,2:200,3:300,4:400}\n",
        "d2=d1\n",
        "print(d2)"
      ],
      "metadata": {
        "colab": {
          "base_uri": "https://localhost:8080/"
        },
        "id": "2B5n2Wmk6vsU",
        "outputId": "19e060d5-1047-4355-dda1-f0642888db53"
      },
      "execution_count": 12,
      "outputs": [
        {
          "output_type": "stream",
          "name": "stdout",
          "text": [
            "{1: 100, 2: 200, 3: 300, 4: 400}\n"
          ]
        }
      ]
    },
    {
      "cell_type": "code",
      "source": [
        "print(id(d1),id(d2))"
      ],
      "metadata": {
        "colab": {
          "base_uri": "https://localhost:8080/"
        },
        "id": "y2amjoji7dND",
        "outputId": "564f485e-3f76-4028-c0d8-78819bc41baf"
      },
      "execution_count": 13,
      "outputs": [
        {
          "output_type": "stream",
          "name": "stdout",
          "text": [
            "137292082507840 137292082507840\n"
          ]
        }
      ]
    },
    {
      "cell_type": "code",
      "source": [
        "d1={1:100,2:200,3:300,4:400}\n",
        "d2=d1.copy()\n",
        "print(d2)"
      ],
      "metadata": {
        "colab": {
          "base_uri": "https://localhost:8080/"
        },
        "id": "i8iUn3UW7pie",
        "outputId": "f9d7afcd-28f7-47b5-ae7b-4532ada64d2d"
      },
      "execution_count": 14,
      "outputs": [
        {
          "output_type": "stream",
          "name": "stdout",
          "text": [
            "{1: 100, 2: 200, 3: 300, 4: 400}\n"
          ]
        }
      ]
    },
    {
      "cell_type": "code",
      "source": [
        "# clear()-> saare elements ko hatakar dictionary ko empty kar dega"
      ],
      "metadata": {
        "id": "uRkDf0k_7x-d"
      },
      "execution_count": null,
      "outputs": []
    },
    {
      "cell_type": "code",
      "source": [
        "emp"
      ],
      "metadata": {
        "colab": {
          "base_uri": "https://localhost:8080/"
        },
        "id": "etNa7hXy8uXV",
        "outputId": "d7a183c7-0ba3-4dee-ef68-b57f945d3e47"
      },
      "execution_count": 15,
      "outputs": [
        {
          "output_type": "execute_result",
          "data": {
            "text/plain": [
              "{'ID': 222, 'Age': 28, 'Phone': None}"
            ]
          },
          "metadata": {},
          "execution_count": 15
        }
      ]
    },
    {
      "cell_type": "code",
      "source": [
        "emp.clear()"
      ],
      "metadata": {
        "id": "bKQnKX8m9P5D"
      },
      "execution_count": 16,
      "outputs": []
    },
    {
      "cell_type": "code",
      "source": [
        "emp"
      ],
      "metadata": {
        "colab": {
          "base_uri": "https://localhost:8080/"
        },
        "id": "QTVK6S7w9TJv",
        "outputId": "aee1ecab-f374-444d-ffde-5d72330ea99f"
      },
      "execution_count": 17,
      "outputs": [
        {
          "output_type": "execute_result",
          "data": {
            "text/plain": [
              "{}"
            ]
          },
          "metadata": {},
          "execution_count": 17
        }
      ]
    },
    {
      "cell_type": "code",
      "source": [
        "text='i am a smart boy'\n",
        "d = {}\n",
        "\n",
        "d={}\n",
        "\n",
        "for i in text:\n",
        "    if i!=' ':\n",
        "        d[i]=text.count(i)\n",
        "\n",
        "print(d)"
      ],
      "metadata": {
        "colab": {
          "base_uri": "https://localhost:8080/"
        },
        "id": "9hGABCtu9USv",
        "outputId": "b8f8b10b-676d-408e-dd0a-ec2312e8fb7a"
      },
      "execution_count": 19,
      "outputs": [
        {
          "output_type": "stream",
          "name": "stdout",
          "text": [
            "{'i': 1, 'a': 3, 'm': 2, 's': 1, 'r': 1, 't': 1, 'b': 1, 'o': 1, 'y': 1}\n"
          ]
        }
      ]
    },
    {
      "cell_type": "code",
      "source": [
        "text='''\n",
        "p1-This is prompt 1\n",
        "p2-This is prompt 2\n",
        "p3-This is prompt 3\n",
        "p4-This is prompt 4\n",
        "'''\n",
        "\n",
        "\n",
        "# Output- {'p1':'This is prompt 1'.....'p4':'This is prompt 4'}\n",
        "\n",
        "prompts=text.split('\\n')\n",
        "print(prompts)"
      ],
      "metadata": {
        "colab": {
          "base_uri": "https://localhost:8080/"
        },
        "id": "vXb47Lsu_91b",
        "outputId": "720d89c4-1c22-4933-eff8-86fe40c15bed"
      },
      "execution_count": 20,
      "outputs": [
        {
          "output_type": "stream",
          "name": "stdout",
          "text": [
            "['', 'p1-This is prompt 1', 'p2-This is prompt 2', 'p3-This is prompt 3', 'p4-This is prompt 4', '']\n"
          ]
        }
      ]
    },
    {
      "cell_type": "code",
      "source": [
        "if \"\":\n",
        "    print(True)\n",
        "else:\n",
        "    print(False)"
      ],
      "metadata": {
        "colab": {
          "base_uri": "https://localhost:8080/"
        },
        "id": "nSzZRlAQCv9I",
        "outputId": "5a2e15c1-f729-46d0-e9a4-a6a3eeb5444a"
      },
      "execution_count": 21,
      "outputs": [
        {
          "output_type": "stream",
          "name": "stdout",
          "text": [
            "False\n"
          ]
        }
      ]
    },
    {
      "cell_type": "code",
      "source": [],
      "metadata": {
        "id": "53S9iQTgC0ep"
      },
      "execution_count": null,
      "outputs": []
    }
  ]
}