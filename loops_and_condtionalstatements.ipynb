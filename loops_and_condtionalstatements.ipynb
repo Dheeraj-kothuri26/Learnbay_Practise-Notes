{
 "cells": [
  {
   "cell_type": "code",
   "execution_count": null,
   "id": "5056ea1c-bf32-49df-9f40-b1c8f97b45d1",
   "metadata": {},
   "outputs": [],
   "source": [
    "Conditional statements and loops"
   ]
  },
  {
   "cell_type": "code",
   "execution_count": null,
   "id": "064b5855-824e-487d-aca5-b531d9d4d451",
   "metadata": {},
   "outputs": [],
   "source": [
    "execute some code based upon the condition"
   ]
  },
  {
   "cell_type": "code",
   "execution_count": null,
   "id": "56e881af-9ce5-417f-a021-48f9c5e61ade",
   "metadata": {},
   "outputs": [],
   "source": [
    "# - 1- if statement\n",
    "# - 2- if....else statement\n",
    "# - 3- Multiple if statement\n",
    "# - 4- if....elif....else statement\n",
    "# - 5- Nested if....else statement\n",
    "# - 6- Ternary operators"
   ]
  },
  {
   "cell_type": "code",
   "execution_count": null,
   "id": "d3e0bf24-540b-496b-a776-36530218f2a0",
   "metadata": {},
   "outputs": [],
   "source": [
    "if statemnt- if this condition is true then it will execute the statement"
   ]
  },
  {
   "cell_type": "code",
   "execution_count": null,
   "id": "9572e4d6-a3cc-4f82-9879-849abbc62099",
   "metadata": {},
   "outputs": [],
   "source": [
    "syntax \n",
    "if(condition):\n",
    "   code"
   ]
  },
  {
   "cell_type": "code",
   "execution_count": null,
   "id": "c11604bb-71bc-4ef4-a1c8-1a1881bbf414",
   "metadata": {},
   "outputs": [],
   "source": [
    "# indentation ko dono code ke space ko kahte hai, agar code par indentation nahi rahega to indentation error aayega.Aur indentation scope/Block ko bhi define karta hai"
   ]
  },
  {
   "cell_type": "code",
   "execution_count": 1,
   "id": "8e573953-2327-4498-a344-608272675c22",
   "metadata": {},
   "outputs": [
    {
     "name": "stdout",
     "output_type": "stream",
     "text": [
      "jfjfj\n"
     ]
    }
   ],
   "source": [
    "if 2 == 2:\n",
    "    print(\"jfjfj\")"
   ]
  },
  {
   "cell_type": "code",
   "execution_count": 4,
   "id": "59f6d33a-f209-4aae-8b14-6c8298b5398d",
   "metadata": {},
   "outputs": [
    {
     "data": {
      "text/plain": [
       "True"
      ]
     },
     "execution_count": 4,
     "metadata": {},
     "output_type": "execute_result"
    }
   ],
   "source": [
    "2==2\n"
   ]
  },
  {
   "cell_type": "code",
   "execution_count": 5,
   "id": "d8aa5533-e9f9-4fa9-bb3e-f5d2657561c0",
   "metadata": {},
   "outputs": [
    {
     "data": {
      "text/plain": [
       "False"
      ]
     },
     "execution_count": 5,
     "metadata": {},
     "output_type": "execute_result"
    }
   ],
   "source": [
    "2 == 4"
   ]
  },
  {
   "cell_type": "code",
   "execution_count": 6,
   "id": "3950da85-1434-4aa7-aa1d-0ad4e2e1756f",
   "metadata": {},
   "outputs": [
    {
     "name": "stdout",
     "output_type": "stream",
     "text": [
      "ndndndn\n",
      "sjsjsjsj\n"
     ]
    }
   ],
   "source": [
    "if 2 == 2:\n",
    "    print(\"ndndndn\")    \n",
    "print(\"sjsjsjsj\")"
   ]
  },
  {
   "cell_type": "code",
   "execution_count": 7,
   "id": "d39f5103-e43e-44ff-adad-1f230a558899",
   "metadata": {},
   "outputs": [
    {
     "name": "stdout",
     "output_type": "stream",
     "text": [
      "sjsjsjsj\n"
     ]
    }
   ],
   "source": [
    "if 2 == 3:\n",
    "    print(\"ndndndn\")    \n",
    "print(\"sjsjsjsj\")"
   ]
  },
  {
   "cell_type": "code",
   "execution_count": 8,
   "id": "79cac117-fc2e-49af-92ff-e758b874fb0c",
   "metadata": {},
   "outputs": [],
   "source": [
    "if 2 == 3:\n",
    "    print(\"ndndndn\")    \n",
    "    print(\"sjsjsjsj\") # kyuki true nhi hai"
   ]
  },
  {
   "cell_type": "code",
   "execution_count": 9,
   "id": "5fd34941-c86c-4a0e-bdae-a870e9b85ae5",
   "metadata": {},
   "outputs": [
    {
     "ename": "SyntaxError",
     "evalue": "incomplete input (504411243.py, line 1)",
     "output_type": "error",
     "traceback": [
      "\u001b[1;36m  Cell \u001b[1;32mIn[9], line 1\u001b[1;36m\u001b[0m\n\u001b[1;33m    if 2 == 2:\u001b[0m\n\u001b[1;37m              ^\u001b[0m\n\u001b[1;31mSyntaxError\u001b[0m\u001b[1;31m:\u001b[0m incomplete input\n"
     ]
    }
   ],
   "source": [
    "if 2 == 2: # imp to remember"
   ]
  },
  {
   "cell_type": "code",
   "execution_count": null,
   "id": "2a37355b-fb16-414c-ae92-cfc5bb4fda63",
   "metadata": {},
   "outputs": [],
   "source": [
    "if else- agar if hua to ok varna else"
   ]
  },
  {
   "cell_type": "code",
   "execution_count": null,
   "id": "611609c7-5142-4edf-9876-de6b3f9ca534",
   "metadata": {},
   "outputs": [],
   "source": [
    "if (condition):\n",
    "    code\n",
    "else:\n",
    "    code"
   ]
  },
  {
   "cell_type": "code",
   "execution_count": 10,
   "id": "fd216dc0-45a2-4fa3-bbe3-10724c6e3b47",
   "metadata": {},
   "outputs": [
    {
     "name": "stdout",
     "output_type": "stream",
     "text": [
      "jjjfjfj\n"
     ]
    }
   ],
   "source": [
    "if 2 == 2:\n",
    "    print(\"jjjfjfj\")\n",
    "else:\n",
    "    print(\"jdjdjdj\")"
   ]
  },
  {
   "cell_type": "code",
   "execution_count": 11,
   "id": "866c69a5-0282-40ac-ba2a-2995fe5ed2d9",
   "metadata": {},
   "outputs": [
    {
     "name": "stdout",
     "output_type": "stream",
     "text": [
      "jdjdjdj\n"
     ]
    }
   ],
   "source": [
    "if 2 == 5:\n",
    "    print(\"jjjfjfj\")\n",
    "else:\n",
    "    print(\"jdjdjdj\")"
   ]
  },
  {
   "cell_type": "code",
   "execution_count": 12,
   "id": "92a65c01-7178-4fbc-ae15-b33d4b1c8c92",
   "metadata": {},
   "outputs": [
    {
     "name": "stdout",
     "output_type": "stream",
     "text": [
      "jjjfjfj\n",
      "jdjdjdj\n"
     ]
    }
   ],
   "source": [
    "if 2 == 2:\n",
    "    print(\"jjjfjfj\")\n",
    "else:\n",
    "    print(\"jdjdjdj\")\n",
    "print(\"jdjdjdj\")"
   ]
  },
  {
   "cell_type": "code",
   "execution_count": 14,
   "id": "3d13440e-ea56-4d68-8d8e-d84573453cfc",
   "metadata": {},
   "outputs": [
    {
     "name": "stdout",
     "output_type": "stream",
     "text": [
      "jdjdjdj\n",
      "jdmmdmdmj\n"
     ]
    }
   ],
   "source": [
    "if 2 == 3:\n",
    "    print(\"jjjfjfj\")\n",
    "else:\n",
    "    print(\"jdjdjdj\")\n",
    "print(\"jdmmdmdmj\")"
   ]
  },
  {
   "cell_type": "code",
   "execution_count": 18,
   "id": "67e110ba-bac4-401e-b4e6-fba4c1b76c37",
   "metadata": {},
   "outputs": [
    {
     "name": "stdout",
     "output_type": "stream",
     "text": [
      "The result is 2\n"
     ]
    }
   ],
   "source": [
    "# Take two numbers and print the maximum number\n",
    "a = 10\n",
    "b = 2\n",
    "\n",
    "if a < b:\n",
    "    print('The result is {}'.format(a))\n",
    "else:\n",
    "    print('The result is {}'.format(b))\n"
   ]
  },
  {
   "cell_type": "code",
   "execution_count": 20,
   "id": "3fc042cd-964f-4975-9b74-680dd96d7e66",
   "metadata": {},
   "outputs": [
    {
     "name": "stdout",
     "output_type": "stream",
     "text": [
      "The result is 2\n"
     ]
    }
   ],
   "source": [
    "a = 10\n",
    "b = 2\n",
    "\n",
    "if a < b:\n",
    "    print(f'The result is {a}')\n",
    "else:\n",
    "    print(f'The result is {b}')\n"
   ]
  },
  {
   "cell_type": "code",
   "execution_count": null,
   "id": "43199d80-6b0a-479e-8209-601c721cf446",
   "metadata": {},
   "outputs": [],
   "source": [
    "multiple if statements\n",
    "if(condition)\n",
    "   code\n",
    "if(condition)\n",
    "   code\n",
    "    |\n",
    "    "
   ]
  },
  {
   "cell_type": "code",
   "execution_count": 2,
   "id": "1c6aabf5-5489-4054-89b9-db29d836f842",
   "metadata": {},
   "outputs": [
    {
     "name": "stdin",
     "output_type": "stream",
     "text": [
      " 2\n"
     ]
    },
    {
     "name": "stdout",
     "output_type": "stream",
     "text": [
      "TWO\n"
     ]
    }
   ],
   "source": [
    "# Take a number from 1 to 5 and print in following way\n",
    "\n",
    "# Input- 1\n",
    "# Output- One\n",
    "# Input- 2\n",
    "# Output- Two\n",
    "\n",
    "a = int(input())\n",
    "if a == 1:\n",
    "    print(\"ONE\")\n",
    "if a == 2:\n",
    "    print(\"TWO\")\n",
    "if a == 3:\n",
    "    print(a == 3)\n",
    "if a == 4:\n",
    "    print(\"Four\")\n",
    "if a == 5:\n",
    "    print(\"Five\")"
   ]
  },
  {
   "cell_type": "code",
   "execution_count": null,
   "id": "691cf8a9-f82a-40e6-890c-00439a4d0a7b",
   "metadata": {},
   "outputs": [],
   "source": [
    "if elif else statement- agar if hua to ok varna elif agar dono nhi hua to else "
   ]
  },
  {
   "cell_type": "code",
   "execution_count": 3,
   "id": "4c12574c-757c-4013-809c-8e288a9f258d",
   "metadata": {},
   "outputs": [
    {
     "name": "stdout",
     "output_type": "stream",
     "text": [
      "elif block\n"
     ]
    }
   ],
   "source": [
    "if 2==1:\n",
    "    print('if block')\n",
    "elif 3==3:\n",
    "    print('elif block')\n",
    "else:\n",
    "    print('else block')"
   ]
  },
  {
   "cell_type": "code",
   "execution_count": 7,
   "id": "8b607028-f2ef-47ba-ab6b-8014874eee04",
   "metadata": {},
   "outputs": [
    {
     "name": "stdin",
     "output_type": "stream",
     "text": [
      " 1\n",
      " 2\n",
      " 3\n"
     ]
    },
    {
     "name": "stdout",
     "output_type": "stream",
     "text": [
      "C is max\n"
     ]
    }
   ],
   "source": [
    "# Take 3 numbers and print the maximum of the 3 numbers\n",
    "a = int(input())\n",
    "b = int(input())\n",
    "c = int(input())\n",
    "\n",
    "if a < b & b < c:\n",
    "    print('C is max')\n",
    "elif b < c & c < a:\n",
    "    print('a is max')\n",
    "else:\n",
    "    print('b is max')"
   ]
  },
  {
   "cell_type": "code",
   "execution_count": 9,
   "id": "e3b2d311-70cf-43bd-82e8-99164106fbaa",
   "metadata": {},
   "outputs": [],
   "source": [
    "a = 2\n",
    "b = 3\n",
    "c = 8"
   ]
  },
  {
   "cell_type": "code",
   "execution_count": 10,
   "id": "8358c1db-48a2-495d-85f0-6a4356dd4195",
   "metadata": {},
   "outputs": [
    {
     "data": {
      "text/plain": [
       "True"
      ]
     },
     "execution_count": 10,
     "metadata": {},
     "output_type": "execute_result"
    }
   ],
   "source": [
    "a > b & c < a"
   ]
  },
  {
   "cell_type": "code",
   "execution_count": 11,
   "id": "754a9adb-fd18-4625-8003-80a6683e689d",
   "metadata": {},
   "outputs": [
    {
     "name": "stdout",
     "output_type": "stream",
     "text": [
      "a=1 is max\n"
     ]
    }
   ],
   "source": [
    "a = 1\n",
    "b = 2\n",
    "c = 3\n",
    "\n",
    "if a<b & b<c:\n",
    "    print(f\"a={a} is max\")\n",
    "elif b<a & a<c:\n",
    "    print(f\"b={b} is max\")\n",
    "else:\n",
    "    print(f\"c={c} is max\")"
   ]
  },
  {
   "cell_type": "code",
   "execution_count": null,
   "id": "579af4be-156d-430b-824a-4088109c9ec4",
   "metadata": {},
   "outputs": [],
   "source": [
    "nested if else statement->if-else statement inside if_else statement\n",
    "if condition:\n",
    "    if condition:\n",
    "        code\n",
    "        code"
   ]
  },
  {
   "cell_type": "code",
   "execution_count": null,
   "id": "4020076b-1e00-474e-93e9-6fa9f15fee9f",
   "metadata": {},
   "outputs": [],
   "source": [
    "if condition:\n",
    "    if condition:\n",
    "        code\n",
    "        code\n",
    "    else:\n",
    "        code\n",
    "else:\n",
    "    code"
   ]
  },
  {
   "cell_type": "code",
   "execution_count": 20,
   "id": "fc7ec943-0244-471e-888f-23bd8a7d3db8",
   "metadata": {},
   "outputs": [
    {
     "name": "stdin",
     "output_type": "stream",
     "text": [
      " 8\n"
     ]
    },
    {
     "name": "stdout",
     "output_type": "stream",
     "text": [
      "Only alphabets are allowed\n"
     ]
    }
   ],
   "source": [
    "# Take a letter as input and print vowel or consonant as the case may be.\n",
    "a = input()\n",
    "if a.isalpha():\n",
    "    if a in 'aeiouAEIOU':\n",
    "        print(f\"{a} is a vowel\")\n",
    "    else:\n",
    "        print(f\"{a} is a consonant\")\n",
    "else:\n",
    "    print('Only alphabets are allowed')"
   ]
  },
  {
   "cell_type": "code",
   "execution_count": null,
   "id": "173f6410-df01-4a75-8c4b-10e85eaed39a",
   "metadata": {},
   "outputs": [],
   "source": [
    "Ternary operator- # - It is a substitute to if..else statement.\n",
    "# - It is a one liner code to write the conditional statement\n",
    "# exp_1 if condition else exp_2\n",
    "# Suppose the if condition is True then exp_1 will be the result.\n",
    "# Suppose the if condition is False then exp_2 will be the result."
   ]
  },
  {
   "cell_type": "code",
   "execution_count": 22,
   "id": "15817649-7b1b-4fae-8311-1a7173502b4e",
   "metadata": {},
   "outputs": [
    {
     "name": "stdin",
     "output_type": "stream",
     "text": [
      " 2\n",
      " 3\n"
     ]
    },
    {
     "name": "stdout",
     "output_type": "stream",
     "text": [
      "HELLO WORLD\n"
     ]
    }
   ],
   "source": [
    "a = int(input())\n",
    "b = int(input())\n",
    "print(\"HELLO WORLD\") if a < b else print('JDJDJDJDJ')"
   ]
  },
  {
   "cell_type": "code",
   "execution_count": 23,
   "id": "b0bbba81-e3e1-4967-b348-884824b0f28e",
   "metadata": {},
   "outputs": [
    {
     "name": "stdin",
     "output_type": "stream",
     "text": [
      " 2\n"
     ]
    },
    {
     "name": "stdout",
     "output_type": "stream",
     "text": [
      "Even\n"
     ]
    }
   ],
   "source": [
    "# Even or odd\n",
    "a = int(input())\n",
    "print(\"Even\") if a%2 == 0 else print(\"Odd\")"
   ]
  },
  {
   "cell_type": "code",
   "execution_count": 24,
   "id": "430f9bbc-0b67-4be4-8cfd-e16cc93c8c59",
   "metadata": {},
   "outputs": [
    {
     "name": "stdin",
     "output_type": "stream",
     "text": [
      " 3\n",
      " 3\n",
      " 5\n"
     ]
    },
    {
     "name": "stdout",
     "output_type": "stream",
     "text": [
      " c is largest\n"
     ]
    }
   ],
   "source": [
    "# Maxium of 3 numbers\n",
    "a = int(input())\n",
    "b = int(input())\n",
    "c = int(input())\n",
    "\n",
    "print(\"c is largest\") if a < b & b < c else print('b ia largest')  if c < a & a < b else print(' c is largest')"
   ]
  },
  {
   "cell_type": "code",
   "execution_count": 27,
   "id": "aed0f090-6501-40d0-afad-5390290296ce",
   "metadata": {},
   "outputs": [
    {
     "name": "stdin",
     "output_type": "stream",
     "text": [
      "english marks 23\n",
      "math marks 44\n",
      "science mark 66\n"
     ]
    },
    {
     "name": "stdout",
     "output_type": "stream",
     "text": [
      "fIRST DIVISION\n"
     ]
    }
   ],
   "source": [
    "# English\n",
    "# Maths\n",
    "# Scinece\n",
    "# Maximum Marks=50\n",
    "\n",
    "# Calculate the percentage of total marks\n",
    "# Print the following way\n",
    "# Percentage -> \n",
    "# Suppose the percentage 60 or greater -> First Division\n",
    "# Suppose the percentage is in between 45 and 59 -> Second Division\n",
    "# Suppose the percentage is in between 33 and 44 -> Third Division\n",
    "# Suppose the percentage is below 33 -> Fail\n",
    "\n",
    "# Note- Take the marks from the user\n",
    "\n",
    "eng = int(input('english marks'))\n",
    "math = int(input('math marks'))\n",
    "sci = int(input('science mark'))\n",
    "per = (eng + math + sci)/150 *100\n",
    "\n",
    "if per >= 60:\n",
    "    print(\"fIRST DIVISION\")\n",
    "elif per >= 45 & per <= 59:\n",
    "    print(\"second divison\")\n",
    "elif per >= 33 & per <= 44:\n",
    "    print(\"Third DAVISION\")\n",
    "else:\n",
    "    print('fail')\n",
    "    \n",
    "    "
   ]
  },
  {
   "cell_type": "code",
   "execution_count": 28,
   "id": "13b5f1c6-5ccb-40cf-b17e-14635d7952a5",
   "metadata": {},
   "outputs": [
    {
     "name": "stdout",
     "output_type": "stream",
     "text": [
      "Fail\n"
     ]
    }
   ],
   "source": [
    "per=27\n",
    "print('First Division') if per>=60 else print('Second Division') if per>=45 else print('Third Division') if per>=33 else print('Fail')"
   ]
  },
  {
   "cell_type": "code",
   "execution_count": 29,
   "id": "4868126a-3813-4be8-bfc5-3de7b421dcd0",
   "metadata": {},
   "outputs": [
    {
     "name": "stdout",
     "output_type": "stream",
     "text": [
      "The maximum marks are 50\n"
     ]
    }
   ],
   "source": [
    "eng=44\n",
    "math=48\n",
    "sci=420\n",
    "\n",
    "if eng<=50 and math<=50 and sci<=50:\n",
    "    per=(eng+math+sci)/150*100\n",
    "\n",
    "    print(f\"The percentage is-> {per}\")\n",
    "    \n",
    "    if per>=60:\n",
    "        print('First Division')\n",
    "    elif per>=45:\n",
    "        print('Second Division')\n",
    "    elif per>=33:\n",
    "        print('Third Division')\n",
    "    else:\n",
    "        print('Fail')\n",
    "else:\n",
    "    print('The maximum marks are 50')"
   ]
  },
  {
   "cell_type": "code",
   "execution_count": null,
   "id": "7d52ab69-13e5-4246-87d2-11318c96b025",
   "metadata": {},
   "outputs": [],
   "source": [
    "loops-> # Loops are used to execute the piece of code repeatedly."
   ]
  },
  {
   "cell_type": "code",
   "execution_count": null,
   "id": "d26afc45-5365-42e0-9c44-76fde15c2054",
   "metadata": {},
   "outputs": [],
   "source": [
    "# - 1- for loop\n",
    "# - 2- while loop"
   ]
  },
  {
   "cell_type": "code",
   "execution_count": null,
   "id": "6056e8f6-20fa-4032-8307-c96d3cecdb16",
   "metadata": {},
   "outputs": [],
   "source": [
    "# - for loop is applied on the iterables only.\n",
    "# - for traverses upon the elements of the iterable one by one from the beginning to the end.\n",
    "# - The positioner points to the elements one by one that the for loop traverses upon.\n",
    "# - The positioner can be any variable.\n",
    "# - If we use any non-iterable item it raises TypeError"
   ]
  },
  {
   "cell_type": "code",
   "execution_count": 30,
   "id": "652c5756-1321-486d-917f-5dc0b2090dc4",
   "metadata": {},
   "outputs": [
    {
     "name": "stdout",
     "output_type": "stream",
     "text": [
      "P\n",
      "y\n",
      "t\n",
      "h\n",
      "o\n",
      "n\n"
     ]
    }
   ],
   "source": [
    "my_str='Python'\n",
    "\n",
    "for i in my_str:\n",
    "    print(i)"
   ]
  },
  {
   "cell_type": "code",
   "execution_count": 32,
   "id": "59e660eb-871e-4cb9-8b57-75051dcc867c",
   "metadata": {},
   "outputs": [
    {
     "name": "stdout",
     "output_type": "stream",
     "text": [
      "10 20 30 40 50 60 70 80 "
     ]
    }
   ],
   "source": [
    "lst=[10,20,30,40,50,60,70,80]\n",
    "\n",
    "for x in lst:\n",
    "    print(x, end=' ')"
   ]
  },
  {
   "cell_type": "code",
   "execution_count": 33,
   "id": "d41afa89-99af-4a20-b263-7f34e4f934c2",
   "metadata": {},
   "outputs": [
    {
     "name": "stdout",
     "output_type": "stream",
     "text": [
      "True\n",
      "(5+6j)\n",
      "78\n",
      "4.66\n",
      "Hello\n",
      "None\n",
      "{1: 100, 2: 200}\n"
     ]
    }
   ],
   "source": [
    "t=(True, 5+6j, 78, 4.66, 'Hello', None, {1:100,2:200})\n",
    "\n",
    "for ele in t:\n",
    "    print(ele)"
   ]
  },
  {
   "cell_type": "code",
   "execution_count": 34,
   "id": "79de1536-77a3-4a41-bbe1-49e462e94210",
   "metadata": {},
   "outputs": [
    {
     "name": "stdout",
     "output_type": "stream",
     "text": [
      "range(1, 11)\n"
     ]
    }
   ],
   "source": [
    "print(range(1,11))"
   ]
  },
  {
   "cell_type": "code",
   "execution_count": 35,
   "id": "83441748-51d6-4bb5-8e95-ed6e8992b74a",
   "metadata": {},
   "outputs": [
    {
     "data": {
      "text/plain": [
       "[1, 2, 3, 4, 5, 6, 7, 8, 9, 10]"
      ]
     },
     "execution_count": 35,
     "metadata": {},
     "output_type": "execute_result"
    }
   ],
   "source": [
    "list(range(1,11))"
   ]
  },
  {
   "cell_type": "code",
   "execution_count": 36,
   "id": "dc169c13-1ded-43a2-947d-d29554d0fa1b",
   "metadata": {},
   "outputs": [
    {
     "name": "stdout",
     "output_type": "stream",
     "text": [
      "1\n",
      "2\n",
      "3\n",
      "4\n",
      "5\n",
      "6\n",
      "7\n",
      "8\n",
      "9\n",
      "10\n"
     ]
    }
   ],
   "source": [
    "for i in range(1,11):\n",
    "    print(i)"
   ]
  },
  {
   "cell_type": "code",
   "execution_count": 44,
   "id": "66ede05f-6c60-49b2-a2c6-a2fc46b99570",
   "metadata": {},
   "outputs": [
    {
     "ename": "TypeError",
     "evalue": "'builtin_function_or_method' object is not iterable",
     "output_type": "error",
     "traceback": [
      "\u001b[1;31m---------------------------------------------------------------------------\u001b[0m",
      "\u001b[1;31mTypeError\u001b[0m                                 Traceback (most recent call last)",
      "Cell \u001b[1;32mIn[44], line 2\u001b[0m\n\u001b[0;32m      1\u001b[0m d \u001b[38;5;241m=\u001b[39m {\u001b[38;5;241m1\u001b[39m:\u001b[38;5;241m100\u001b[39m,\u001b[38;5;241m2\u001b[39m:\u001b[38;5;241m2999\u001b[39m,\u001b[38;5;241m3\u001b[39m:\u001b[38;5;241m33888\u001b[39m}\n\u001b[1;32m----> 2\u001b[0m \u001b[38;5;28;01mfor\u001b[39;00m i \u001b[38;5;129;01min\u001b[39;00m d\u001b[38;5;241m.\u001b[39mvalues:\n\u001b[0;32m      3\u001b[0m     \u001b[38;5;28mprint\u001b[39m(i)\n",
      "\u001b[1;31mTypeError\u001b[0m: 'builtin_function_or_method' object is not iterable"
     ]
    }
   ],
   "source": [
    "d = {1:100,2:2999,3:33888}\n",
    "for i in d.values:\n",
    "    print(i)"
   ]
  },
  {
   "cell_type": "code",
   "execution_count": 42,
   "id": "3a59d15f-0268-4cc3-bf46-944b40ad4453",
   "metadata": {},
   "outputs": [
    {
     "ename": "TypeError",
     "evalue": "'builtin_function_or_method' object is not iterable",
     "output_type": "error",
     "traceback": [
      "\u001b[1;31m---------------------------------------------------------------------------\u001b[0m",
      "\u001b[1;31mTypeError\u001b[0m                                 Traceback (most recent call last)",
      "Cell \u001b[1;32mIn[42], line 1\u001b[0m\n\u001b[1;32m----> 1\u001b[0m \u001b[38;5;28;01mfor\u001b[39;00m i \u001b[38;5;129;01min\u001b[39;00m d\u001b[38;5;241m.\u001b[39mvalues:\n\u001b[0;32m      2\u001b[0m     \u001b[38;5;28mprint\u001b[39m(i)\n",
      "\u001b[1;31mTypeError\u001b[0m: 'builtin_function_or_method' object is not iterable"
     ]
    }
   ],
   "source": [
    "for i in d.values:\n",
    "    print(i)"
   ]
  },
  {
   "cell_type": "code",
   "execution_count": 45,
   "id": "b9b894df-a0ab-45c0-8ee2-64b25b585648",
   "metadata": {},
   "outputs": [
    {
     "name": "stdout",
     "output_type": "stream",
     "text": [
      "15\n"
     ]
    }
   ],
   "source": [
    "# Get the addition of the numbers from 1 to 10\n",
    "s=0\n",
    "\n",
    "for i in range(1,6):\n",
    "    s=s+i\n",
    "print(s)"
   ]
  },
  {
   "cell_type": "code",
   "execution_count": 46,
   "id": "f6572a80-8908-4d73-beea-9fd95fffb8ba",
   "metadata": {},
   "outputs": [
    {
     "name": "stdout",
     "output_type": "stream",
     "text": [
      "[0]\n",
      "[1]\n",
      "[2]\n",
      "[3]\n",
      "[4]\n",
      "[5]\n"
     ]
    }
   ],
   "source": [
    "for i in range(6):\n",
    "    print([i])"
   ]
  },
  {
   "cell_type": "code",
   "execution_count": 47,
   "id": "876671be-dc50-4192-a798-3ea147fb985b",
   "metadata": {},
   "outputs": [
    {
     "name": "stdout",
     "output_type": "stream",
     "text": [
      "0 W\n",
      "1 e\n",
      "2  \n",
      "3 a\n",
      "4 r\n",
      "5 e\n",
      "6  \n",
      "7 l\n",
      "8 e\n",
      "9 a\n",
      "10 r\n",
      "11 n\n",
      "12 i\n",
      "13 n\n",
      "14 g\n",
      "15  \n",
      "16 d\n",
      "17 a\n",
      "18 t\n",
      "19 a\n",
      "20  \n",
      "21 s\n",
      "22 c\n",
      "23 i\n",
      "24 e\n",
      "25 n\n",
      "26 c\n",
      "27 e\n"
     ]
    }
   ],
   "source": [
    "my_str='We are learning data science'\n",
    "\n",
    "for i in range(len(my_str)):\n",
    "    print(i, my_str[i])"
   ]
  },
  {
   "cell_type": "code",
   "execution_count": null,
   "id": "4f6b28b2-cc43-463b-9357-3f566e47947d",
   "metadata": {},
   "outputs": [],
   "source": []
  }
 ],
 "metadata": {
  "kernelspec": {
   "display_name": "Python 3 (ipykernel)",
   "language": "python",
   "name": "python3"
  },
  "language_info": {
   "codemirror_mode": {
    "name": "ipython",
    "version": 3
   },
   "file_extension": ".py",
   "mimetype": "text/x-python",
   "name": "python",
   "nbconvert_exporter": "python",
   "pygments_lexer": "ipython3",
   "version": "3.12.3"
  }
 },
 "nbformat": 4,
 "nbformat_minor": 5
}
